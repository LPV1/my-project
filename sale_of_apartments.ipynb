{
 "cells": [
  {
   "cell_type": "markdown",
   "metadata": {},
   "source": [
    "# Исследование объявлений о продаже квартир\n",
    "\n",
    "В нашем распоряжении данные сервиса Яндекс.Недвижимость — архив объявлений о продаже квартир в Санкт-Петербурге и соседних населённых пунктов за несколько лет. Нужно научиться определять рыночную стоимость объектов недвижимости. Задача — установить параметры. Это позволит построить автоматизированную систему: она отследит аномалии и мошенническую деятельность. \n",
    "\n",
    "По каждой квартире на продажу доступны два вида данных. Первые вписаны пользователем, вторые — получены автоматически на основе картографических данных. Например, расстояние до центра, аэропорта, ближайшего парка и водоёма. "
   ]
  },
  {
   "cell_type": "markdown",
   "metadata": {},
   "source": [
    "### Шаг 1. Откроем файл с данными и изучим общую информацию. "
   ]
  },
  {
   "cell_type": "code",
   "execution_count": 1,
   "metadata": {},
   "outputs": [
    {
     "name": "stdout",
     "output_type": "stream",
     "text": [
      "   total_images  last_price  total_area first_day_exposition  rooms  \\\n",
      "0            20  13000000.0       108.0  2019-03-07T00:00:00      3   \n",
      "1             7   3350000.0        40.4  2018-12-04T00:00:00      1   \n",
      "2            10   5196000.0        56.0  2015-08-20T00:00:00      2   \n",
      "3             0  64900000.0       159.0  2015-07-24T00:00:00      3   \n",
      "4             2  10000000.0       100.0  2018-06-19T00:00:00      2   \n",
      "\n",
      "   ceiling_height  floors_total  living_area  floor is_apartment  ...  \\\n",
      "0            2.70          16.0         51.0      8          NaN  ...   \n",
      "1             NaN          11.0         18.6      1          NaN  ...   \n",
      "2             NaN           5.0         34.3      4          NaN  ...   \n",
      "3             NaN          14.0          NaN      9          NaN  ...   \n",
      "4            3.03          14.0         32.0     13          NaN  ...   \n",
      "\n",
      "   kitchen_area  balcony    locality_name  airports_nearest  \\\n",
      "0          25.0      NaN  Санкт-Петербург           18863.0   \n",
      "1          11.0      2.0   посёлок Шушары           12817.0   \n",
      "2           8.3      0.0  Санкт-Петербург           21741.0   \n",
      "3           NaN      0.0  Санкт-Петербург           28098.0   \n",
      "4          41.0      NaN  Санкт-Петербург           31856.0   \n",
      "\n",
      "  cityCenters_nearest  parks_around3000  parks_nearest  ponds_around3000  \\\n",
      "0             16028.0               1.0          482.0               2.0   \n",
      "1             18603.0               0.0            NaN               0.0   \n",
      "2             13933.0               1.0           90.0               2.0   \n",
      "3              6800.0               2.0           84.0               3.0   \n",
      "4              8098.0               2.0          112.0               1.0   \n",
      "\n",
      "   ponds_nearest  days_exposition  \n",
      "0          755.0              NaN  \n",
      "1            NaN             81.0  \n",
      "2          574.0            558.0  \n",
      "3          234.0            424.0  \n",
      "4           48.0            121.0  \n",
      "\n",
      "[5 rows x 22 columns]\n",
      "<class 'pandas.core.frame.DataFrame'>\n",
      "RangeIndex: 23699 entries, 0 to 23698\n",
      "Data columns (total 22 columns):\n",
      "total_images            23699 non-null int64\n",
      "last_price              23699 non-null float64\n",
      "total_area              23699 non-null float64\n",
      "first_day_exposition    23699 non-null object\n",
      "rooms                   23699 non-null int64\n",
      "ceiling_height          14504 non-null float64\n",
      "floors_total            23613 non-null float64\n",
      "living_area             21796 non-null float64\n",
      "floor                   23699 non-null int64\n",
      "is_apartment            2775 non-null object\n",
      "studio                  23699 non-null bool\n",
      "open_plan               23699 non-null bool\n",
      "kitchen_area            21421 non-null float64\n",
      "balcony                 12180 non-null float64\n",
      "locality_name           23650 non-null object\n",
      "airports_nearest        18157 non-null float64\n",
      "cityCenters_nearest     18180 non-null float64\n",
      "parks_around3000        18181 non-null float64\n",
      "parks_nearest           8079 non-null float64\n",
      "ponds_around3000        18181 non-null float64\n",
      "ponds_nearest           9110 non-null float64\n",
      "days_exposition         20518 non-null float64\n",
      "dtypes: bool(2), float64(14), int64(3), object(3)\n",
      "memory usage: 3.7+ MB\n",
      "None\n"
     ]
    }
   ],
   "source": [
    "import pandas as pd \n",
    "import datetime\n",
    "import matplotlib.pyplot as plt\n",
    "\n",
    "#загрузим таблицу и получем информацию о ней\n",
    "data_real_estate = pd.read_csv('/datasets/real_estate_data.csv', sep='\\t')\n",
    "print(data_real_estate.head(5))\n",
    "print(data_real_estate.info())"
   ]
  },
  {
   "cell_type": "code",
   "execution_count": 2,
   "metadata": {},
   "outputs": [
    {
     "name": "stdout",
     "output_type": "stream",
     "text": [
      "365\n"
     ]
    },
    {
     "data": {
      "text/plain": [
       "array(['Санкт-Петербург', 'посёлок Шушары', 'городской посёлок Янино-1',\n",
       "       'посёлок Парголово', 'посёлок Мурино', 'Ломоносов', 'Сертолово',\n",
       "       'Петергоф', 'Пушкин', 'деревня Кудрово', 'Коммунар', 'Колпино',\n",
       "       'поселок городского типа Красный Бор', 'Гатчина', 'поселок Мурино',\n",
       "       'деревня Фёдоровское', 'Выборг', 'Кронштадт', 'Кировск',\n",
       "       'деревня Новое Девяткино', 'посёлок Металлострой',\n",
       "       'посёлок городского типа Лебяжье',\n",
       "       'посёлок городского типа Сиверский', 'поселок Молодцово',\n",
       "       'поселок городского типа Кузьмоловский',\n",
       "       'садовое товарищество Новая Ропша', 'Павловск',\n",
       "       'деревня Пикколово', 'Всеволожск', 'Волхов', 'Кингисепп',\n",
       "       'Приозерск', 'Сестрорецк', 'деревня Куттузи', 'посёлок Аннино',\n",
       "       'поселок городского типа Ефимовский', 'посёлок Плодовое',\n",
       "       'деревня Заклинье', 'поселок Торковичи', 'поселок Первомайское',\n",
       "       'Красное Село', 'посёлок Понтонный', 'Сясьстрой', 'деревня Старая',\n",
       "       'деревня Лесколово', 'посёлок Новый Свет', 'Сланцы',\n",
       "       'село Путилово', 'Ивангород', 'Мурино', 'Шлиссельбург',\n",
       "       'Никольское', 'Зеленогорск', 'Сосновый Бор', 'поселок Новый Свет',\n",
       "       'деревня Оржицы', 'деревня Кальтино', 'Кудрово',\n",
       "       'поселок Романовка', 'посёлок Бугры', 'поселок Бугры',\n",
       "       'поселок городского типа Рощино', 'Кириши', 'Луга', 'Волосово',\n",
       "       'Отрадное', 'село Павлово', 'поселок Оредеж', 'село Копорье',\n",
       "       'посёлок городского типа Красный Бор', 'посёлок Молодёжное',\n",
       "       'Тихвин', 'посёлок Победа', 'деревня Нурма',\n",
       "       'поселок городского типа Синявино', 'Тосно',\n",
       "       'посёлок городского типа Кузьмоловский', 'посёлок Стрельна',\n",
       "       'Бокситогорск', 'посёлок Александровская', 'деревня Лопухинка',\n",
       "       'Пикалёво', 'поселок Терволово',\n",
       "       'поселок городского типа Советский', 'Подпорожье',\n",
       "       'посёлок Петровское', 'посёлок городского типа Токсово',\n",
       "       'поселок Сельцо', 'посёлок городского типа Вырица',\n",
       "       'деревня Кипень', 'деревня Келози', 'деревня Вартемяги',\n",
       "       'посёлок Тельмана', 'поселок Севастьяново',\n",
       "       'городской поселок Большая Ижора', nan,\n",
       "       'городской посёлок Павлово', 'деревня Агалатово',\n",
       "       'посёлок Новогорелово', 'городской посёлок Лесогорский',\n",
       "       'деревня Лаголово', 'поселок Цвелодубово',\n",
       "       'поселок городского типа Рахья', 'поселок городского типа Вырица',\n",
       "       'деревня Белогорка', 'поселок Заводской',\n",
       "       'городской посёлок Новоселье', 'деревня Большие Колпаны',\n",
       "       'деревня Горбунки', 'деревня Батово', 'деревня Заневка',\n",
       "       'деревня Иссад', 'Приморск', 'городской посёлок Фёдоровское',\n",
       "       'деревня Мистолово', 'Новая Ладога', 'поселок Зимитицы',\n",
       "       'поселок Барышево', 'деревня Разметелево',\n",
       "       'поселок городского типа имени Свердлова', 'деревня Пеники',\n",
       "       'поселок Рябово', 'деревня Пудомяги', 'поселок станции Корнево',\n",
       "       'деревня Низино', 'деревня Бегуницы', 'посёлок Поляны',\n",
       "       'городской посёлок Мга', 'поселок Елизаветино',\n",
       "       'посёлок городского типа Кузнечное', 'деревня Колтуши',\n",
       "       'поселок Запорожское', 'посёлок городского типа Рощино',\n",
       "       'деревня Гостилицы', 'деревня Малое Карлино',\n",
       "       'посёлок Мичуринское', 'посёлок городского типа имени Морозова',\n",
       "       'посёлок Песочный', 'посёлок Сосново', 'деревня Аро',\n",
       "       'поселок Ильичёво', 'посёлок городского типа Тайцы',\n",
       "       'деревня Малое Верево', 'деревня Извара', 'поселок станции Вещево',\n",
       "       'село Паша', 'деревня Калитино',\n",
       "       'посёлок городского типа Ульяновка', 'деревня Чудской Бор',\n",
       "       'поселок городского типа Дубровка', 'деревня Мины',\n",
       "       'поселок Войсковицы', 'посёлок городского типа имени Свердлова',\n",
       "       'деревня Коркино', 'посёлок Ропша',\n",
       "       'поселок городского типа Приладожский', 'посёлок Щеглово',\n",
       "       'посёлок Гаврилово', 'Лодейное Поле', 'деревня Рабитицы',\n",
       "       'поселок городского типа Никольский', 'деревня Кузьмолово',\n",
       "       'деревня Малые Колпаны', 'поселок Тельмана',\n",
       "       'посёлок Петро-Славянка', 'городской посёлок Назия',\n",
       "       'посёлок Репино', 'посёлок Ильичёво', 'поселок Углово',\n",
       "       'поселок Старая Малукса', 'садовое товарищество Рахья',\n",
       "       'поселок Аннино', 'поселок Победа', 'деревня Меньково',\n",
       "       'деревня Старые Бегуницы', 'посёлок Сапёрный', 'поселок Семрино',\n",
       "       'поселок Гаврилово', 'поселок Глажево', 'поселок Кобринское',\n",
       "       'деревня Гарболово', 'деревня Юкки',\n",
       "       'поселок станции Приветнинское', 'деревня Мануйлово',\n",
       "       'деревня Пчева', 'поселок Поляны', 'поселок Цвылёво',\n",
       "       'поселок Мельниково', 'посёлок Пудость', 'посёлок Усть-Луга',\n",
       "       'Светогорск', 'Любань', 'поселок Селезнёво',\n",
       "       'поселок городского типа Рябово', 'Каменногорск', 'деревня Кривко',\n",
       "       'поселок Глебычево', 'деревня Парицы', 'поселок Жилпосёлок',\n",
       "       'посёлок городского типа Мга', 'городской поселок Янино-1',\n",
       "       'посёлок Войскорово', 'село Никольское', 'посёлок Терволово',\n",
       "       'поселок Стеклянный', 'посёлок городского типа Важины',\n",
       "       'посёлок Мыза-Ивановка', 'село Русско-Высоцкое',\n",
       "       'поселок городского типа Лебяжье',\n",
       "       'поселок городского типа Форносово', 'село Старая Ладога',\n",
       "       'поселок Житково', 'городской посёлок Виллози', 'деревня Лампово',\n",
       "       'деревня Шпаньково', 'деревня Лаврики', 'посёлок Сумино',\n",
       "       'посёлок Возрождение', 'деревня Старосиверская',\n",
       "       'посёлок Кикерино', 'поселок Возрождение',\n",
       "       'деревня Старое Хинколово', 'посёлок Пригородный',\n",
       "       'посёлок Торфяное', 'городской посёлок Будогощь',\n",
       "       'поселок Суходолье', 'поселок Красная Долина', 'деревня Хапо-Ое',\n",
       "       'поселок городского типа Дружная Горка', 'поселок Лисий Нос',\n",
       "       'деревня Яльгелево', 'посёлок Стеклянный', 'село Рождествено',\n",
       "       'деревня Старополье', 'посёлок Левашово', 'деревня Сяськелево',\n",
       "       'деревня Камышовка',\n",
       "       'садоводческое некоммерческое товарищество Лесная Поляна',\n",
       "       'деревня Хязельки', 'поселок Жилгородок',\n",
       "       'посёлок городского типа Павлово', 'деревня Ялгино',\n",
       "       'поселок Новый Учхоз', 'городской посёлок Рощино',\n",
       "       'поселок Гончарово', 'поселок Почап', 'посёлок Сапёрное',\n",
       "       'посёлок Платформа 69-й километр', 'поселок Каложицы',\n",
       "       'деревня Фалилеево', 'деревня Пельгора',\n",
       "       'поселок городского типа Лесогорский', 'деревня Торошковичи',\n",
       "       'посёлок Белоостров', 'посёлок Алексеевка', 'поселок Серебрянский',\n",
       "       'поселок Лукаши', 'поселок Петровское', 'деревня Щеглово',\n",
       "       'поселок Мичуринское', 'деревня Тарасово', 'поселок Кингисеппский',\n",
       "       'посёлок при железнодорожной станции Вещево', 'поселок Ушаки',\n",
       "       'деревня Котлы', 'деревня Сижно', 'деревня Торосово',\n",
       "       'посёлок Форт Красная Горка', 'поселок городского типа Токсово',\n",
       "       'деревня Новолисино', 'посёлок станции Громово', 'деревня Глинка',\n",
       "       'посёлок Мельниково', 'поселок городского типа Назия',\n",
       "       'деревня Старая Пустошь', 'поселок Коммунары', 'поселок Починок',\n",
       "       'посёлок городского типа Вознесенье', 'деревня Разбегаево',\n",
       "       'посёлок городского типа Рябово', 'поселок Гладкое',\n",
       "       'посёлок при железнодорожной станции Приветнинское',\n",
       "       'поселок Тёсово-4', 'посёлок Жилгородок', 'деревня Бор',\n",
       "       'посёлок Коробицыно', 'деревня Большая Вруда', 'деревня Курковицы',\n",
       "       'посёлок Лисий Нос', 'городской посёлок Советский',\n",
       "       'посёлок Кобралово', 'деревня Суоранда', 'поселок Кобралово',\n",
       "       'поселок городского типа Кондратьево',\n",
       "       'коттеджный поселок Счастье', 'поселок Любань', 'деревня Реброво',\n",
       "       'деревня Зимитицы', 'деревня Тойворово', 'поселок Семиозерье',\n",
       "       'поселок Лесное', 'поселок Совхозный', 'поселок Усть-Луга',\n",
       "       'посёлок Ленинское', 'посёлок Суйда',\n",
       "       'посёлок городского типа Форносово', 'деревня Нижние Осельки',\n",
       "       'посёлок станции Свирь', 'поселок Перово', 'Высоцк',\n",
       "       'поселок Гарболово', 'село Шум', 'поселок Котельский',\n",
       "       'поселок станции Лужайка', 'деревня Большая Пустомержа',\n",
       "       'поселок Красносельское', 'деревня Вахнова Кара', 'деревня Пижма',\n",
       "       'коттеджный поселок Кивеннапа Север', 'поселок Коробицыно',\n",
       "       'поселок Ромашки', 'посёлок Перово', 'деревня Каськово',\n",
       "       'деревня Куровицы', 'посёлок Плоское', 'поселок Сумино',\n",
       "       'поселок городского типа Большая Ижора', 'поселок Кирпичное',\n",
       "       'деревня Ям-Тесово', 'деревня Раздолье', 'деревня Терпилицы',\n",
       "       'посёлок Шугозеро', 'деревня Ваганово', 'поселок Пушное',\n",
       "       'садовое товарищество Садко', 'посёлок Усть-Ижора',\n",
       "       'деревня Выскатка', 'городской посёлок Свирьстрой',\n",
       "       'поселок Громово', 'деревня Кисельня', 'посёлок Старая Малукса',\n",
       "       'деревня Трубников Бор', 'поселок Калитино',\n",
       "       'посёлок Высокоключевой', 'садовое товарищество Приладожский',\n",
       "       'посёлок Пансионат Зелёный Бор', 'деревня Ненимяки',\n",
       "       'поселок Пансионат Зелёный Бор', 'деревня Снегирёвка',\n",
       "       'деревня Рапполово', 'деревня Пустынка', 'поселок Рабитицы',\n",
       "       'деревня Большой Сабск', 'деревня Русско', 'деревня Лупполово',\n",
       "       'деревня Большое Рейзино', 'деревня Малая Романовка',\n",
       "       'поселок Дружноселье', 'поселок Пчевжа', 'поселок Володарское',\n",
       "       'деревня Нижняя', 'коттеджный посёлок Лесное', 'деревня Тихковицы',\n",
       "       'деревня Борисова Грива', 'посёлок Дзержинского'], dtype=object)"
      ]
     },
     "execution_count": 2,
     "metadata": {},
     "output_type": "execute_result"
    }
   ],
   "source": [
    "#посмотрим количество населеных пунктов охваченных иследованием\n",
    "print(len(data_real_estate['locality_name'].unique()))\n",
    "#посмотрим список населенных пунктов\n",
    "data_real_estate['locality_name'].unique()"
   ]
  },
  {
   "cell_type": "markdown",
   "metadata": {},
   "source": [
    "### В таблице имеется 22 столбца и 23699 объявлений о продаже квартир, в разных столбцах разное количество значенний non-null - следовательно имеются пропущенные значения, разные типы данных. булев тип -2, вешественное число -14, целое -3 и текстовые -3. Всего используются данные по 365 населенным пунктам. "
   ]
  },
  {
   "cell_type": "markdown",
   "metadata": {},
   "source": [
    "### Шаг 2. Предобработка данных"
   ]
  },
  {
   "cell_type": "code",
   "execution_count": 3,
   "metadata": {},
   "outputs": [
    {
     "name": "stdout",
     "output_type": "stream",
     "text": [
      "total_images                0\n",
      "last_price                  0\n",
      "total_area                  0\n",
      "first_day_exposition        0\n",
      "rooms                       0\n",
      "ceiling_height           9195\n",
      "floors_total               86\n",
      "living_area              1903\n",
      "floor                       0\n",
      "is_apartment            20924\n",
      "studio                      0\n",
      "open_plan                   0\n",
      "kitchen_area             2278\n",
      "balcony                 11519\n",
      "locality_name              49\n",
      "airports_nearest         5542\n",
      "cityCenters_nearest      5519\n",
      "parks_around3000         5518\n",
      "parks_nearest           15620\n",
      "ponds_around3000         5518\n",
      "ponds_nearest           14589\n",
      "days_exposition          3181\n",
      "dtype: int64\n"
     ]
    }
   ],
   "source": [
    "#проверяем наличие пропусков в столбцах\n",
    "print(data_real_estate.isnull().sum())\n",
    "#в таблице имеются пропуски в столбцах: высота потолков, всего этажей в доме, жилая площадь, аппартаменты, площадь кухни, балкон,\n",
    "#название населеного пунктаб растояние до центра, аэропорта, парка и водоема, количество парков и водоемов \n",
    "\n",
    "#название населеного пункта важный показатель для проведения анализа, без этого показатнеля не возможно установить взаимосвязь \n",
    "#цены и расположения, в полученой таблице малое количество пропусков (49) удалим их\n",
    "data_real_estate.dropna(subset = ['locality_name'], inplace = True)"
   ]
  },
  {
   "cell_type": "code",
   "execution_count": 4,
   "metadata": {},
   "outputs": [
    {
     "data": {
      "text/plain": [
       "total_images               0\n",
       "last_price                 0\n",
       "total_area                 0\n",
       "first_day_exposition       0\n",
       "rooms                      0\n",
       "ceiling_height          3543\n",
       "floors_total              15\n",
       "living_area              758\n",
       "floor                      0\n",
       "is_apartment            7002\n",
       "studio                     0\n",
       "open_plan                  0\n",
       "kitchen_area             890\n",
       "balcony                 3801\n",
       "locality_name              0\n",
       "airports_nearest        5449\n",
       "cityCenters_nearest     5450\n",
       "parks_around3000        5449\n",
       "parks_nearest           7149\n",
       "ponds_around3000        5449\n",
       "ponds_nearest           6827\n",
       "days_exposition         1097\n",
       "dtype: int64"
      ]
     },
     "execution_count": 4,
     "metadata": {},
     "output_type": "execute_result"
    }
   ],
   "source": [
    "#посмотрим связь наличия пропусков и населеного пункта\n",
    "data_real_estate.query('locality_name != \"Санкт-Петербург\"').isnull().sum()\n"
   ]
  },
  {
   "cell_type": "markdown",
   "metadata": {},
   "source": [
    "#### наблюдаем, что основная масса пропусков по растоянию до центра, аэропорта, парка и водоема и количество парков и водоемов приходятся не на Санкт-Петербург, а на более мелкие населенные пукты и так как эти столбы имеют значительное влияние на анализ только для Санкт-Петербурга то оставим их незаполнеными"
   ]
  },
  {
   "cell_type": "code",
   "execution_count": 5,
   "metadata": {},
   "outputs": [
    {
     "name": "stdout",
     "output_type": "stream",
     "text": [
      "count    14490.000000\n",
      "mean         2.771287\n",
      "std          1.261593\n",
      "min          1.000000\n",
      "25%          2.520000\n",
      "50%          2.650000\n",
      "75%          2.800000\n",
      "max        100.000000\n",
      "Name: ceiling_height, dtype: float64\n"
     ]
    }
   ],
   "source": [
    "#проверим распределение высоты потолков\n",
    "print(data_real_estate['ceiling_height'].describe())\n",
    "# заполним пропуски медианными значениями\n",
    "data_real_estate['ceiling_height'] = data_real_estate['ceiling_height'].fillna(data_real_estate['ceiling_height'].median())\n"
   ]
  },
  {
   "cell_type": "markdown",
   "metadata": {},
   "source": [
    "#### в следствии того, что высота потолков в диапозоне от 25% до 75% колеблится в достаточно малых значениях и  имеют в большей массе стандартные значения (хотя прсутствуют выбросы min = 1 max = 100) заполним пропуски медианными значениями"
   ]
  },
  {
   "cell_type": "code",
   "execution_count": 6,
   "metadata": {},
   "outputs": [],
   "source": [
    "#показатель наличия балкона может отсутствовать в следствии отсутствия балкона - заменинм протуски на нулевые значения\n",
    "data_real_estate['balcony'] = data_real_estate['balcony'].fillna(0)"
   ]
  },
  {
   "cell_type": "code",
   "execution_count": 7,
   "metadata": {},
   "outputs": [
    {
     "name": "stdout",
     "output_type": "stream",
     "text": [
      "                max      mean  median  min\n",
      "locality_name                             \n",
      "Бокситогорск    5.0  4.187500     5.0  3.0\n",
      "Волосово        5.0  4.555556     5.0  1.0\n",
      "Волхов          9.0  4.855856     5.0  2.0\n",
      "Всеволожск     23.0  8.391960     9.0  2.0\n",
      "Выборг         15.0  5.873418     5.0  2.0\n",
      "Высоцк          5.0  3.750000     4.5  1.0\n",
      "Гатчина        18.0  5.700326     5.0  2.0\n",
      "Зеленогорск     9.0  4.250000     4.0  1.0\n",
      "Ивангород       9.0  4.892857     5.0  2.0\n",
      "Каменногорск    5.0  4.538462     5.0  2.0\n"
     ]
    }
   ],
   "source": [
    "# посмотрим показатель количество этажей в здании\n",
    "d=data_real_estate.pivot_table(index=['locality_name'], values='floors_total', aggfunc=('mean', 'min', 'max','median'))\n",
    "print(d.head(10))\n",
    "# удалим строки с пропусками\n",
    "data_real_estate.dropna(subset = ['floors_total'], inplace = True)"
   ]
  },
  {
   "cell_type": "markdown",
   "metadata": {},
   "source": [
    "#### количество этажей в здании параметр влияющий на анализ зависимости от расположения недвижимости на последнем этаже, разброс количества этажей не позволяет достоверно заполнить пропуск и учитывая их малое количество удалим строки с пропусками"
   ]
  },
  {
   "cell_type": "code",
   "execution_count": 8,
   "metadata": {},
   "outputs": [],
   "source": [
    "# заполним пропуски в жилой площади и площади кухни на основе медианных значений в зависимости от количества комнат в квартире   \n",
    "data_real_estate['living_area'].fillna(data_real_estate.groupby('rooms')['living_area'].transform('median'), inplace=True) \n",
    "data_real_estate['kitchen_area'].fillna(data_real_estate.groupby('rooms')['kitchen_area'].transform('median'), inplace=True)\n",
    "data_real_estate.isnull().sum()\n",
    "data_real_estate.query('rooms == 0')\n",
    "# по столбцу площадь кухни стались пропуски, при этом все они встречаются по Санкт Петербургу и соответсквует количеству\n",
    "# комнат = 0. Можно предположить, что имеем дело со студиями, и принять параметр за 0\n",
    "data_real_estate['kitchen_area'] = data_real_estate['kitchen_area'].fillna(0)"
   ]
  },
  {
   "cell_type": "code",
   "execution_count": 9,
   "metadata": {},
   "outputs": [
    {
     "data": {
      "text/plain": [
       "total_images                0\n",
       "last_price                  0\n",
       "total_area                  0\n",
       "first_day_exposition        0\n",
       "rooms                       0\n",
       "ceiling_height              0\n",
       "floors_total                0\n",
       "living_area                 0\n",
       "floor                       0\n",
       "is_apartment            20805\n",
       "studio                      0\n",
       "open_plan                   0\n",
       "kitchen_area                0\n",
       "balcony                     0\n",
       "locality_name               0\n",
       "airports_nearest         5524\n",
       "cityCenters_nearest         0\n",
       "parks_around3000         5500\n",
       "parks_nearest           15535\n",
       "ponds_around3000         5500\n",
       "ponds_nearest           14529\n",
       "days_exposition          3171\n",
       "dtype: int64"
      ]
     },
     "execution_count": 9,
     "metadata": {},
     "output_type": "execute_result"
    }
   ],
   "source": [
    "# параметр растояние до центра имеет значение только для Санкт-Петербурга попробуем максимально заполнить пропуски\n",
    "# медианными значениями в соответствии с населенными пунктами\n",
    "data_real_estate['cityCenters_nearest'].fillna(data_real_estate.groupby('locality_name')['cityCenters_nearest'].transform('median'), inplace=True) \n",
    "# проверим результат\n",
    "data_real_estate.isnull().sum()\n",
    "data_real_estate.query('locality_name == \"Санкт-Петербург\"').isnull().sum()\n",
    "# видим по Санкт-Петербургу пропуски заполнены и учитывая малое их количеству по городу нас это устроит, по другим снижение\n",
    "#количества пропусков незначительно заполним оставшиеся пропуски на 0 так как в дальнешем данные по ним использовать не будем\n",
    "data_real_estate['cityCenters_nearest'] = data_real_estate['cityCenters_nearest'].fillna(0)\n",
    "data_real_estate.isnull().sum()"
   ]
  },
  {
   "cell_type": "code",
   "execution_count": 10,
   "metadata": {},
   "outputs": [],
   "source": [
    "# в столбце \"сколько дней было размещено объявление\" наблюдаем пропуски, вероятно на момент получения \n",
    "#информации объявление небыло снято. применим для них индикаторные значения (-1)\n",
    "data_real_estate['days_exposition'] = data_real_estate['days_exposition'].fillna(-1)"
   ]
  },
  {
   "cell_type": "code",
   "execution_count": 11,
   "metadata": {},
   "outputs": [],
   "source": [
    "# переведем значения в столбце first_day_exposition в формат даты \n",
    "data_real_estate['first_day_exposition'] = pd.to_datetime(data_real_estate['first_day_exposition'],\n",
    "                                                          format='%Y.%m.%dT%H:%M:%S')"
   ]
  },
  {
   "cell_type": "code",
   "execution_count": 12,
   "metadata": {},
   "outputs": [],
   "source": [
    "#расмотрим типы данных. заменим тип вещественное число на целое \n",
    "data_real_estate['last_price'] = data_real_estate['last_price'].astype('int')\n",
    "data_real_estate['floors_total'] = data_real_estate['floors_total'].astype('int')\n",
    "data_real_estate['total_area'] = data_real_estate['total_area'].astype('int')\n",
    "data_real_estate['balcony'] = data_real_estate['balcony'].astype('int')\n",
    "data_real_estate['living_area'] = data_real_estate['living_area'].astype('int')\n",
    "data_real_estate['kitchen_area'] = data_real_estate['kitchen_area'].astype('int')\n",
    "data_real_estate['days_exposition'] = data_real_estate['days_exposition'].astype('int')\n",
    "data_real_estate['cityCenters_nearest'] = data_real_estate['cityCenters_nearest'].astype('int')"
   ]
  },
  {
   "cell_type": "markdown",
   "metadata": {},
   "source": [
    "#### заменим тип данных в столбцах которые подразумевают парамертры в целых числах без дробной части\n"
   ]
  },
  {
   "cell_type": "markdown",
   "metadata": {},
   "source": [
    "#### При расмотрении таблицы можно заметить наличие пропусков во многих столбцах, данные из которых могут применятся в расчетах: высота потолков, всего этажей в доме, жилая площадь,  аппартаменты, площадь кухни, балкон, название населеного пункта, растояние до центра, аэропорта, парка и водоема, количество парков и водоемов.\n",
    "####   Высота потолков обычно имеет стандартные значения в определенном промежутке поэтому заменим пропуски на значения медианы. Количество этажей в доме имеет значение для определения расположения квартиры на последнем или другом этаже, учитывая малое количество пропуско (86), данными в этих строках можно пожертвовать и удалить строки с пропусками. \n",
    "####   Аналогично с названием населеного пункта - без этих данных невозможно установить взаимосвязь между населенным пунктом и продажей квартиры и учитывая малое количество (49) также удалим строки с пропусками.  \n",
    "####   Значения используемые для замены пропусков в столбцах указывающих жилую площадь и площадь кухни заполним медиаными значениями на основе группировки по количеству комнат в квартире предполагая, что квартиры со схожим количеством комнат имеют схожее соотношение площадей помещений. При этом в данном случае осталось 196 не заполненых значений, при просмотре замечено, что эти пропуски соответствуют количеству комнат = 0, возможно владельцы по какой то причине не разделяли квартиру на комнаты и другие помещения, как вариант студия или комунальная квартира - заменим оставшиеся пропуски на 0. \n",
    "####   Растояние до центра были получены автоматически на основе картографических данных. возникновение пропусков можно объяснить указание адреса в неправильном формате или с ошибками. Заменим, основываясь на значениях медианы по группам сформированным по названию населенного пункта, заполним пропускию После заполения осталось значительное количество пропусков относящихся к другим населеным пунктам (относительно Санкт-Петербурга), вероятно для этих поселений данный параметр не расчитывался и приниматся в расчет в дальнейшем не будет - заменим остаток на 0. \n",
    "####   Столбец с информацией о количестве размещения объявления до снятия содержит пропуски вероятно вследствии того, что на момент формирования данных продажа квартиры не состоялась, для использования столбца в расчетах заменим пропуски на медиану.\n",
    " "
   ]
  },
  {
   "cell_type": "markdown",
   "metadata": {},
   "source": [
    "### Шаг 3. Посчитайте и добавьте в таблицу"
   ]
  },
  {
   "cell_type": "code",
   "execution_count": 13,
   "metadata": {},
   "outputs": [],
   "source": [
    "# посчитаем и добавим в таблицу цену квадратного метра\n",
    "data_real_estate['price_meter'] = data_real_estate['last_price'] / data_real_estate['living_area']\n",
    "data_real_estate['price_meter'] = data_real_estate['price_meter'].astype('int')"
   ]
  },
  {
   "cell_type": "code",
   "execution_count": 14,
   "metadata": {},
   "outputs": [],
   "source": [
    "# добавим день недели, месяц и год публикации объявления\n",
    "data_real_estate['data'] =  data_real_estate['first_day_exposition'].dt.strftime('%w%m%Y')\n",
    "data_real_estate['data'] = data_real_estate['data'].astype('int')"
   ]
  },
  {
   "cell_type": "code",
   "execution_count": 15,
   "metadata": {},
   "outputs": [],
   "source": [
    "#  добавим столбец этаж квартиры; варианты — первый, последний, другой\n",
    "try:\n",
    "    def name_floor(row):\n",
    "        floor = row['floor']\n",
    "        floor_total = row['floors_total']\n",
    "        if floor == 1:\n",
    "            return 'первый'\n",
    "        if floor == floor_total:\n",
    "            return 'последний'\n",
    "        else:\n",
    "            return 'другой'\n",
    "    #применим функцию к словарю\n",
    "    data_real_estate['floor_name'] = data_real_estate.apply(name_floor, axis=1)\n",
    "except:\n",
    "    print('Столбец этажи не добавился')"
   ]
  },
  {
   "cell_type": "code",
   "execution_count": 16,
   "metadata": {},
   "outputs": [],
   "source": [
    "# добавим столбецы соотношение жилой и общей площади, а также отношение площади кухни к общей \n",
    "data_real_estate['ratio_living'] = data_real_estate['living_area'] / data_real_estate['total_area']\n",
    "data_real_estate['ratio_kitchen'] = data_real_estate['kitchen_area'] / data_real_estate['total_area']"
   ]
  },
  {
   "cell_type": "markdown",
   "metadata": {},
   "source": [
    "### Шаг 4. Проведем исследовательский анализ данных и выполним инструкции:"
   ]
  },
  {
   "cell_type": "code",
   "execution_count": 17,
   "metadata": {},
   "outputs": [
    {
     "data": {
      "text/plain": [
       "<matplotlib.axes._subplots.AxesSubplot at 0x7fe993058630>"
      ]
     },
     "execution_count": 17,
     "metadata": {},
     "output_type": "execute_result"
    },
    {
     "data": {
      "image/png": "[encoded data removed]",
      "text/plain": [
       "<Figure size 576x216 with 1 Axes>"
      ]
     },
     "metadata": {
      "needs_background": "light"
     },
     "output_type": "display_data"
    }
   ],
   "source": [
    "# построим гистограму основаную на даных о площади квартир\n",
    "data_real_estate['total_area'].hist(bins=50, figsize = (8,3), range = (0,200))"
   ]
  },
  {
   "cell_type": "markdown",
   "metadata": {},
   "source": [
    "#### можно заметить, что основная масса квартир имеет площадь от 30 до 75 квадратных метров, наиболее распостранена площадь 40-45 кв.м."
   ]
  },
  {
   "cell_type": "code",
   "execution_count": 18,
   "metadata": {},
   "outputs": [
    {
     "name": "stdout",
     "output_type": "stream",
     "text": [
      "6540058.260004244\n"
     ]
    },
    {
     "data": {
      "text/plain": [
       "<matplotlib.axes._subplots.AxesSubplot at 0x7fe992eee3c8>"
      ]
     },
     "execution_count": 18,
     "metadata": {},
     "output_type": "execute_result"
    },
    {
     "data": {
      "image/png": "[encoded data removed]",
      "text/plain": [
       "<Figure size 432x288 with 1 Axes>"
      ]
     },
     "metadata": {
      "needs_background": "light"
     },
     "output_type": "display_data"
    }
   ],
   "source": [
    "# построим гистограму основаную на данных о цене квартир\n",
    "print(data_real_estate['last_price'].mean())\n",
    "data_real_estate['last_price'].hist(bins=100, range = (0,30000000))"
   ]
  },
  {
   "cell_type": "markdown",
   "metadata": {},
   "source": [
    "#### видим, что наиболее распостранены предложения со стоимостью квартиры в диапазоне от 2 млн. до 7,5 млн. рублей "
   ]
  },
  {
   "cell_type": "code",
   "execution_count": 19,
   "metadata": {},
   "outputs": [
    {
     "data": {
      "text/plain": [
       "<matplotlib.axes._subplots.AxesSubplot at 0x7fe99272bba8>"
      ]
     },
     "execution_count": 19,
     "metadata": {},
     "output_type": "execute_result"
    },
    {
     "data": {
      "image/png": "[encoded data removed]",
      "text/plain": [
       "<Figure size 576x216 with 1 Axes>"
      ]
     },
     "metadata": {
      "needs_background": "light"
     },
     "output_type": "display_data"
    }
   ],
   "source": [
    "# построим гистограму основаную на данных о числе комнат в квартирах\n",
    "data_real_estate['rooms'].hist(bins=100, figsize = (8,3), range = (0,10))"
   ]
  },
  {
   "cell_type": "markdown",
   "metadata": {},
   "source": [
    "#### в объявлениях о продаже в основном представленны одно- и двух- комнатные квартиры, достаточно большое предложение трехкамнатных квартир, далее наблюдается резкий спад предложения с увеличением количества комнат"
   ]
  },
  {
   "cell_type": "code",
   "execution_count": 20,
   "metadata": {},
   "outputs": [
    {
     "data": {
      "text/plain": [
       "<matplotlib.axes._subplots.AxesSubplot at 0x7fe99053a080>"
      ]
     },
     "execution_count": 20,
     "metadata": {},
     "output_type": "execute_result"
    },
    {
     "data": {
      "image/png": "[encoded data removed]",
      "text/plain": [
       "<Figure size 432x288 with 1 Axes>"
      ]
     },
     "metadata": {
      "needs_background": "light"
     },
     "output_type": "display_data"
    }
   ],
   "source": [
    "# построим гистограму основаную на данных о высоте потолков в квартирах\n",
    "data_real_estate['ceiling_height'].hist(bins = 100, range = (2,4) )"
   ]
  },
  {
   "cell_type": "markdown",
   "metadata": {},
   "source": [
    "#### построеная гистограмма указывает, что высота потолков в большинстве квартир находится около 2.65 метров, достаточно заметную часть составляет высота около 2,5 метра (вероятно квартиры в старых постройках), с увеличением высоты потолков количество предложений уменьшается\n"
   ]
  },
  {
   "cell_type": "code",
   "execution_count": 49,
   "metadata": {},
   "outputs": [
    {
     "data": {
      "text/plain": [
       "<matplotlib.axes._subplots.AxesSubplot at 0x7fe98f8c0eb8>"
      ]
     },
     "execution_count": 49,
     "metadata": {},
     "output_type": "execute_result"
    },
    {
     "data": {
      "image/png": "[encoded data removed]",
      "text/plain": [
       "<Figure size 576x216 with 1 Axes>"
      ]
     },
     "metadata": {
      "needs_background": "light"
     },
     "output_type": "display_data"
    }
   ],
   "source": [
    "# отсортируем по столбцу срок размещения исключив индикаторные значения\n",
    "data = data_real_estate.query('days_exposition != -1') \n",
    "# построим гистограму основаную на данных о времени продажи квартир\n",
    "data['days_exposition'].hist(bins=100, figsize = (8,3),  range = (0,600))"
   ]
  },
  {
   "cell_type": "code",
   "execution_count": 47,
   "metadata": {},
   "outputs": [
    {
     "data": {
      "text/plain": [
       "count    20394.000000\n",
       "mean       180.741395\n",
       "std        219.732782\n",
       "min          1.000000\n",
       "25%         45.000000\n",
       "50%         95.000000\n",
       "75%        231.000000\n",
       "max       1580.000000\n",
       "Name: days_exposition, dtype: float64"
      ]
     },
     "execution_count": 47,
     "metadata": {},
     "output_type": "execute_result"
    }
   ],
   "source": [
    "# посмотрим средние и медианные значения для данных о времени продажи кварти\n",
    "data['days_exposition'].describe()\n"
   ]
  },
  {
   "cell_type": "markdown",
   "metadata": {},
   "source": [
    "#### на основании построиной гистограммы и полученных средних и медианых значений, можно утверждать, что в среднем продажа квартиры занимает 180 дней. Основная масса квартир продается в период от 45 до 231 дня. Если взять во внимание значение медианы, то предполагается, что самое рапостраненный срок продажи 95 дней. При сроке продажи менее 45 суток можно сказать, что продажа прошла необычно быстро, а при сроке более 231 суток - необычно долго\n"
   ]
  },
  {
   "cell_type": "code",
   "execution_count": 23,
   "metadata": {},
   "outputs": [
    {
     "data": {
      "text/plain": [
       "<matplotlib.axes._subplots.AxesSubplot at 0x7fe992e3d470>"
      ]
     },
     "execution_count": 23,
     "metadata": {},
     "output_type": "execute_result"
    },
    {
     "data": {
      "image/png": "[encoded data removed]",
      "text/plain": [
       "<Figure size 1080x216 with 1 Axes>"
      ]
     },
     "metadata": {
      "needs_background": "light"
     },
     "output_type": "display_data"
    }
   ],
   "source": [
    "# построим диаграмму размаха\n",
    "data_real_estate.boxplot('days_exposition', vert=False, figsize=(15,3))"
   ]
  },
  {
   "cell_type": "markdown",
   "metadata": {},
   "source": [
    "#### постороив диаграмму размаха можно отсечь редкие и выбивающиеся значения в сроке продажи. Так мы видим, что значения заслуживающие внимания находятся в диапазоне от 0 до 425 дней. То что правее правого уса можно принят за выбросы и редко встречающиеся данные. Среднее тяготеет к левой стороне и ориентировочно приходится на 100 дней."
   ]
  },
  {
   "cell_type": "code",
   "execution_count": 24,
   "metadata": {},
   "outputs": [
    {
     "data": {
      "text/plain": [
       "0.6535994047960907"
      ]
     },
     "execution_count": 24,
     "metadata": {},
     "output_type": "execute_result"
    }
   ],
   "source": [
    "# иследуем наличие зависимости цены от квадратного метра (площади квартиры)\n",
    "data_real_estate['last_price'].corr(data_real_estate['total_area'])"
   ]
  },
  {
   "cell_type": "code",
   "execution_count": 25,
   "metadata": {},
   "outputs": [
    {
     "data": {
      "text/plain": [
       "0.3631905485065748"
      ]
     },
     "execution_count": 25,
     "metadata": {},
     "output_type": "execute_result"
    }
   ],
   "source": [
    "# иследуем наличие зависимости цены от количества комнат \n",
    "data_real_estate['last_price'].corr(data_real_estate['rooms'])"
   ]
  },
  {
   "cell_type": "code",
   "execution_count": 26,
   "metadata": {},
   "outputs": [
    {
     "data": {
      "text/plain": [
       "-0.048136599487533134"
      ]
     },
     "execution_count": 26,
     "metadata": {},
     "output_type": "execute_result"
    }
   ],
   "source": [
    "# иследуем наличие зависимости цены от растояния до центра\n",
    "data_real_estate['last_price'].corr(data_real_estate['cityCenters_nearest'])"
   ]
  },
  {
   "cell_type": "code",
   "execution_count": 27,
   "metadata": {},
   "outputs": [
    {
     "name": "stderr",
     "output_type": "stream",
     "text": [
      "/opt/conda/lib/python3.7/site-packages/ipykernel_launcher.py:15: SettingWithCopyWarning: \n",
      "A value is trying to be set on a copy of a slice from a DataFrame.\n",
      "Try using .loc[row_indexer,col_indexer] = value instead\n",
      "\n",
      "See the caveats in the documentation: http://pandas.pydata.org/pandas-docs/stable/user_guide/indexing.html#returning-a-view-versus-a-copy\n",
      "  from ipykernel import kernelapp as app\n"
     ]
    },
    {
     "data": {
      "text/plain": [
       "0.04124720981991685"
      ]
     },
     "execution_count": 27,
     "metadata": {},
     "output_type": "execute_result"
    }
   ],
   "source": [
    "# иследуем наличие зависимости цены от расположения квартиры на этаже\n",
    "# создадим словарь\n",
    "data_floors = data_real_estate[['last_price','floor_name']]\n",
    "\n",
    "try:\n",
    "    def floor(row):\n",
    "        name = row['floor_name']\n",
    "        if name == 'первый':\n",
    "            return 0\n",
    "        if name == 'последний':\n",
    "            return 1\n",
    "        if name == 'другой':\n",
    "            return 2\n",
    "\n",
    "    data_floors['floor_number'] = data_floors.apply(floor, axis=1)\n",
    "except:\n",
    "    print('Словарик не создался')\n",
    "\n",
    "data_floors['last_price'].corr(data_floors['floor_number'])"
   ]
  },
  {
   "cell_type": "code",
   "execution_count": 28,
   "metadata": {},
   "outputs": [
    {
     "data": {
      "text/plain": [
       "0.009310330384548976"
      ]
     },
     "execution_count": 28,
     "metadata": {},
     "output_type": "execute_result"
    }
   ],
   "source": [
    "# иследуем наличие зависимости цены от дня недели, месяца и года подачи объявления\n",
    "data_real_estate['last_price'].corr(data_real_estate['data'])"
   ]
  },
  {
   "cell_type": "markdown",
   "metadata": {},
   "source": [
    "#### Иследовав зависимость цены от ряда факторов можно утверждать, что наибольшее влияние оказывает площадь квартиры - 0,65, количество комнат оказывает менее сильное влияние - 0,36, удаление от центра имеет отрицательное значение корреляции (с удалением цена снижается) и оказыват малое влияние на цену (-0,04), расположение на этаже и дата подачи объявления оказывают низкое влияние на цену продажи окола нуля - 0,04 и ,009 соответственно"
   ]
  },
  {
   "cell_type": "code",
   "execution_count": 29,
   "metadata": {},
   "outputs": [
    {
     "data": {
      "text/html": [
       "<div>\n",
       "<style scoped>\n",
       "    .dataframe tbody tr th:only-of-type {\n",
       "        vertical-align: middle;\n",
       "    }\n",
       "\n",
       "    .dataframe tbody tr th {\n",
       "        vertical-align: top;\n",
       "    }\n",
       "\n",
       "    .dataframe thead th {\n",
       "        text-align: right;\n",
       "    }\n",
       "</style>\n",
       "<table border=\"1\" class=\"dataframe\">\n",
       "  <thead>\n",
       "    <tr style=\"text-align: right;\">\n",
       "      <th></th>\n",
       "      <th>count_name</th>\n",
       "    </tr>\n",
       "    <tr>\n",
       "      <th>locality_name</th>\n",
       "      <th></th>\n",
       "    </tr>\n",
       "  </thead>\n",
       "  <tbody>\n",
       "    <tr>\n",
       "      <td>Санкт-Петербург</td>\n",
       "      <td>15651</td>\n",
       "    </tr>\n",
       "    <tr>\n",
       "      <td>посёлок Мурино</td>\n",
       "      <td>520</td>\n",
       "    </tr>\n",
       "    <tr>\n",
       "      <td>посёлок Шушары</td>\n",
       "      <td>439</td>\n",
       "    </tr>\n",
       "    <tr>\n",
       "      <td>Всеволожск</td>\n",
       "      <td>398</td>\n",
       "    </tr>\n",
       "    <tr>\n",
       "      <td>Пушкин</td>\n",
       "      <td>369</td>\n",
       "    </tr>\n",
       "    <tr>\n",
       "      <td>Колпино</td>\n",
       "      <td>338</td>\n",
       "    </tr>\n",
       "    <tr>\n",
       "      <td>посёлок Парголово</td>\n",
       "      <td>327</td>\n",
       "    </tr>\n",
       "    <tr>\n",
       "      <td>Гатчина</td>\n",
       "      <td>307</td>\n",
       "    </tr>\n",
       "    <tr>\n",
       "      <td>деревня Кудрово</td>\n",
       "      <td>299</td>\n",
       "    </tr>\n",
       "    <tr>\n",
       "      <td>Выборг</td>\n",
       "      <td>237</td>\n",
       "    </tr>\n",
       "  </tbody>\n",
       "</table>\n",
       "</div>"
      ],
      "text/plain": [
       "                   count_name\n",
       "locality_name                \n",
       "Санкт-Петербург         15651\n",
       "посёлок Мурино            520\n",
       "посёлок Шушары            439\n",
       "Всеволожск                398\n",
       "Пушкин                    369\n",
       "Колпино                   338\n",
       "посёлок Парголово         327\n",
       "Гатчина                   307\n",
       "деревня Кудрово           299\n",
       "Выборг                    237"
      ]
     },
     "execution_count": 29,
     "metadata": {},
     "output_type": "execute_result"
    }
   ],
   "source": [
    "# Выберtv 10 населённых пунктов с наибольшим числом объявлений.\n",
    "data_locality_name_pivot = data_real_estate.pivot_table(index = 'locality_name',\n",
    "                                                        values = 'total_area', aggfunc = 'count')\n",
    "data_locality_name_pivot.columns = ['count_name']\n",
    "data_locality_top10 = data_locality_name_pivot.sort_values(by = 'count_name', \n",
    "                                                           ascending = False).head(10)\n",
    "data_locality_top10"
   ]
  },
  {
   "cell_type": "code",
   "execution_count": 30,
   "metadata": {},
   "outputs": [
    {
     "name": "stdout",
     "output_type": "stream",
     "text": [
      "                     price_meter\n",
      "locality_name                   \n",
      "Санкт-Петербург    221660.601687\n",
      "посёлок Парголово  201469.339450\n",
      "Пушкин             194322.823848\n",
      "деревня Кудрово    189613.906355\n",
      "посёлок Мурино     177886.507692\n",
      "посёлок Шушары     157348.375854\n",
      "Всеволожск         135187.856784\n",
      "Колпино            133398.423077\n",
      "Гатчина            122932.846906\n",
      "Выборг             100482.118143\n"
     ]
    }
   ],
   "source": [
    "# Посчитаtv среднюю цену квадратного метра в этих населённых пунктах. \n",
    "data_index_city=data_locality_top10.index\n",
    "data_mean_price = data_real_estate.pivot_table(index = 'locality_name', values = 'price_meter', \n",
    "                                               aggfunc = 'mean')\n",
    "city_choice = data_mean_price.query('index in @data_index_city')\n",
    "print(city_choice.sort_values(by = 'price_meter', ascending = False))\n",
    "        "
   ]
  },
  {
   "cell_type": "markdown",
   "metadata": {},
   "source": [
    "#### По цене кв.м. в населенных пунктах с наибольшим количеством объявлений заметно, что разброс цен лежит в диапазоне от 100 тр.р до 221 т.р . Наиболшая средняя цена за кв.м приходится на СПБ"
   ]
  },
  {
   "cell_type": "code",
   "execution_count": 31,
   "metadata": {},
   "outputs": [],
   "source": [
    "# Выделим квартиры в Санкт-Петербурге\n",
    "data_SPB = data_real_estate.query('locality_name == \"Санкт-Петербург\"')\n"
   ]
  },
  {
   "cell_type": "code",
   "execution_count": 32,
   "metadata": {},
   "outputs": [
    {
     "name": "stderr",
     "output_type": "stream",
     "text": [
      "/opt/conda/lib/python3.7/site-packages/ipykernel_launcher.py:2: SettingWithCopyWarning: \n",
      "A value is trying to be set on a copy of a slice from a DataFrame.\n",
      "Try using .loc[row_indexer,col_indexer] = value instead\n",
      "\n",
      "See the caveats in the documentation: http://pandas.pydata.org/pandas-docs/stable/user_guide/indexing.html#returning-a-view-versus-a-copy\n",
      "  \n"
     ]
    }
   ],
   "source": [
    "# Создадим столбец с расстоянием до центра в километрах, округлим до целых значений.\n",
    "data_SPB['cityCenters_nearest_km'] = (data_SPB['cityCenters_nearest'] / 1000).round()\n"
   ]
  },
  {
   "cell_type": "code",
   "execution_count": 33,
   "metadata": {},
   "outputs": [],
   "source": [
    "#  Посчитаем среднюю цену для каждого километра\n",
    "data_SPB_price_km = data_SPB.pivot_table(index = 'cityCenters_nearest_km', values = 'last_price',\n",
    "                                         aggfunc = 'mean')\n"
   ]
  },
  {
   "cell_type": "code",
   "execution_count": 34,
   "metadata": {},
   "outputs": [
    {
     "data": {
      "text/plain": [
       "<matplotlib.axes._subplots.AxesSubplot at 0x7fe99014d518>"
      ]
     },
     "execution_count": 34,
     "metadata": {},
     "output_type": "execute_result"
    },
    {
     "data": {
      "image/png": "[encoded data removed]",
      "text/plain": [
       "<Figure size 432x288 with 1 Axes>"
      ]
     },
     "metadata": {
      "needs_background": "light"
     },
     "output_type": "display_data"
    }
   ],
   "source": [
    "# Построим график показывающий, как цена зависит от удалённости от центра.\n",
    "data_SPB_price_km.plot( grid=True)"
   ]
  },
  {
   "cell_type": "markdown",
   "metadata": {},
   "source": [
    "### Основываясь на графики показывающим зависимость цены от растояния квартиры до центра можно предположить, что границы центральной зоны сотавляют около 3 км, так как  за границами этой зоны зависимость выражена менее значимо чем внутри 3 километровой зоны"
   ]
  },
  {
   "cell_type": "code",
   "execution_count": 35,
   "metadata": {},
   "outputs": [],
   "source": [
    "### Выделим сегмент квартир в центре. \n",
    "data_SPB_centr = data_SPB.query('cityCenters_nearest_km <= 3')\n"
   ]
  },
  {
   "cell_type": "code",
   "execution_count": 36,
   "metadata": {},
   "outputs": [
    {
     "data": {
      "text/plain": [
       "<matplotlib.axes._subplots.AxesSubplot at 0x7fe9901208d0>"
      ]
     },
     "execution_count": 36,
     "metadata": {},
     "output_type": "execute_result"
    },
    {
     "data": {
      "image/png": "[encoded data removed]",
      "text/plain": [
       "<Figure size 576x216 with 1 Axes>"
      ]
     },
     "metadata": {
      "needs_background": "light"
     },
     "output_type": "display_data"
    }
   ],
   "source": [
    "# построим гистограму основаную на данных о площади квартир\n",
    "data_SPB_centr['total_area'].hist(bins=100, figsize = (8,3), range = (0,200))"
   ]
  },
  {
   "cell_type": "markdown",
   "metadata": {},
   "source": [
    "#### на основании гистограммы видно, что подавляющая часть квартир имеет площадь от 35 до 115 кв.м. с росом площади количество предложений плано снижается"
   ]
  },
  {
   "cell_type": "code",
   "execution_count": 37,
   "metadata": {},
   "outputs": [
    {
     "data": {
      "text/plain": [
       "<matplotlib.axes._subplots.AxesSubplot at 0x7fe990007e48>"
      ]
     },
     "execution_count": 37,
     "metadata": {},
     "output_type": "execute_result"
    },
    {
     "data": {
      "image/png": "[encoded data removed]",
      "text/plain": [
       "<Figure size 432x288 with 1 Axes>"
      ]
     },
     "metadata": {
      "needs_background": "light"
     },
     "output_type": "display_data"
    }
   ],
   "source": [
    "# построим гистограму основаную на данных о цене квартир\n",
    "data_SPB_centr['last_price'].hist(bins=100, range = (0,30000000))"
   ]
  },
  {
   "cell_type": "markdown",
   "metadata": {},
   "source": [
    "#### по предсталеной гистограмме видно, что основная цасть квартир имеет цену в диапазоне от 4 млн. до 10 млн. рублей, хотя присутствует заметный сегмент с ценой от 10 до 15 млн. рублей"
   ]
  },
  {
   "cell_type": "code",
   "execution_count": 38,
   "metadata": {},
   "outputs": [
    {
     "data": {
      "text/plain": [
       "<matplotlib.axes._subplots.AxesSubplot at 0x7fe98fe21e80>"
      ]
     },
     "execution_count": 38,
     "metadata": {},
     "output_type": "execute_result"
    },
    {
     "data": {
      "image/png": "[encoded data removed]",
      "text/plain": [
       "<Figure size 432x288 with 1 Axes>"
      ]
     },
     "metadata": {
      "needs_background": "light"
     },
     "output_type": "display_data"
    }
   ],
   "source": [
    "#  построим гистограму основаную на данных о количестве комнат квартирах\n",
    "data_SPB_centr['rooms'].hist(bins=100, range = (0,10))"
   ]
  },
  {
   "cell_type": "markdown",
   "metadata": {},
   "source": [
    "#### в основном к продаже предсталены  трех- комнатные квартиры, чуть меньше двух- комнатные заметную часть составляют четырех комнатные, одно- и пяти комнатные представлены примерно в одинаковом количестве и небольшом объеме, количество квартир с большим количеством комнат заметно ниже"
   ]
  },
  {
   "cell_type": "code",
   "execution_count": 39,
   "metadata": {},
   "outputs": [
    {
     "data": {
      "text/plain": [
       "<matplotlib.axes._subplots.AxesSubplot at 0x7fe98fc97d30>"
      ]
     },
     "execution_count": 39,
     "metadata": {},
     "output_type": "execute_result"
    },
    {
     "data": {
      "image/png": "[encoded data removed]",
      "text/plain": [
       "<Figure size 432x288 with 1 Axes>"
      ]
     },
     "metadata": {
      "needs_background": "light"
     },
     "output_type": "display_data"
    }
   ],
   "source": [
    "#  построим гистограму основаную на данных о высоте поталков в квартирах\n",
    "data_SPB_centr['ceiling_height'].hist(bins=150, range = (2,5))"
   ]
  },
  {
   "cell_type": "markdown",
   "metadata": {},
   "source": [
    "#### подавляющее количество квартир имеет высоту потолка окола 2,70 метра, заметной количество имеет высоту около 3 метров"
   ]
  },
  {
   "cell_type": "code",
   "execution_count": 40,
   "metadata": {},
   "outputs": [
    {
     "data": {
      "text/plain": [
       "0.2405063465459433"
      ]
     },
     "execution_count": 40,
     "metadata": {},
     "output_type": "execute_result"
    }
   ],
   "source": [
    "# иследуем наличие зависимости цены от количества комнат в квартире\n",
    "data_SPB_centr['last_price'].corr(data_SPB_centr['rooms'])"
   ]
  },
  {
   "cell_type": "code",
   "execution_count": 41,
   "metadata": {},
   "outputs": [
    {
     "data": {
      "text/plain": [
       "0.566042375078204"
      ]
     },
     "execution_count": 41,
     "metadata": {},
     "output_type": "execute_result"
    }
   ],
   "source": [
    "# иследуем наличие зависимости цены от квадратного метра (площади квартиры)\n",
    "data_SPB_centr['last_price'].corr(data_SPB_centr['total_area'])"
   ]
  },
  {
   "cell_type": "code",
   "execution_count": 42,
   "metadata": {},
   "outputs": [
    {
     "name": "stderr",
     "output_type": "stream",
     "text": [
      "/opt/conda/lib/python3.7/site-packages/ipykernel_launcher.py:15: SettingWithCopyWarning: \n",
      "A value is trying to be set on a copy of a slice from a DataFrame.\n",
      "Try using .loc[row_indexer,col_indexer] = value instead\n",
      "\n",
      "See the caveats in the documentation: http://pandas.pydata.org/pandas-docs/stable/user_guide/indexing.html#returning-a-view-versus-a-copy\n",
      "  from ipykernel import kernelapp as app\n"
     ]
    },
    {
     "data": {
      "text/plain": [
       "0.07174315059344324"
      ]
     },
     "execution_count": 42,
     "metadata": {},
     "output_type": "execute_result"
    }
   ],
   "source": [
    "# иследуем наличие зависимости цены от расположения квартиры на этаже\n",
    "# создадим словарь\n",
    "data_floors = data_SPB_centr[['last_price','floor_name']]\n",
    "\n",
    "try:\n",
    "    def floor(row):\n",
    "        name = row['floor_name']\n",
    "        if name == 'первый':\n",
    "            return 0\n",
    "        if name == 'последний':\n",
    "            return 1\n",
    "        if name == 'другой':\n",
    "            return 2\n",
    "\n",
    "    data_floors['floor_number'] = data_floors.apply(floor, axis=1)\n",
    "except:\n",
    "    print('Столбец в словарик не добавился')\n",
    "\n",
    "data_floors['last_price'].corr(data_floors['floor_number'])"
   ]
  },
  {
   "cell_type": "code",
   "execution_count": 43,
   "metadata": {},
   "outputs": [
    {
     "data": {
      "text/plain": [
       "-0.17999554734111928"
      ]
     },
     "execution_count": 43,
     "metadata": {},
     "output_type": "execute_result"
    }
   ],
   "source": [
    "# иследуем наличие зависимости цены от удалености от центра\n",
    "data_SPB_centr['last_price'].corr(data_SPB_centr['cityCenters_nearest_km'])"
   ]
  },
  {
   "cell_type": "code",
   "execution_count": 44,
   "metadata": {},
   "outputs": [
    {
     "data": {
      "text/plain": [
       "-0.004029816204527938"
      ]
     },
     "execution_count": 44,
     "metadata": {},
     "output_type": "execute_result"
    }
   ],
   "source": [
    "# иследуем наличие зависимости цены от дня недели, месяца и года подачи объявления\n",
    "data_SPB_centr['last_price'].corr(data_real_estate['data'])"
   ]
  },
  {
   "cell_type": "markdown",
   "metadata": {},
   "source": [
    "#### Иследовав зависимость цены от ряда факторов можно утверждать, что наибольшее влияние оказывает площадь квартиры - 0,56, количество комнат оказывает менее сильное влияние - 0,24, удаление от центра имеет отрицательное значение корреляции (с удалением цена снижается) и оказыват малое влияние на цену (-0,18), расположение на этаже и дата подачи объявления оказывают низкое влияние на цену продажи окола нуля - 0,07 и -0,004 соответственно"
   ]
  },
  {
   "cell_type": "markdown",
   "metadata": {},
   "source": [
    "### Сравнивая данные по центральной части Санкт-Петербурга и данными по продаже квартир в целом по региону можно вделать следующие выводы\n",
    "#### По площади предлагаемых квартир в регионе от 30 до 75 кв.м. в центральной части СПБ 35-115 кв.м., что показывае на больший выбор предложений к продаже с различной площадью\n",
    "#### по количеству комнат: усли в регионе в основном к продаже представлены одно и двух комнатные квартиры с заметным сектором из трехкомнатных квартир, то в цетральной части СПБ предложения тяготеют к трех комнатным и чуть меньше двух комнатным квартирам с заметным числом предложений одно и четырех комнатных.\n",
    "#### По высоте потролков в целом в регионе и центре СПБ значения совподают - около 2,65 метра, однако в регионе наблюдается всплеск около значения 2,5 метра, а в центре около 3 метров.\n",
    "#### Иследуя зависимость цены от различных факторов заметим, что соотношение имеют схожие влияние хотя величины несколько отличаются: площадь квартиры 0,65 и 0,56; количество комнат 0,36 и 0,24; удаление от центра -0,04 и -0,18; расположение на этаже 0,07 и 0,028; дата подачи объявления 0,009 и -0,004 для региона и центальной части СПБ соответственно.\n"
   ]
  },
  {
   "cell_type": "markdown",
   "metadata": {},
   "source": [
    "### Шаг 5. Общий вывод\n",
    "### На основании проведеного иследования по данным о продаже квартир в Санкт-Петербурге и соседних населённых пунктов за несколько лет можно сделать следующие выводы:\n",
    "#### В данных представлена информация по объектам недвижимости по 365 населеным пунктам. Имеющаяся информация по ним представляет различную ценность для проведения анализа в разрезе по населеным пунктам. Так информация о растоянии до центра СПБ для населенных пунктов отличных от Санкт-Петербурга не имеет ценности, а для самого СПБ необходима для принятие во внимание.\n",
    "#### В таблице представлена информация по площадям и количеству комнат жилого фонда и можно заметить, что наибольшее влияние имеет площадь квартиры, а количество комнат менее значительно влияет на цену продажи 0,65 и 0,36 для региона в целом и 0,56 и 0,24 для центральной части СПБ. Расположение на этаже и дата продачи объявления о продаже практически не оказывает влияние на ценообразование хотя и имеют различие в значениях для региона и центра СПБ: 0,04 и 0,009 против 0,007 и -0,004 соответственно. Растояние от центра СПБ наиболее сильно проявляют себя имено в центральной части СПБ по сравнению с регионом в целом: -0,076 и -0,18 соответственно. Хотя это влияние проявляется очень слабо. \n",
    "#### По цене кв.м. в населенных пунктах с наибольшим количеством объявлений заметно, что разброс цен лежит в диапазоне от 100 тр.р до 221 т.р . Наиболшая средняя цена за кв.м приходится на СПБ\n",
    "#### По предложению квартир с различным каоличеством комнат заметно, что основная масса состоит из одно- двух- трех- и четырех- комнатных квартир. При этом в регионе преобладают одно- и двух- комнатные, а в центральной части СПБ двух- и трех- комнатные квартиры.\n",
    "####  По высоте потолков среднее около 2,65 метра с заметным количеством предложений для региона 2,5 метра, а для центра СПБ 3 метра.\n",
    "####  По срокам продажи видно, что в среднем квартира продается за 180 дней, хотя наличествуют результаты от одного дня и присутствуют выброся с количеством дней продажи более 400.\n",
    "####  Результаты данного анализа возможно применить для прогнозирования цены продажи квартиры в зависимости от параметров и расположения. Например для предложению автоматического расчета цены продажи при подаче объявления на сайте по работе с недвижимостью. Также при расмотрении объктов недвижимости можно будет выявить явно нестандартные ожидания продавцов на фоне предложения.\n",
    "  \n",
    "  \n",
    " "
   ]
  },
  {
   "cell_type": "markdown",
   "metadata": {},
   "source": [
    "### Чек-лист готовности проекта\n",
    "\n",
    "Поставьте 'x' в выполненных пунктах. Далее нажмите Shift+Enter."
   ]
  },
  {
   "cell_type": "markdown",
   "metadata": {},
   "source": [
    "- [x]  открыт файл\n",
    "- [x]  файлы изучены (выведены первые строки, метод info())\n",
    "- [x]  определены пропущенные значения\n",
    "- [x]  заполнены пропущенные значения\n",
    "- [x]  есть пояснение какие пропущенные значения обнаружены\n",
    "- [x]  изменены типы данных\n",
    "- [x]  есть пояснение в каких столбцах изменены типы и почему\n",
    "- [x]  посчитано и добавлено в таблицу: цена квадратного метра\n",
    "- [x]  посчитано и добавлено в таблицу: день недели, месяц и год публикации объявления\n",
    "- [x]  посчитано и добавлено в таблицу: этаж квартиры; варианты — первый, последний, другой\n",
    "- [x]  посчитано и добавлено в таблицу: соотношение жилой и общей площади, а также отношение площади кухни к общей\n",
    "- [x]  изучены следующие параметры: площадь, цена, число комнат, высота потолков\n",
    "- [x]  построены гистограммы для каждого параметра\n",
    "- [x]  выполнено задание: \"Изучите время продажи квартиры. Постройте гистограмму. Посчитайте среднее и медиану. Опишите, сколько обычно занимает продажа. Когда можно считать, что продажи прошли очень быстро, а когда необычно долго?\"\n",
    "- [x]  выполнено задание: \"Уберите редкие и выбивающиеся значения. Опишите, какие особенности обнаружили.\"\n",
    "- [x]  выполнено задание: \"Какие факторы больше всего влияют на стоимость квартиры? Изучите, зависит ли цена от квадратного метра, числа комнат, этажа (первого или последнего), удалённости от центра. Также изучите зависимость от даты размещения: дня недели, месяца и года. \"Выберите 10 населённых пунктов с наибольшим числом объявлений. Посчитайте среднюю цену квадратного метра в этих населённых пунктах. Выделите населённые пункты с самой высокой и низкой стоимостью жилья. Эти данные можно найти по имени в столбце '*locality_name'*. \"\n",
    "- [x]  выполнено задание: \"Изучите предложения квартир: для каждой квартиры есть информация о расстоянии до центра. Выделите квартиры в Санкт-Петербурге (*'locality_name'*). Ваша задача — выяснить, какая область входит в центр. Создайте столбец с расстоянием до центра в километрах: округлите до целых значений. После этого посчитайте среднюю цену для каждого километра. Постройте график: он должен показывать, как цена зависит от удалённости от центра. Определите границу, где график сильно меняется — это и будет центральная зона. \"\n",
    "- [x]  выполнено задание: \"Выделите сегмент квартир в центре. Проанализируйте эту территорию и изучите следующие параметры: площадь, цена, число комнат, высота потолков. Также выделите факторы, которые влияют на стоимость квартиры (число комнат, этаж, удалённость от центра, дата размещения объявления). Сделайте выводы. Отличаются ли они от общих выводов по всему городу?\"\n",
    "- [x]  в каждом этапе есть выводы\n",
    "- [x]  есть общий вывод"
   ]
  }
 ],
 "metadata": {
  "kernelspec": {
   "display_name": "Python 3",
   "language": "python",
   "name": "python3"
  },
  "language_info": {
   "codemirror_mode": {
    "name": "ipython",
    "version": 3
   },
   "file_extension": ".py",
   "mimetype": "text/x-python",
   "name": "python",
   "nbconvert_exporter": "python",
   "pygments_lexer": "ipython3",
   "version": "3.7.4"
  }
 },
 "nbformat": 4,
 "nbformat_minor": 2
}
