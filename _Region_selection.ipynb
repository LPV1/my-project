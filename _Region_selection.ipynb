{
 "cells": [
  {
   "cell_type": "markdown",
   "metadata": {},
   "source": [
    "# Описание проекта"
   ]
  },
  {
   "cell_type": "markdown",
   "metadata": {},
   "source": [
    "Допустим, вы работаете в добывающей компании «ГлавРосГосНефть». Нужно решить, где бурить новую скважину.\n",
    "\n",
    "Вам предоставлены пробы нефти в трёх регионах: в каждом 10 000 месторождений, где измерили качество нефти и объём её запасов. Постройте модель машинного обучения, которая поможет определить регион, где добыча принесёт наибольшую прибыль. Проанализируйте возможную прибыль и риски техникой *Bootstrap.*\n",
    "\n",
    "Шаги для выбора локации:\n",
    "\n",
    "- В избранном регионе ищут месторождения, для каждого определяют значения признаков;\n",
    "- Строят модель и оценивают объём запасов;\n",
    "- Выбирают месторождения с самым высокими оценками значений. Количество месторождений зависит от бюджета компании и стоимости разработки одной скважины;\n",
    "- Прибыль равна суммарной прибыли отобранных месторождений."
   ]
  },
  {
   "cell_type": "markdown",
   "metadata": {},
   "source": [
    "# 1. Загрузка и подготовка данных"
   ]
  },
  {
   "cell_type": "code",
   "execution_count": 1,
   "metadata": {},
   "outputs": [],
   "source": [
    "import pandas as pd\n",
    "import numpy as np\n",
    "import matplotlib.pyplot as plt\n",
    "from sklearn.model_selection import train_test_split\n",
    "from sklearn.linear_model import LinearRegression\n",
    "from sklearn.metrics import mean_squared_error\n",
    "from scipy import stats as st"
   ]
  },
  {
   "cell_type": "markdown",
   "metadata": {},
   "source": [
    "### Загрузим данные"
   ]
  },
  {
   "cell_type": "code",
   "execution_count": 2,
   "metadata": {},
   "outputs": [],
   "source": [
    "data0 = pd.read_csv('/datasets/geo_data_0.csv')\n",
    "data1 = pd.read_csv('/datasets/geo_data_1.csv')\n",
    "data2 = pd.read_csv('/datasets/geo_data_2.csv')"
   ]
  },
  {
   "cell_type": "markdown",
   "metadata": {},
   "source": [
    "### Посмотрим содержимое таблиц и информацию о них"
   ]
  },
  {
   "cell_type": "code",
   "execution_count": 3,
   "metadata": {},
   "outputs": [
    {
     "data": {
      "text/html": [
       "<div>\n",
       "<style scoped>\n",
       "    .dataframe tbody tr th:only-of-type {\n",
       "        vertical-align: middle;\n",
       "    }\n",
       "\n",
       "    .dataframe tbody tr th {\n",
       "        vertical-align: top;\n",
       "    }\n",
       "\n",
       "    .dataframe thead th {\n",
       "        text-align: right;\n",
       "    }\n",
       "</style>\n",
       "<table border=\"1\" class=\"dataframe\">\n",
       "  <thead>\n",
       "    <tr style=\"text-align: right;\">\n",
       "      <th></th>\n",
       "      <th>id</th>\n",
       "      <th>f0</th>\n",
       "      <th>f1</th>\n",
       "      <th>f2</th>\n",
       "      <th>product</th>\n",
       "    </tr>\n",
       "  </thead>\n",
       "  <tbody>\n",
       "    <tr>\n",
       "      <td>0</td>\n",
       "      <td>txEyH</td>\n",
       "      <td>0.705745</td>\n",
       "      <td>-0.497823</td>\n",
       "      <td>1.221170</td>\n",
       "      <td>105.280062</td>\n",
       "    </tr>\n",
       "    <tr>\n",
       "      <td>1</td>\n",
       "      <td>2acmU</td>\n",
       "      <td>1.334711</td>\n",
       "      <td>-0.340164</td>\n",
       "      <td>4.365080</td>\n",
       "      <td>73.037750</td>\n",
       "    </tr>\n",
       "    <tr>\n",
       "      <td>2</td>\n",
       "      <td>409Wp</td>\n",
       "      <td>1.022732</td>\n",
       "      <td>0.151990</td>\n",
       "      <td>1.419926</td>\n",
       "      <td>85.265647</td>\n",
       "    </tr>\n",
       "    <tr>\n",
       "      <td>3</td>\n",
       "      <td>iJLyR</td>\n",
       "      <td>-0.032172</td>\n",
       "      <td>0.139033</td>\n",
       "      <td>2.978566</td>\n",
       "      <td>168.620776</td>\n",
       "    </tr>\n",
       "    <tr>\n",
       "      <td>4</td>\n",
       "      <td>Xdl7t</td>\n",
       "      <td>1.988431</td>\n",
       "      <td>0.155413</td>\n",
       "      <td>4.751769</td>\n",
       "      <td>154.036647</td>\n",
       "    </tr>\n",
       "  </tbody>\n",
       "</table>\n",
       "</div>"
      ],
      "text/plain": [
       "      id        f0        f1        f2     product\n",
       "0  txEyH  0.705745 -0.497823  1.221170  105.280062\n",
       "1  2acmU  1.334711 -0.340164  4.365080   73.037750\n",
       "2  409Wp  1.022732  0.151990  1.419926   85.265647\n",
       "3  iJLyR -0.032172  0.139033  2.978566  168.620776\n",
       "4  Xdl7t  1.988431  0.155413  4.751769  154.036647"
      ]
     },
     "execution_count": 3,
     "metadata": {},
     "output_type": "execute_result"
    }
   ],
   "source": [
    "data0.head()"
   ]
  },
  {
   "cell_type": "code",
   "execution_count": 4,
   "metadata": {},
   "outputs": [
    {
     "data": {
      "text/html": [
       "<div>\n",
       "<style scoped>\n",
       "    .dataframe tbody tr th:only-of-type {\n",
       "        vertical-align: middle;\n",
       "    }\n",
       "\n",
       "    .dataframe tbody tr th {\n",
       "        vertical-align: top;\n",
       "    }\n",
       "\n",
       "    .dataframe thead th {\n",
       "        text-align: right;\n",
       "    }\n",
       "</style>\n",
       "<table border=\"1\" class=\"dataframe\">\n",
       "  <thead>\n",
       "    <tr style=\"text-align: right;\">\n",
       "      <th></th>\n",
       "      <th>id</th>\n",
       "      <th>f0</th>\n",
       "      <th>f1</th>\n",
       "      <th>f2</th>\n",
       "      <th>product</th>\n",
       "    </tr>\n",
       "  </thead>\n",
       "  <tbody>\n",
       "    <tr>\n",
       "      <td>0</td>\n",
       "      <td>kBEdx</td>\n",
       "      <td>-15.001348</td>\n",
       "      <td>-8.276000</td>\n",
       "      <td>-0.005876</td>\n",
       "      <td>3.179103</td>\n",
       "    </tr>\n",
       "    <tr>\n",
       "      <td>1</td>\n",
       "      <td>62mP7</td>\n",
       "      <td>14.272088</td>\n",
       "      <td>-3.475083</td>\n",
       "      <td>0.999183</td>\n",
       "      <td>26.953261</td>\n",
       "    </tr>\n",
       "    <tr>\n",
       "      <td>2</td>\n",
       "      <td>vyE1P</td>\n",
       "      <td>6.263187</td>\n",
       "      <td>-5.948386</td>\n",
       "      <td>5.001160</td>\n",
       "      <td>134.766305</td>\n",
       "    </tr>\n",
       "    <tr>\n",
       "      <td>3</td>\n",
       "      <td>KcrkZ</td>\n",
       "      <td>-13.081196</td>\n",
       "      <td>-11.506057</td>\n",
       "      <td>4.999415</td>\n",
       "      <td>137.945408</td>\n",
       "    </tr>\n",
       "    <tr>\n",
       "      <td>4</td>\n",
       "      <td>AHL4O</td>\n",
       "      <td>12.702195</td>\n",
       "      <td>-8.147433</td>\n",
       "      <td>5.004363</td>\n",
       "      <td>134.766305</td>\n",
       "    </tr>\n",
       "  </tbody>\n",
       "</table>\n",
       "</div>"
      ],
      "text/plain": [
       "      id         f0         f1        f2     product\n",
       "0  kBEdx -15.001348  -8.276000 -0.005876    3.179103\n",
       "1  62mP7  14.272088  -3.475083  0.999183   26.953261\n",
       "2  vyE1P   6.263187  -5.948386  5.001160  134.766305\n",
       "3  KcrkZ -13.081196 -11.506057  4.999415  137.945408\n",
       "4  AHL4O  12.702195  -8.147433  5.004363  134.766305"
      ]
     },
     "execution_count": 4,
     "metadata": {},
     "output_type": "execute_result"
    }
   ],
   "source": [
    "data1.head()"
   ]
  },
  {
   "cell_type": "code",
   "execution_count": 5,
   "metadata": {},
   "outputs": [
    {
     "data": {
      "text/html": [
       "<div>\n",
       "<style scoped>\n",
       "    .dataframe tbody tr th:only-of-type {\n",
       "        vertical-align: middle;\n",
       "    }\n",
       "\n",
       "    .dataframe tbody tr th {\n",
       "        vertical-align: top;\n",
       "    }\n",
       "\n",
       "    .dataframe thead th {\n",
       "        text-align: right;\n",
       "    }\n",
       "</style>\n",
       "<table border=\"1\" class=\"dataframe\">\n",
       "  <thead>\n",
       "    <tr style=\"text-align: right;\">\n",
       "      <th></th>\n",
       "      <th>id</th>\n",
       "      <th>f0</th>\n",
       "      <th>f1</th>\n",
       "      <th>f2</th>\n",
       "      <th>product</th>\n",
       "    </tr>\n",
       "  </thead>\n",
       "  <tbody>\n",
       "    <tr>\n",
       "      <td>0</td>\n",
       "      <td>fwXo0</td>\n",
       "      <td>-1.146987</td>\n",
       "      <td>0.963328</td>\n",
       "      <td>-0.828965</td>\n",
       "      <td>27.758673</td>\n",
       "    </tr>\n",
       "    <tr>\n",
       "      <td>1</td>\n",
       "      <td>WJtFt</td>\n",
       "      <td>0.262778</td>\n",
       "      <td>0.269839</td>\n",
       "      <td>-2.530187</td>\n",
       "      <td>56.069697</td>\n",
       "    </tr>\n",
       "    <tr>\n",
       "      <td>2</td>\n",
       "      <td>ovLUW</td>\n",
       "      <td>0.194587</td>\n",
       "      <td>0.289035</td>\n",
       "      <td>-5.586433</td>\n",
       "      <td>62.871910</td>\n",
       "    </tr>\n",
       "    <tr>\n",
       "      <td>3</td>\n",
       "      <td>q6cA6</td>\n",
       "      <td>2.236060</td>\n",
       "      <td>-0.553760</td>\n",
       "      <td>0.930038</td>\n",
       "      <td>114.572842</td>\n",
       "    </tr>\n",
       "    <tr>\n",
       "      <td>4</td>\n",
       "      <td>WPMUX</td>\n",
       "      <td>-0.515993</td>\n",
       "      <td>1.716266</td>\n",
       "      <td>5.899011</td>\n",
       "      <td>149.600746</td>\n",
       "    </tr>\n",
       "  </tbody>\n",
       "</table>\n",
       "</div>"
      ],
      "text/plain": [
       "      id        f0        f1        f2     product\n",
       "0  fwXo0 -1.146987  0.963328 -0.828965   27.758673\n",
       "1  WJtFt  0.262778  0.269839 -2.530187   56.069697\n",
       "2  ovLUW  0.194587  0.289035 -5.586433   62.871910\n",
       "3  q6cA6  2.236060 -0.553760  0.930038  114.572842\n",
       "4  WPMUX -0.515993  1.716266  5.899011  149.600746"
      ]
     },
     "execution_count": 5,
     "metadata": {},
     "output_type": "execute_result"
    }
   ],
   "source": [
    "data2.head()"
   ]
  },
  {
   "cell_type": "code",
   "execution_count": 6,
   "metadata": {},
   "outputs": [
    {
     "name": "stdout",
     "output_type": "stream",
     "text": [
      "<class 'pandas.core.frame.DataFrame'>\n",
      "RangeIndex: 100000 entries, 0 to 99999\n",
      "Data columns (total 5 columns):\n",
      "id         100000 non-null object\n",
      "f0         100000 non-null float64\n",
      "f1         100000 non-null float64\n",
      "f2         100000 non-null float64\n",
      "product    100000 non-null float64\n",
      "dtypes: float64(4), object(1)\n",
      "memory usage: 3.8+ MB\n"
     ]
    }
   ],
   "source": [
    "data0.info()"
   ]
  },
  {
   "cell_type": "code",
   "execution_count": 7,
   "metadata": {},
   "outputs": [
    {
     "name": "stdout",
     "output_type": "stream",
     "text": [
      "<class 'pandas.core.frame.DataFrame'>\n",
      "RangeIndex: 100000 entries, 0 to 99999\n",
      "Data columns (total 5 columns):\n",
      "id         100000 non-null object\n",
      "f0         100000 non-null float64\n",
      "f1         100000 non-null float64\n",
      "f2         100000 non-null float64\n",
      "product    100000 non-null float64\n",
      "dtypes: float64(4), object(1)\n",
      "memory usage: 3.8+ MB\n"
     ]
    }
   ],
   "source": [
    "data1.info()"
   ]
  },
  {
   "cell_type": "code",
   "execution_count": 8,
   "metadata": {},
   "outputs": [
    {
     "name": "stdout",
     "output_type": "stream",
     "text": [
      "<class 'pandas.core.frame.DataFrame'>\n",
      "RangeIndex: 100000 entries, 0 to 99999\n",
      "Data columns (total 5 columns):\n",
      "id         100000 non-null object\n",
      "f0         100000 non-null float64\n",
      "f1         100000 non-null float64\n",
      "f2         100000 non-null float64\n",
      "product    100000 non-null float64\n",
      "dtypes: float64(4), object(1)\n",
      "memory usage: 3.8+ MB\n"
     ]
    }
   ],
   "source": [
    "data2.info()"
   ]
  },
  {
   "cell_type": "markdown",
   "metadata": {},
   "source": [
    "### Получено три таблицы с данными о скваженах в трех регионах. Всего в каждой таблице по 100 000 наблюдений и по пять столбцов (один текстовый и четыре числовых). В столбцах содержится следующая информация: id - уникальный индификатор месторождения, f0, f1, f2 - три признака точек, product - объем запасов месторождения (тыс. баррелей). Данные полные, пропуски отсутствуют. Значения f0, f1, f2 относятся к признакам, а product - целевой признак\n"
   ]
  },
  {
   "cell_type": "markdown",
   "metadata": {},
   "source": [
    "### Посмотрим распределение количества запасов сырья по регионам"
   ]
  },
  {
   "cell_type": "code",
   "execution_count": 9,
   "metadata": {},
   "outputs": [
    {
     "data": {
      "image/png": "[encoded data removed]",
      "text/plain": [
       "<Figure size 432x288 with 1 Axes>"
      ]
     },
     "metadata": {
      "needs_background": "light"
     },
     "output_type": "display_data"
    }
   ],
   "source": [
    "data0['product'].hist(bins=10)\n",
    "plt.title('Регион №0')\n",
    "plt.xlabel('Объем запасов месторождения')\n",
    "plt.show()"
   ]
  },
  {
   "cell_type": "code",
   "execution_count": 10,
   "metadata": {},
   "outputs": [
    {
     "data": {
      "image/png": "[encoded data removed]",
      "text/plain": [
       "<Figure size 432x288 with 1 Axes>"
      ]
     },
     "metadata": {
      "needs_background": "light"
     },
     "output_type": "display_data"
    }
   ],
   "source": [
    "data1['product'].hist(bins=10)\n",
    "plt.title('Регион №1')\n",
    "plt.xlabel('Объем запасов месторождения')\n",
    "plt.show()"
   ]
  },
  {
   "cell_type": "code",
   "execution_count": 11,
   "metadata": {},
   "outputs": [
    {
     "data": {
      "image/png": "[encoded data removed]",
      "text/plain": [
       "<Figure size 432x288 with 1 Axes>"
      ]
     },
     "metadata": {
      "needs_background": "light"
     },
     "output_type": "display_data"
    }
   ],
   "source": [
    "data2['product'].hist(bins=10)\n",
    "plt.title('Регион №2')\n",
    "plt.xlabel('Объем запасов месторождения')\n",
    "plt.show()"
   ]
  },
  {
   "cell_type": "markdown",
   "metadata": {},
   "source": [
    "### На первой и третьей гистограмме соответствующим региону 0 и 2 видно нормальное распределение, на второй гистограмме региона 1 показано равномерное распределение за исключением минимальных и максимальных запасов - резкое увеличение количества месторождений с такими показателями\n"
   ]
  },
  {
   "cell_type": "markdown",
   "metadata": {},
   "source": [
    "### Подготовим данные для обучения модели. Мы замечаем, что значения id бесполезны для нас. Таким образом, мы можем удалить их из данных. (сохраним их в отдельной переменной для возможности использования в будующем)"
   ]
  },
  {
   "cell_type": "code",
   "execution_count": 12,
   "metadata": {},
   "outputs": [],
   "source": [
    "id_data0 = data0['id']\n",
    "id_data1 = data1['id']\n",
    "id_data2 = data2['id']\n",
    "data0 = data0.drop(['id'], axis=1)\n",
    "data1 = data1.drop(['id'], axis=1)\n",
    "data2 = data2.drop(['id'], axis=1)"
   ]
  },
  {
   "cell_type": "markdown",
   "metadata": {},
   "source": [
    "# 2. Обучение и проверка модели"
   ]
  },
  {
   "cell_type": "markdown",
   "metadata": {},
   "source": [
    "### Выделим из общих таблиц признаки и целевой признак"
   ]
  },
  {
   "cell_type": "code",
   "execution_count": 13,
   "metadata": {},
   "outputs": [],
   "source": [
    "target_data0 = data0['product']\n",
    "target_data1 = data1['product']\n",
    "target_data2 = data2['product']\n",
    "features_data0 = data0.drop(['product'], axis=1)\n",
    "features_data1 = data1.drop(['product'], axis=1)\n",
    "features_data2 = data2.drop(['product'], axis=1)"
   ]
  },
  {
   "cell_type": "markdown",
   "metadata": {},
   "source": [
    "###  Разделим на обучающую (train)  и валидационную (valid) выборки в соотношении 75:25"
   ]
  },
  {
   "cell_type": "code",
   "execution_count": 14,
   "metadata": {},
   "outputs": [],
   "source": [
    "features_train0, features_valid0, target_train0, target_valid0 = train_test_split(features_data0, target_data0, test_size=0.25, \n",
    "                                                                              random_state=12345 )\n",
    "features_train1, features_valid1, target_train1, target_valid1 = train_test_split(features_data1, target_data1, test_size=0.25, \n",
    "                                                                              random_state=12345 )\n",
    "features_train2, features_valid2, target_train2, target_valid2 = train_test_split(features_data2, target_data2, test_size=0.25, \n",
    "                                                                              random_state=12345 )"
   ]
  },
  {
   "cell_type": "markdown",
   "metadata": {},
   "source": [
    "### Обучим модели для каждого региона"
   ]
  },
  {
   "cell_type": "code",
   "execution_count": 15,
   "metadata": {},
   "outputs": [],
   "source": [
    "model_0 = LinearRegression()\n",
    "model_0.fit(features_train0, target_train0)\n",
    "predicted_valid_0 = model_0.predict(features_valid0)"
   ]
  },
  {
   "cell_type": "code",
   "execution_count": 16,
   "metadata": {},
   "outputs": [],
   "source": [
    "model_1 = LinearRegression()\n",
    "model_1.fit(features_train1, target_train1)\n",
    "predicted_valid_1 = model_1.predict(features_valid1)"
   ]
  },
  {
   "cell_type": "code",
   "execution_count": 17,
   "metadata": {},
   "outputs": [],
   "source": [
    "model_2 = LinearRegression()\n",
    "model_2.fit(features_train2, target_train2)\n",
    "predicted_valid_2 = model_2.predict(features_valid2)"
   ]
  },
  {
   "cell_type": "markdown",
   "metadata": {},
   "source": [
    "### Подсчитаем средний запас сырья и RMSE моделей по регионам"
   ]
  },
  {
   "cell_type": "code",
   "execution_count": 18,
   "metadata": {},
   "outputs": [
    {
     "name": "stdout",
     "output_type": "stream",
     "text": [
      "Данные по региону № 0\n",
      "Средний запас сырья = 92.50 тыс. баррель\n",
      "RMSE модели = 37.58\n"
     ]
    }
   ],
   "source": [
    "mse_0 = mean_squared_error(target_valid0, predicted_valid_0)\n",
    "rmse_0 = mse_0 ** 0.5\n",
    "mean_0 = data0['product'].mean()\n",
    "print('Данные по региону № 0')\n",
    "print('Средний запас сырья = {:.2F}'.format(mean_0),'тыс. баррель')\n",
    "print('RMSE модели = {:.2f}'.format(rmse_0))"
   ]
  },
  {
   "cell_type": "code",
   "execution_count": 19,
   "metadata": {},
   "outputs": [
    {
     "name": "stdout",
     "output_type": "stream",
     "text": [
      "Данные по региону № 1\n",
      "Средний запас сырья = 68.83 тыс. баррель\n",
      "RMSE модели = 0.89\n"
     ]
    }
   ],
   "source": [
    "mse_1 = mean_squared_error(target_valid1, predicted_valid_1)\n",
    "rmse_1 = mse_1 ** 0.5\n",
    "mean_1 = data1['product'].mean()\n",
    "print('Данные по региону № 1')\n",
    "print('Средний запас сырья = {:.2F}'.format(mean_1),'тыс. баррель')\n",
    "print('RMSE модели = {:.2f}'.format(rmse_1))"
   ]
  },
  {
   "cell_type": "code",
   "execution_count": 20,
   "metadata": {},
   "outputs": [
    {
     "name": "stdout",
     "output_type": "stream",
     "text": [
      "Данные по региону № 2\n",
      "Средний запас сырья = 95.00 тыс. баррель\n",
      "RMSE модели = 40.03\n"
     ]
    }
   ],
   "source": [
    "mse_2 = mean_squared_error(target_valid2, predicted_valid_2)\n",
    "rmse_2 = mse_2 ** 0.5\n",
    "mean_2 = data2['product'].mean()\n",
    "print('Данные по региону № 2')\n",
    "print('Средний запас сырья = {:.2F}'.format(mean_2),'тыс. баррель')\n",
    "print('RMSE модели = {:.2f}'.format(rmse_2))"
   ]
  },
  {
   "cell_type": "markdown",
   "metadata": {},
   "source": [
    "### На основании полученных данных можно сделать следующий вывод: Наибольший средний запас сырья в размере 95 находится в регионе № 2 , далее регион № 0 со средним запасом сырья равным 92.5 и наименьший запас сырья имеет регион № 1 - 68,8. Метрика качества mse в исходных единицах измерения - RMSE (корень от среднеквадратичной ошибки) составил: по регионам №0 = 37,5 №1 = 0,89 , №2 = 40"
   ]
  },
  {
   "cell_type": "markdown",
   "metadata": {},
   "source": [
    "# 3. Подготовка к расчёту прибыли"
   ]
  },
  {
   "cell_type": "markdown",
   "metadata": {},
   "source": [
    "### Для расчета прибыли сохраним необходимые зачения "
   ]
  },
  {
   "cell_type": "code",
   "execution_count": 21,
   "metadata": {},
   "outputs": [],
   "source": [
    "# сохраним стоимость бурения одной скважины\n",
    "DRILLING_PRISE = 50000000\n",
    "# Бюджет на разработку месторождений\n",
    "BUDGET = 10000000000\n",
    "# прибыль с одного барреля сырья\n",
    "PROFIT_BARREL = 4500\n",
    "# количество иследований при разведке региона\n",
    "COUNT_POINT = 500\n"
   ]
  },
  {
   "cell_type": "markdown",
   "metadata": {},
   "source": [
    "# 4. Расчёт прибыли и рисков "
   ]
  },
  {
   "cell_type": "markdown",
   "metadata": {},
   "source": [
    "### Произведем подсчет минимального среднего объема сырья в месторождениях региона, достаточный для его разработки"
   ]
  },
  {
   "cell_type": "markdown",
   "metadata": {},
   "source": [
    "### Предположим, что минимальный средний объем сырья в месторождениях региона, достаточный для его разработки должен быть не ниже уровня при котором прибыль по крайней мере сравняется с инвестициями в разработку месторождений. Иными словами разница между бюджетом на разработку месторождений и прибылью от добытых баррелей сырья будет нулевой. Прибыль будет слаживатся из количества пробуренных скважин и среднего объема сырья. Количество скважин равняется сумме бюджета поделеной на стоимость одной скважины. "
   ]
  },
  {
   "cell_type": "code",
   "execution_count": 22,
   "metadata": {},
   "outputs": [
    {
     "name": "stdout",
     "output_type": "stream",
     "text": [
      "Минимальный средний объем сырья = 11.11 тыс. баррель\n"
     ]
    }
   ],
   "source": [
    "count_oil_well = BUDGET / DRILLING_PRISE\n",
    "min_mean_volume = BUDGET / (count_oil_well * PROFIT_BARREL )\n",
    "print('Минимальный средний объем сырья = {:.2f}'.format(min_mean_volume/1000), \"тыс. баррель\")"
   ]
  },
  {
   "cell_type": "markdown",
   "metadata": {},
   "source": [
    "### Исходя из сделаного предположения получен результат минимального среднего объемы сырья в месторождениях региона должен быть более 11,11 тыс.баррелей. Запасы во всех трех регионах превышают минимальный уровень."
   ]
  },
  {
   "cell_type": "markdown",
   "metadata": {},
   "source": [
    "### Создадим функцию для расчета прибыли по набору отобранных месторождений и предсказаний модели"
   ]
  },
  {
   "cell_type": "code",
   "execution_count": 23,
   "metadata": {},
   "outputs": [],
   "source": [
    "def revenue(target, probabilities, count):\n",
    "    probs_sorted = probabilities.sort_values(ascending=False)\n",
    "    selected = target[probs_sorted.index][:count]\n",
    "    return (( selected.sum() * 1000 * PROFIT_BARREL) - (DRILLING_PRISE * count)) / 1000000000 # делением примедем к милрд. руб."
   ]
  },
  {
   "cell_type": "markdown",
   "metadata": {},
   "source": [
    "### Расчитаем среднюю прибыль, 95%-й доверительный интервал и риск убытков на уровне 2.5% для региона №0"
   ]
  },
  {
   "cell_type": "code",
   "execution_count": 24,
   "metadata": {},
   "outputs": [],
   "source": [
    "probabilities = pd.Series(np.array(predicted_valid_0))\n",
    "target_valid0 = target_valid0.reset_index(drop=True) \n",
    "state = np.random.RandomState(12345)\n",
    "values_0 = []\n",
    "for i in range(1000):\n",
    "    target_subsample = target_valid0.sample(n=500, replace=True, random_state=state) ### ошибка\n",
    "    probs_subsample = probabilities[target_subsample.index]  \n",
    "    values_0.append(revenue(target_subsample, probs_subsample, 200))"
   ]
  },
  {
   "cell_type": "code",
   "execution_count": 25,
   "metadata": {},
   "outputs": [
    {
     "name": "stdout",
     "output_type": "stream",
     "text": [
      "Данные по региону № 0\n",
      "Средняя выручка: 94.26 млрд.руб\n",
      "95%-доверительный интервал:  (94.087322070687, 94.43144846752487) млрд.руб\n",
      "Риск убытков = 0.0 %\n"
     ]
    }
   ],
   "source": [
    "values = pd.Series(values_0) \n",
    "confidence_interval = st.t.interval(0.95, len(values_0)-1, loc=values.mean(), scale=st.sem(values))\n",
    "mean = values.mean() \n",
    "lower = st.percentileofscore(values, 0) # расчет доли отрицательных значений прибыли\n",
    "print('Данные по региону № 0')\n",
    "print(\"Средняя выручка: {:.2f}\" .format(mean), 'млрд.руб')\n",
    "print(\"95%-доверительный интервал: \", confidence_interval, 'млрд.руб')\n",
    "print('Риск убытков =', lower, '%')"
   ]
  },
  {
   "cell_type": "markdown",
   "metadata": {},
   "source": [
    "### Расчитаем среднюю прибыл, 95%-й доверительный интервал и риск убытков на уровне 2.5% для региона №1"
   ]
  },
  {
   "cell_type": "code",
   "execution_count": 26,
   "metadata": {},
   "outputs": [],
   "source": [
    "probabilities = pd.Series(np.array(predicted_valid_1))\n",
    "target_valid1 = target_valid1.reset_index(drop=True)\n",
    "state = np.random.RandomState(12345)\n",
    "values_1 = []\n",
    "for i in range(1000):\n",
    "    target_subsample = target_valid1.sample(n=500, replace=True, random_state=state) \n",
    "    probs_subsample = probabilities[target_subsample.index]  \n",
    "    values_1.append(revenue(target_subsample, probs_subsample, 200))"
   ]
  },
  {
   "cell_type": "code",
   "execution_count": 27,
   "metadata": {},
   "outputs": [
    {
     "name": "stdout",
     "output_type": "stream",
     "text": [
      "Данные по региону № 1\n",
      "Средняя выручка: 95.15 млрд.руб\n",
      "95%-доверительный интервал:  (95.01621476176322, 95.28824070710257) млрд.руб\n",
      "Риск убытков = 0.0 %\n"
     ]
    }
   ],
   "source": [
    "values = pd.Series(values_1) \n",
    "confidence_interval = st.t.interval(0.95, len(values)-1, loc=values.mean(), scale=st.sem(values))\n",
    "mean = values.mean()\n",
    "lower = st.percentileofscore(values, 0)\n",
    "print('Данные по региону № 1')\n",
    "print(\"Средняя выручка: {:.2f}\" .format(mean), 'млрд.руб')\n",
    "print(\"95%-доверительный интервал: \", confidence_interval, 'млрд.руб')\n",
    "print('Риск убытков =', lower, '%')"
   ]
  },
  {
   "cell_type": "markdown",
   "metadata": {},
   "source": [
    "### Расчитаем среднюю прибыль, 95%-й доверительный интервал и риск убытков на уровне 2.5% для региона №2"
   ]
  },
  {
   "cell_type": "code",
   "execution_count": 28,
   "metadata": {},
   "outputs": [],
   "source": [
    "probabilities = pd.Series(np.array(predicted_valid_2))\n",
    "target_valid2 = target_valid2.reset_index(drop=True)\n",
    "state = np.random.RandomState(12345)\n",
    "values_2 = []\n",
    "for i in range(1000):\n",
    "    target_subsample = target_valid2.sample(n=500, replace=True, random_state=state) ### ошибка: target_valid2\n",
    "    probs_subsample = probabilities[target_subsample.index]  \n",
    "    values_2.append(revenue(target_subsample, probs_subsample, 200))"
   ]
  },
  {
   "cell_type": "code",
   "execution_count": 29,
   "metadata": {},
   "outputs": [
    {
     "name": "stdout",
     "output_type": "stream",
     "text": [
      "Данные по региону № 2\n",
      "Средняя выручка: 94.35 млрд.руб\n",
      "95%-доверительный интервал:  (94.17453552041358, 94.52563173524153) млрд.руб\n",
      "Риск убытков = 0.0 %\n"
     ]
    }
   ],
   "source": [
    "values = pd.Series(values_2) \n",
    "confidence_interval = st.t.interval(0.95, len(values)-1, loc=values.mean(), scale=st.sem(values))\n",
    "mean = values.mean()\n",
    "lower = st.percentileofscore(values, 0)\n",
    "print('Данные по региону № 2')\n",
    "print(\"Средняя выручка: {:.2f}\" .format(mean), 'млрд.руб')\n",
    "print(\"95%-доверительный интервал: \", confidence_interval, 'млрд.руб')\n",
    "print('Риск убытков =', lower, '%')"
   ]
  },
  {
   "cell_type": "markdown",
   "metadata": {},
   "source": [
    "### Проведя иследование получили следующие результаты:\n",
    "### Наибольшая средняя выручка получена для региона №1 и составила 95.15 млрд. рублей (с 95% доверительным интервалом 95.01 - 95.28) , следующий регион по величине средней выручки 94.35 млн. рублей №2 (с 95% доверительным интервалом 94.17 - 94.52)  и наименьший показатель имеет регион №0 = 94.26 млрд. рублей (с 95% доверительным интервалом 94.08 - 94.43) . \n",
    "### При этом риск убытков на уровне  2,5%, показывающий долю скважин с отрицательной прибылью,  для всех регионов был получен равным нулевому значению."
   ]
  },
  {
   "cell_type": "markdown",
   "metadata": {},
   "source": [
    "## Общий вывод"
   ]
  },
  {
   "cell_type": "markdown",
   "metadata": {},
   "source": [
    "### Рассматривая результаты исследований можно заметить, что ни один регион не показал риск убытков выше 2,5% и это позволяет рассматривать все три региона для разработки месторождений. При этом наибольший средний запас сырья в размере 73.37 находится в регионе № 2 , далее регион № 0 со средним запасом сырья равным 72.73 и наименьший запас сырья имеет регион № 1 - 68,8. Метрика качества построиных моделией - RMSE (корень от среднеквадратичной ошибки) составил: по регионам №0 = 37,5 №1 = 0,89 , №2 = 40. Наибольшая средняя выручка получена для региона №1 и составила 95.15 млрд. рублей, следующий регион, по величине средней выручки 94.35 млн. рублей, №2 и наименьший показатель имеет регион №0 = 94.26 млрд. рублей.                        \n",
    "### Исходя из наибольшей средней прибыли можно предложитть для разработки месторождений регион №1."
   ]
  },
  {
   "cell_type": "code",
   "execution_count": null,
   "metadata": {},
   "outputs": [],
   "source": []
  }
 ],
 "metadata": {
  "kernelspec": {
   "display_name": "Python 3",
   "language": "python",
   "name": "python3"
  },
  "language_info": {
   "codemirror_mode": {
    "name": "ipython",
    "version": 3
   },
   "file_extension": ".py",
   "mimetype": "text/x-python",
   "name": "python",
   "nbconvert_exporter": "python",
   "pygments_lexer": "ipython3",
   "version": "3.7.4"
  }
 },
 "nbformat": 4,
 "nbformat_minor": 2
}
