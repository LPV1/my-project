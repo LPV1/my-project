{
 "cells": [
  {
   "cell_type": "markdown",
   "metadata": {},
   "source": [
    "## Исследование надёжности заёмщиков\n",
    "\n",
    "Заказчик — кредитный отдел банка. Нужно разобраться, влияет ли семейное положение и количество детей клиента на факт погашения кредита в срок. Входные данные от банка — статистика о платёжеспособности клиентов.\n",
    "\n",
    "Результаты исследования будут учтены при построении модели **кредитного скоринга** — специальной системы, которая оценивает способность потенциального заёмщика вернуть кредит банку."
   ]
  },
  {
   "cell_type": "markdown",
   "metadata": {},
   "source": [
    "### Шаг 1. Откроем файл с данными и изучим общую информацию. "
   ]
  },
  {
   "cell_type": "code",
   "execution_count": 15,
   "metadata": {},
   "outputs": [
    {
     "data": {
      "text/html": [
       "<div>\n",
       "<style scoped>\n",
       "    .dataframe tbody tr th:only-of-type {\n",
       "        vertical-align: middle;\n",
       "    }\n",
       "\n",
       "    .dataframe tbody tr th {\n",
       "        vertical-align: top;\n",
       "    }\n",
       "\n",
       "    .dataframe thead th {\n",
       "        text-align: right;\n",
       "    }\n",
       "</style>\n",
       "<table border=\"1\" class=\"dataframe\">\n",
       "  <thead>\n",
       "    <tr style=\"text-align: right;\">\n",
       "      <th></th>\n",
       "      <th>Unnamed: 0</th>\n",
       "      <th>children</th>\n",
       "      <th>days_employed</th>\n",
       "      <th>dob_years</th>\n",
       "      <th>education</th>\n",
       "      <th>education_id</th>\n",
       "      <th>family_status</th>\n",
       "      <th>family_status_id</th>\n",
       "      <th>gender</th>\n",
       "      <th>income_type</th>\n",
       "      <th>debt</th>\n",
       "      <th>total_income</th>\n",
       "      <th>purpose</th>\n",
       "      <th>purpose_lemmatize</th>\n",
       "    </tr>\n",
       "  </thead>\n",
       "  <tbody>\n",
       "    <tr>\n",
       "      <td>0</td>\n",
       "      <td>0</td>\n",
       "      <td>1</td>\n",
       "      <td>-8437</td>\n",
       "      <td>42</td>\n",
       "      <td>высшее</td>\n",
       "      <td>0</td>\n",
       "      <td>женат / замужем</td>\n",
       "      <td>0</td>\n",
       "      <td>F</td>\n",
       "      <td>сотрудник</td>\n",
       "      <td>0</td>\n",
       "      <td>253875</td>\n",
       "      <td>покупка жилья</td>\n",
       "      <td>недвижимость</td>\n",
       "    </tr>\n",
       "    <tr>\n",
       "      <td>1</td>\n",
       "      <td>1</td>\n",
       "      <td>1</td>\n",
       "      <td>-4024</td>\n",
       "      <td>36</td>\n",
       "      <td>среднее</td>\n",
       "      <td>1</td>\n",
       "      <td>женат / замужем</td>\n",
       "      <td>0</td>\n",
       "      <td>F</td>\n",
       "      <td>сотрудник</td>\n",
       "      <td>0</td>\n",
       "      <td>112080</td>\n",
       "      <td>приобретение автомобиля</td>\n",
       "      <td>автомобиль</td>\n",
       "    </tr>\n",
       "    <tr>\n",
       "      <td>2</td>\n",
       "      <td>2</td>\n",
       "      <td>0</td>\n",
       "      <td>-5623</td>\n",
       "      <td>33</td>\n",
       "      <td>среднее</td>\n",
       "      <td>1</td>\n",
       "      <td>женат / замужем</td>\n",
       "      <td>0</td>\n",
       "      <td>M</td>\n",
       "      <td>сотрудник</td>\n",
       "      <td>0</td>\n",
       "      <td>145885</td>\n",
       "      <td>покупка жилья</td>\n",
       "      <td>недвижимость</td>\n",
       "    </tr>\n",
       "    <tr>\n",
       "      <td>3</td>\n",
       "      <td>3</td>\n",
       "      <td>3</td>\n",
       "      <td>-4124</td>\n",
       "      <td>32</td>\n",
       "      <td>среднее</td>\n",
       "      <td>1</td>\n",
       "      <td>женат / замужем</td>\n",
       "      <td>0</td>\n",
       "      <td>M</td>\n",
       "      <td>сотрудник</td>\n",
       "      <td>0</td>\n",
       "      <td>267628</td>\n",
       "      <td>дополнительное образование</td>\n",
       "      <td>образование</td>\n",
       "    </tr>\n",
       "    <tr>\n",
       "      <td>4</td>\n",
       "      <td>4</td>\n",
       "      <td>0</td>\n",
       "      <td>340266</td>\n",
       "      <td>53</td>\n",
       "      <td>среднее</td>\n",
       "      <td>1</td>\n",
       "      <td>гражданский брак</td>\n",
       "      <td>1</td>\n",
       "      <td>F</td>\n",
       "      <td>пенсионер</td>\n",
       "      <td>0</td>\n",
       "      <td>158616</td>\n",
       "      <td>сыграть свадьбу</td>\n",
       "      <td>свадьба</td>\n",
       "    </tr>\n",
       "  </tbody>\n",
       "</table>\n",
       "</div>"
      ],
      "text/plain": [
       "   Unnamed: 0  children  days_employed  dob_years education  education_id  \\\n",
       "0           0         1          -8437         42    высшее             0   \n",
       "1           1         1          -4024         36   среднее             1   \n",
       "2           2         0          -5623         33   среднее             1   \n",
       "3           3         3          -4124         32   среднее             1   \n",
       "4           4         0         340266         53   среднее             1   \n",
       "\n",
       "      family_status  family_status_id gender income_type  debt  total_income  \\\n",
       "0   женат / замужем                 0      F   сотрудник     0        253875   \n",
       "1   женат / замужем                 0      F   сотрудник     0        112080   \n",
       "2   женат / замужем                 0      M   сотрудник     0        145885   \n",
       "3   женат / замужем                 0      M   сотрудник     0        267628   \n",
       "4  гражданский брак                 1      F   пенсионер     0        158616   \n",
       "\n",
       "                      purpose purpose_lemmatize  \n",
       "0               покупка жилья      недвижимость  \n",
       "1     приобретение автомобиля        автомобиль  \n",
       "2               покупка жилья      недвижимость  \n",
       "3  дополнительное образование       образование  \n",
       "4             сыграть свадьбу           свадьба  "
      ]
     },
     "execution_count": 15,
     "metadata": {},
     "output_type": "execute_result"
    }
   ],
   "source": [
    "import pandas as pd\n",
    "#загрузим таблицу и получем информацию о ней\n",
    "data_statistics = pd.read_csv(r'C:\\Users\\Галина\\Desktop\\DS save\\name.csv')\n",
    "data_statistics.head(5)\n"
   ]
  },
  {
   "cell_type": "code",
   "execution_count": 16,
   "metadata": {},
   "outputs": [
    {
     "name": "stdout",
     "output_type": "stream",
     "text": [
      "<class 'pandas.core.frame.DataFrame'>\n",
      "RangeIndex: 21454 entries, 0 to 21453\n",
      "Data columns (total 14 columns):\n",
      "Unnamed: 0           21454 non-null int64\n",
      "children             21454 non-null int64\n",
      "days_employed        21454 non-null int64\n",
      "dob_years            21454 non-null int64\n",
      "education            21454 non-null object\n",
      "education_id         21454 non-null int64\n",
      "family_status        21454 non-null object\n",
      "family_status_id     21454 non-null int64\n",
      "gender               21454 non-null object\n",
      "income_type          21454 non-null object\n",
      "debt                 21454 non-null int64\n",
      "total_income         21454 non-null int64\n",
      "purpose              21454 non-null object\n",
      "purpose_lemmatize    21454 non-null object\n",
      "dtypes: int64(8), object(6)\n",
      "memory usage: 2.3+ MB\n"
     ]
    }
   ],
   "source": [
    "data_statistics.info()"
   ]
  },
  {
   "cell_type": "markdown",
   "metadata": {},
   "source": [
    "### В таблице имеется 12 столбцов и 21525 наблюдений, в разных столбцах разное количество значенний non-null - следовательно имеются пропущенные значения, разные типы данных. При просмотре данных таблицы можно заметить, что days_employed(стаж работы) имеет как положительные так и отрицательные значения, education(уровень образования) значения прописаны в разных регистрах, purpose - возможно написание одной и той же цели разными словосочетаниями."
   ]
  },
  {
   "cell_type": "markdown",
   "metadata": {},
   "source": [
    "### Шаг 2. Предобработка данных"
   ]
  },
  {
   "cell_type": "markdown",
   "metadata": {},
   "source": [
    "### Обработка пропусков"
   ]
  },
  {
   "cell_type": "code",
   "execution_count": 2,
   "metadata": {
    "scrolled": true
   },
   "outputs": [
    {
     "name": "stdout",
     "output_type": "stream",
     "text": [
      "Unnamed: 0           0\n",
      "children             0\n",
      "days_employed        0\n",
      "dob_years            0\n",
      "education            0\n",
      "education_id         0\n",
      "family_status        0\n",
      "family_status_id     0\n",
      "gender               0\n",
      "income_type          0\n",
      "debt                 0\n",
      "total_income         0\n",
      "purpose              0\n",
      "purpose_lemmatize    0\n",
      "dtype: int64\n",
      "income_type\n",
      "безработный        131339.000000\n",
      "в декрете           53829.000000\n",
      "госслужащий        170897.818119\n",
      "компаньон          202416.971445\n",
      "пенсионер          137126.973884\n",
      "предприниматель    499163.000000\n",
      "сотрудник          161379.779682\n",
      "студент             98201.000000\n",
      "Name: total_income, dtype: float64\n"
     ]
    }
   ],
   "source": [
    "#проверяем наличие пропусков в столбцах\n",
    "print(data_statistics.isnull().sum())\n",
    "#так как в столбце содержащим информацию о общим трудовом стаже в днях данные вероятно испорчены и приниматся в расчет\n",
    "# дальнешем не будут заменим пропуски на нулевые значения.\n",
    "data_statistics['days_employed'] = data_statistics['days_employed'].fillna(0)\n",
    "#данные в столбце с информацией ежемесечного досода имеют ценность и будут расматриваться в дальнешем анализе\n",
    "#найдем характерные значения в столбцах с пропусками сгрупироваными по типу занетости для более точного определения пропущенных значений\n",
    "print(data_statistics.groupby('income_type')['total_income'].mean())\n",
    "\n",
    "#заменим отсутствующие значения на характерные с учетом групп занятости\n",
    "data_statistics.loc[(data_statistics['total_income'].isnull()) & (data_statistics['income_type'] == 'предприниматель'),'total_income'] = 499163.14494 \n",
    "data_statistics.loc[(data_statistics['income_type'] == 'пенсионер') & (data_statistics['total_income'].isnull()), 'total_income'] = 137127.465690\n",
    "data_statistics.loc[(data_statistics['income_type'] == 'компаньон') & (data_statistics['total_income'].isnull()), 'total_income'] = 202417.461462\n",
    "data_statistics.loc[(data_statistics['income_type'] == 'госслужащий') & (data_statistics['total_income'].isnull()), 'total_income'] = 170898.309923\n",
    "data_statistics.loc[(data_statistics['income_type'] == 'безработный') & (data_statistics['total_income'].isnull()), 'total_income'] = 131339.751676\n",
    "data_statistics.loc[(data_statistics['income_type'] == 'в декрете') & (data_statistics['total_income'].isnull()), 'total_income'] = 53829.130729\n",
    "data_statistics.loc[(data_statistics['income_type'] == 'студент') & (data_statistics['total_income'].isnull()), 'total_income'] = 98201.625314\n",
    "data_statistics.loc[(data_statistics['income_type'] == 'сотрудник') & (data_statistics['total_income'].isnull()), 'total_income'] = 161380.260488\n",
    "\n"
   ]
  },
  {
   "cell_type": "markdown",
   "metadata": {},
   "source": [
    "### Были обнаружены пропуски в столбцах days_employed - общий трудовой стаж и total_incometotal_income - ежемесечный доход.  При расмотрении  столбца days_employed можно заметить, что данные иеют труднообъснимые значения (часть отрицательные, многие имеют очень большие значения). Можно предположить, что данные в столбце испорченны и немогут приниматся к учету, вседствии этого можно заменить пропущенные в нем значения на нулевые, т.к. в дальнешем данный столбец не будем использовать при иследовании.  Напротив в столбце  total_incometotal_income содержатся ценные значения которые в дальнейшем будут использованы для анализа. Доходы заемщиков можно группировать по типу занятости  \"income_type\" и высчитать характерные значения для этих групп. Затем заменяем пропуски на характерный значения для этих столбцов в зависимости от типа занятости.\n",
    "\n",
    "При просмотре таблица можно заметить, что данные пропуски имеются у одних и тех же заемщиков. Пропуски могли возникнуть из-за не предоставлении заемщиком необходимой информации в полном объеме - отсутствия справки о ежемесечном доходе и трудовом стаже (песионер, учащийся, официально нетрудоустроенный).\n"
   ]
  },
  {
   "cell_type": "markdown",
   "metadata": {},
   "source": [
    "### Замена типа данных"
   ]
  },
  {
   "cell_type": "code",
   "execution_count": 3,
   "metadata": {},
   "outputs": [
    {
     "name": "stdout",
     "output_type": "stream",
     "text": [
      "1220018989\n",
      "3592077197.0\n",
      "<class 'pandas.core.frame.DataFrame'>\n",
      "RangeIndex: 21454 entries, 0 to 21453\n",
      "Data columns (total 14 columns):\n",
      "Unnamed: 0           21454 non-null int64\n",
      "children             21454 non-null int64\n",
      "days_employed        21454 non-null int32\n",
      "dob_years            21454 non-null int64\n",
      "education            21454 non-null object\n",
      "education_id         21454 non-null int64\n",
      "family_status        21454 non-null object\n",
      "family_status_id     21454 non-null int64\n",
      "gender               21454 non-null object\n",
      "income_type          21454 non-null object\n",
      "debt                 21454 non-null int64\n",
      "total_income         21454 non-null int32\n",
      "purpose              21454 non-null object\n",
      "purpose_lemmatize    21454 non-null object\n",
      "dtypes: int32(2), int64(6), object(6)\n",
      "memory usage: 2.1+ MB\n"
     ]
    }
   ],
   "source": [
    "#проверим подсчет суммы в проблемных столбцах для исключения наличия в них строковых значений\n",
    "print(data_statistics['days_employed'].sum())\n",
    "print(data_statistics['total_income'].sum())\n",
    "#в столбцах вешшественное число заменим на целое число\n",
    "data_statistics['days_employed'] = data_statistics['days_employed'].astype('int')\n",
    "data_statistics['total_income'] = data_statistics['total_income'].astype('int')\n",
    "#проверим правильность замены\n",
    "data_statistics.info()\n"
   ]
  },
  {
   "cell_type": "markdown",
   "metadata": {},
   "source": [
    "### Имеем столбцы: 2 вещественное число, 5 целое число, 5 стороковые. Заменим вещественное на целое float64 -> int64. есть два способа замены типа данных 1) to_numeric() если имеем некорректные значения в столбце и 2) .astype('int') для преобразования из вещестненного в целочисленный. Воспользовался вторым , так как сумма по выбранным столбцам подсчитывается корректно"
   ]
  },
  {
   "cell_type": "markdown",
   "metadata": {},
   "source": [
    "### Обработка дубликатов"
   ]
  },
  {
   "cell_type": "code",
   "execution_count": 4,
   "metadata": {},
   "outputs": [
    {
     "name": "stdout",
     "output_type": "stream",
     "text": [
      "0\n",
      "0\n"
     ]
    }
   ],
   "source": [
    "#проверим наличие дубликатов\n",
    "print(data_statistics.duplicated().sum()) \n",
    "\n",
    "#приведем весь текст к нижнему регистру\n",
    "data_statistics['education'] = data_statistics['education'].str.lower()\n",
    "#удалим дубликаты\n",
    "data_statistics = data_statistics.drop_duplicates().reset_index(drop = True)\n",
    "\n",
    "#проверим наличие дубликатов после выполнения удаления \n",
    "print(data_statistics.duplicated().sum())\n"
   ]
  },
  {
   "cell_type": "markdown",
   "metadata": {},
   "source": [
    "### применем к таблице метод .duplicated() для оценки наличия дубликатов из-за использования разного регистра при внесении данных. Видим написание разными регистрами -применим метод .str.lower() для приведения к нижнему регистру и метод .drop_duplicates() для удаления дубликатов. проверим -  дубликаты удаленны"
   ]
  },
  {
   "cell_type": "code",
   "execution_count": 5,
   "metadata": {},
   "outputs": [],
   "source": [
    "#from pymystem3 import Mystem\n",
    "#m = Mystem()\n",
    "#def purpose_lemm(text):     \n",
    " #   lemmas = m.lemmatize(text) \n",
    "  #  from collections import Counter\n",
    "   # print(Counter(lemmas))\n",
    "#data_statistics['purpose_lemmatize'] = data_statistics['purpose'].apply(purpose_lemm)"
   ]
  },
  {
   "cell_type": "markdown",
   "metadata": {},
   "source": [
    "### Лемматизация"
   ]
  },
  {
   "cell_type": "code",
   "execution_count": 6,
   "metadata": {},
   "outputs": [
    {
     "name": "stdout",
     "output_type": "stream",
     "text": [
      "что-то сломалось :(\n"
     ]
    }
   ],
   "source": [
    "#импортируем библиотеку pymystem3\n",
    "try:\n",
    "    from pymystem3 import Mystem\n",
    "    m = Mystem()\n",
    "    #создадим функцию для лемматизации\n",
    "    def purpose_lemmatize(text):\n",
    "        lemmas = m.lemmatize(text) \n",
    "        if 'свадьба' in lemmas:\n",
    "            return 'свадьба'\n",
    "        if 'недвижимость'in lemmas:\n",
    "            return 'недвижимость'\n",
    "        if 'жилье' in lemmas:\n",
    "            return 'недвижимость'\n",
    "        if 'автомобиль'in lemmas:\n",
    "            return 'автомобиль'\n",
    "        if 'образование' in lemmas:\n",
    "            return 'образование'\n",
    "    #применим функцию к столбцу таблицы\n",
    "    data_statistics['purpose_lemmatize'] = data_statistics['purpose'].apply(purpose_lemmatize)                                                                                      \n",
    "    #print(data_statistics['purpose_lemmatize'])\n",
    "except:\n",
    "    print('что-то сломалось :(')"
   ]
  },
  {
   "cell_type": "markdown",
   "metadata": {},
   "source": [
    "### в столбце 'purpose' прописаны цели кредитования. Предпологается, что сходные цели прописаны в разных вариациях. Для последующей категоризации проведем леммитизацию столбца. Так как обращение будет проводится к одному столбцу из таблицы применим метод data['column'].apply(metod), перед этим импортируем библиотеку pymystem3 и создаем функцию. В функцию включим проверку на соответствие основным целям кредитования: автомобиль, свадьба, недвижимость (объединив с жильем), образования и поместим в таблицу."
   ]
  },
  {
   "cell_type": "markdown",
   "metadata": {},
   "source": [
    "### Категоризация данных"
   ]
  },
  {
   "cell_type": "code",
   "execution_count": 7,
   "metadata": {},
   "outputs": [],
   "source": [
    "#создадим словари для иследования\n",
    "data_children = data_statistics[['children','debt']]\n",
    "data_family_status = data_statistics[['family_status','debt']]\n",
    "data_total_income =data_statistics[['total_income','debt']]\n",
    "data_purpose = data_statistics[['purpose_lemmatize','debt']]\n"
   ]
  },
  {
   "cell_type": "markdown",
   "metadata": {},
   "source": [
    "### Производим категоризацию данных. На этом этапе создаем словари для анализа данных таблицы:\n",
    "1.data_children - для иследования зависимости возврата кредита и наличия детей у заемщика;\n",
    "2.data_family_status - для иследования зависимости возврата кредита и семейного положения заемщика;\n",
    "3.data_total_income - для иследования зависимости возврата кредита и уровня дохода заемщика;\n",
    "4.data_purpose - для иследования зависимости возврата кредита и цели кредита.,\n",
    "Категоризацию проводим исходя из предположений, что выбранные данные могут повлиять на финансовое положение заемщика. \n"
   ]
  },
  {
   "cell_type": "markdown",
   "metadata": {},
   "source": [
    "### Шаг 3. Ответим на вопросы"
   ]
  },
  {
   "cell_type": "markdown",
   "metadata": {},
   "source": [
    "- Есть ли зависимость между наличием детей и возвратом кредита в срок?"
   ]
  },
  {
   "cell_type": "code",
   "execution_count": 12,
   "metadata": {},
   "outputs": [
    {
     "name": "stderr",
     "output_type": "stream",
     "text": [
      "C:\\ProgramData\\Anaconda3\\lib\\site-packages\\ipykernel_launcher.py:16: SettingWithCopyWarning: \n",
      "A value is trying to be set on a copy of a slice from a DataFrame.\n",
      "Try using .loc[row_indexer,col_indexer] = value instead\n",
      "\n",
      "See the caveats in the documentation: http://pandas.pydata.org/pandas-docs/stable/user_guide/indexing.html#returning-a-view-versus-a-copy\n",
      "  app.launch_new_instance()\n",
      "C:\\ProgramData\\Anaconda3\\lib\\site-packages\\ipykernel_launcher.py:17: SettingWithCopyWarning: \n",
      "A value is trying to be set on a copy of a slice from a DataFrame.\n",
      "Try using .loc[row_indexer,col_indexer] = value instead\n",
      "\n",
      "See the caveats in the documentation: http://pandas.pydata.org/pandas-docs/stable/user_guide/indexing.html#returning-a-view-versus-a-copy\n"
     ]
    },
    {
     "data": {
      "text/html": [
       "<div>\n",
       "<style scoped>\n",
       "    .dataframe tbody tr th:only-of-type {\n",
       "        vertical-align: middle;\n",
       "    }\n",
       "\n",
       "    .dataframe tbody tr th {\n",
       "        vertical-align: top;\n",
       "    }\n",
       "\n",
       "    .dataframe thead th {\n",
       "        text-align: right;\n",
       "    }\n",
       "</style>\n",
       "<table border=\"1\" class=\"dataframe\">\n",
       "  <thead>\n",
       "    <tr style=\"text-align: right;\">\n",
       "      <th>info</th>\n",
       "      <th>has_debt</th>\n",
       "      <th>no_debt</th>\n",
       "      <th>ratio</th>\n",
       "    </tr>\n",
       "    <tr>\n",
       "      <th>name</th>\n",
       "      <th></th>\n",
       "      <th></th>\n",
       "      <th></th>\n",
       "    </tr>\n",
       "  </thead>\n",
       "  <tbody>\n",
       "    <tr>\n",
       "      <td>заемщик не имеющий детей</td>\n",
       "      <td>1063</td>\n",
       "      <td>13028</td>\n",
       "      <td>0.081593</td>\n",
       "    </tr>\n",
       "    <tr>\n",
       "      <td>заемщик с детьми</td>\n",
       "      <td>678</td>\n",
       "      <td>6685</td>\n",
       "      <td>0.101421</td>\n",
       "    </tr>\n",
       "  </tbody>\n",
       "</table>\n",
       "</div>"
      ],
      "text/plain": [
       "info                      has_debt  no_debt     ratio\n",
       "name                                                 \n",
       "заемщик не имеющий детей      1063    13028  0.081593\n",
       "заемщик с детьми               678     6685  0.101421"
      ]
     },
     "execution_count": 12,
     "metadata": {},
     "output_type": "execute_result"
    }
   ],
   "source": [
    "#создадим функцию для иследования зависимости наличия детей и наличия задолжности по кредиту\n",
    "def children_debt(row):\n",
    "    debt = row['debt']\n",
    "    if debt == 0:\n",
    "        return 'no_debt'\n",
    "    if debt == 1:\n",
    "        return 'has_debt'\n",
    "\n",
    "def children_name(row):\n",
    "    children = row['children']\n",
    "    if children == 0:\n",
    "        return 'заемщик не имеющий детей'\n",
    "    if children > 0:\n",
    "        return 'заемщик с детьми'\n",
    "#применим функцию к словарю\n",
    "data_children['info'] = data_children.apply(children_debt, axis=1)\n",
    "data_children['name'] = data_children.apply(children_name, axis=1)\n",
    "data_children_pivot = data_children.pivot_table(index = 'name', columns = 'info',\n",
    "                                                values = 'debt', aggfunc = 'count')\n",
    "# получим соотношение в зависимости от наличия задолжности по группам\n",
    "data_children_pivot['ratio'] = data_children_pivot['has_debt'] / data_children_pivot['no_debt']\n",
    "# посмотрим результат\n",
    "data_children_pivot                                           \n",
    "\n"
   ]
  },
  {
   "cell_type": "markdown",
   "metadata": {},
   "source": [
    "### согласно проведенному иследованию можно увидеть, что соотношение бездетных заемщиков имевших задолжности к  бездетным не имевшим задолжность составляет около 0,08 , а такое же соотношение среди имеющих детей составляет около 0,1 , что показавает различное соотношение по двум группам заемщиков и позволяет сделать вывод некотором уровне влияния  наличия детей у заемщика на появление задолжности по возврату кредита и предположить, что выдача кредитов заемщикам не имеющих детей предполагает несколько меньше  рисков по возникновению задолжности по кредиту  .\n"
   ]
  },
  {
   "cell_type": "markdown",
   "metadata": {},
   "source": [
    "- Есть ли зависимость между семейным положением и возвратом кредита в срок?"
   ]
  },
  {
   "cell_type": "code",
   "execution_count": 9,
   "metadata": {},
   "outputs": [
    {
     "name": "stdout",
     "output_type": "stream",
     "text": [
      "info                   has_debt  no_debt     ratio\n",
      "family_status                                     \n",
      "Не женат / не замужем       274     2536  0.108044\n",
      "в разводе                    85     1110  0.076577\n",
      "вдовец / вдова               63      896  0.070312\n",
      "гражданский брак            388     3763  0.103109\n",
      "женат / замужем             931    11408  0.081609\n"
     ]
    },
    {
     "name": "stderr",
     "output_type": "stream",
     "text": [
      "C:\\ProgramData\\Anaconda3\\lib\\site-packages\\ipykernel_launcher.py:9: SettingWithCopyWarning: \n",
      "A value is trying to be set on a copy of a slice from a DataFrame.\n",
      "Try using .loc[row_indexer,col_indexer] = value instead\n",
      "\n",
      "See the caveats in the documentation: http://pandas.pydata.org/pandas-docs/stable/user_guide/indexing.html#returning-a-view-versus-a-copy\n",
      "  if __name__ == '__main__':\n"
     ]
    }
   ],
   "source": [
    "#создадим функцию для иследования зависимости семейного положения и наличия задолжности по кредиту\n",
    "def family_debt(row):\n",
    "    debt = row['debt']\n",
    "    if debt == 0:\n",
    "        return 'no_debt'\n",
    "    if debt == 1:\n",
    "        return 'has_debt' \n",
    "            \n",
    "data_family_status['info'] = data_family_status.apply(family_debt, axis=1)\n",
    "\n",
    "\n",
    "data_family_status_pivot = data_family_status.pivot_table(index = 'family_status', columns = 'info',\n",
    "                                                values = 'debt', aggfunc = 'count')\n",
    "# получим соотношение в зависимости от наличия задолжности по группам\n",
    "data_family_status_pivot['ratio'] = data_family_status_pivot['has_debt'] / data_family_status_pivot['no_debt']\n",
    "##выведем на печать результат\n",
    "print(data_family_status_pivot)    "
   ]
  },
  {
   "cell_type": "markdown",
   "metadata": {},
   "source": [
    "### согласно проведенному иследованию можно увидеть, что соотношение  заемщиков    имевших задолжности к заемщикам той же группы не имевшим задолжность имеет яроко выраженую зависимость от семейного состояния заемщика. Так наименьшую зависимост 0,07 показала групп\"вдовец/вдова\", несколько большую зависимость имеют группы \"в разводе\" и \"женат/замужем\" около 0,076 и 0,08 соответствено, а наибольшую зависимость имеют группы\"гражданский брак\" и \"не женат/не замужем\"  около 0,10 и 0,11 соответственно."
   ]
  },
  {
   "cell_type": "markdown",
   "metadata": {},
   "source": [
    "- Есть ли зависимость между уровнем дохода и возвратом кредита в срок?"
   ]
  },
  {
   "cell_type": "code",
   "execution_count": 10,
   "metadata": {},
   "outputs": [
    {
     "name": "stdout",
     "output_type": "stream",
     "text": [
      "1216517.7918569962 94049.29185699637\n"
     ]
    },
    {
     "name": "stderr",
     "output_type": "stream",
     "text": [
      "C:\\ProgramData\\Anaconda3\\lib\\site-packages\\ipykernel_launcher.py:26: SettingWithCopyWarning: \n",
      "A value is trying to be set on a copy of a slice from a DataFrame.\n",
      "Try using .loc[row_indexer,col_indexer] = value instead\n",
      "\n",
      "See the caveats in the documentation: http://pandas.pydata.org/pandas-docs/stable/user_guide/indexing.html#returning-a-view-versus-a-copy\n"
     ]
    },
    {
     "name": "stdout",
     "output_type": "stream",
     "text": [
      "info                                has_debt  no_debt     ratio\n",
      "name                                                           \n",
      "заемщик с высоким уровнем доходов          1       12  0.083333\n",
      "заемщик с низким уровнем доходов         298     3473  0.085805\n",
      "заемщик со средним уровнем доходов      1442    16228  0.088859\n"
     ]
    },
    {
     "name": "stderr",
     "output_type": "stream",
     "text": [
      "C:\\ProgramData\\Anaconda3\\lib\\site-packages\\ipykernel_launcher.py:27: SettingWithCopyWarning: \n",
      "A value is trying to be set on a copy of a slice from a DataFrame.\n",
      "Try using .loc[row_indexer,col_indexer] = value instead\n",
      "\n",
      "See the caveats in the documentation: http://pandas.pydata.org/pandas-docs/stable/user_guide/indexing.html#returning-a-view-versus-a-copy\n"
     ]
    }
   ],
   "source": [
    "\n",
    "#установим границы максимальных, средних и минимальных уровней дохода\n",
    "tall = (data_statistics['total_income'].max() + data_statistics['total_income'].mean()) / 2\n",
    "low = (data_statistics['total_income'].min() + data_statistics['total_income'].mean()) / 2\n",
    "print(tall, low)\n",
    "#условно разделим данные на три группы по средним значениям между max, mean и min:\n",
    "#с высоким доходом - свыше 1216512.9105761163; средним от 94044.41057611634 до 1216512.9105761163 вкючительно и \n",
    "#низким от 0 до 94044.41057611634 вкючительно\n",
    "#создадим функцию для иследования зависимости уровня дохода и наличия задолжности по кредиту\n",
    "def total_debt(row):\n",
    "    debt = row['debt']\n",
    "    if debt == 0:\n",
    "        return 'no_debt'\n",
    "    if debt == 1:\n",
    "        return 'has_debt'\n",
    "\n",
    "def total_name(row):\n",
    "    total_status = row['total_income']\n",
    "    if total_status < low:\n",
    "        return 'заемщик с низким уровнем доходов'\n",
    "    if total_status > low:\n",
    "        if total_status < tall:\n",
    "            return 'заемщик со средним уровнем доходов'\n",
    "    if total_status > tall:\n",
    "        return 'заемщик с высоким уровнем доходов'\n",
    "#применим функцию к словарю\n",
    "data_total_income['info'] = data_total_income.apply(total_debt, axis=1)\n",
    "data_total_income['name'] = data_total_income.apply(total_name, axis=1)\n",
    "data_total_income_status_pivot = data_total_income.pivot_table(index = 'name', columns = 'info',\n",
    "                                                values = 'debt', aggfunc = 'count')\n",
    "# получим соотношение в зависимости от наличия задолжности по группам\n",
    "data_total_income_status_pivot['ratio'] = data_total_income_status_pivot['has_debt'] / data_total_income_status_pivot['no_debt']\n",
    "##выведем на печать результат\n",
    "print(data_total_income_status_pivot)  \n",
    "\n",
    "# посмотрим соотношение в зависимости от уровня доходов\n"
   ]
  },
  {
   "cell_type": "markdown",
   "metadata": {},
   "source": [
    "### согласно проведенному иследованию можно увидеть, что соотношение  заемщиков  имевших задолжности к заемщикам той же группы не имевшим задолжность составляет: по группам доходов низкий около 0,085 , средний около 0,089 , высокий около 0,083 что показавает схожее соотношение по всем группам заемщиков и позволяет сделать вывод о очень крайне низком уровне влияния уровня доходов заемщика на появление задолжности по возврату кредита с некоторой долей вероятности большего уровня задолжности по кредиту у заемщиков со средним уровнем дохода. "
   ]
  },
  {
   "cell_type": "markdown",
   "metadata": {},
   "source": [
    "- Как разные цели кредита влияют на его возврат в срок?"
   ]
  },
  {
   "cell_type": "code",
   "execution_count": 13,
   "metadata": {
    "scrolled": true
   },
   "outputs": [
    {
     "name": "stderr",
     "output_type": "stream",
     "text": [
      "C:\\ProgramData\\Anaconda3\\lib\\site-packages\\ipykernel_launcher.py:26: SettingWithCopyWarning: \n",
      "A value is trying to be set on a copy of a slice from a DataFrame.\n",
      "Try using .loc[row_indexer,col_indexer] = value instead\n",
      "\n",
      "See the caveats in the documentation: http://pandas.pydata.org/pandas-docs/stable/user_guide/indexing.html#returning-a-view-versus-a-copy\n",
      "C:\\ProgramData\\Anaconda3\\lib\\site-packages\\ipykernel_launcher.py:27: SettingWithCopyWarning: \n",
      "A value is trying to be set on a copy of a slice from a DataFrame.\n",
      "Try using .loc[row_indexer,col_indexer] = value instead\n",
      "\n",
      "See the caveats in the documentation: http://pandas.pydata.org/pandas-docs/stable/user_guide/indexing.html#returning-a-view-versus-a-copy\n"
     ]
    },
    {
     "data": {
      "text/html": [
       "<div>\n",
       "<style scoped>\n",
       "    .dataframe tbody tr th:only-of-type {\n",
       "        vertical-align: middle;\n",
       "    }\n",
       "\n",
       "    .dataframe tbody tr th {\n",
       "        vertical-align: top;\n",
       "    }\n",
       "\n",
       "    .dataframe thead th {\n",
       "        text-align: right;\n",
       "    }\n",
       "</style>\n",
       "<table border=\"1\" class=\"dataframe\">\n",
       "  <thead>\n",
       "    <tr style=\"text-align: right;\">\n",
       "      <th>info</th>\n",
       "      <th>has_debt</th>\n",
       "      <th>no_debt</th>\n",
       "      <th>ratio</th>\n",
       "    </tr>\n",
       "    <tr>\n",
       "      <th>name</th>\n",
       "      <th></th>\n",
       "      <th></th>\n",
       "      <th></th>\n",
       "    </tr>\n",
       "  </thead>\n",
       "  <tbody>\n",
       "    <tr>\n",
       "      <td>цель кредита на получение образования</td>\n",
       "      <td>370</td>\n",
       "      <td>3643</td>\n",
       "      <td>0.101565</td>\n",
       "    </tr>\n",
       "    <tr>\n",
       "      <td>цель кредита на приобретение автомобиля</td>\n",
       "      <td>403</td>\n",
       "      <td>3903</td>\n",
       "      <td>0.103254</td>\n",
       "    </tr>\n",
       "    <tr>\n",
       "      <td>цель кредита на приобретение недвижимости</td>\n",
       "      <td>782</td>\n",
       "      <td>10029</td>\n",
       "      <td>0.077974</td>\n",
       "    </tr>\n",
       "    <tr>\n",
       "      <td>цель кредита на проведение свадьбы</td>\n",
       "      <td>186</td>\n",
       "      <td>2138</td>\n",
       "      <td>0.086997</td>\n",
       "    </tr>\n",
       "  </tbody>\n",
       "</table>\n",
       "</div>"
      ],
      "text/plain": [
       "info                                       has_debt  no_debt     ratio\n",
       "name                                                                  \n",
       "цель кредита на получение образования           370     3643  0.101565\n",
       "цель кредита на приобретение автомобиля         403     3903  0.103254\n",
       "цель кредита на приобретение недвижимости       782    10029  0.077974\n",
       "цель кредита на проведение свадьбы              186     2138  0.086997"
      ]
     },
     "execution_count": 13,
     "metadata": {},
     "output_type": "execute_result"
    }
   ],
   "source": [
    "#просмотрим цели кредита указаные в таблице \n",
    "#print(data_statistics['purpose'].value_counts())\n",
    "#можно выделить основные цели кредита: свадьба, недвижемость, жилье, автомобиль, образование.\n",
    "#проведем иследование по этим группам целей кредита и воспользуемся раннее\n",
    "#подготовленным лемматизированным столбцом\n",
    "#создадим функцию для иследования зависимости целей кредита и наличия задожности по кредиту\n",
    "def purpose_debt(row):\n",
    "    debt = row['debt']\n",
    "    if debt == 0:\n",
    "        return 'no_debt'\n",
    "    if debt == 1:\n",
    "        return 'has_debt'\n",
    "    \n",
    "def purpose_name(row):\n",
    "    purpose = row['purpose_lemmatize']\n",
    "    if purpose == 'свадьба':\n",
    "        return 'цель кредита на проведение свадьбы'\n",
    "    if purpose == 'недвижимость':\n",
    "        return 'цель кредита на приобретение недвижимости'\n",
    "    if purpose == 'автомобиль':\n",
    "        return 'цель кредита на приобретение автомобиля'\n",
    "    if purpose == 'образование':\n",
    "        return 'цель кредита на получение образования'\n",
    "   \n",
    "#применим функцию к словарю\n",
    "data_purpose['info'] = data_purpose.apply(purpose_debt, axis=1)\n",
    "data_purpose['name'] = data_purpose.apply(purpose_name, axis=1)\n",
    "data_purpose_pivot = data_purpose.pivot_table(index = 'name', columns = 'info',\n",
    "                                                values = 'debt', aggfunc = 'count')\n",
    "# получим соотношение в зависимости от наличия задолжности по группам\n",
    "data_purpose_pivot['ratio'] = data_purpose_pivot['has_debt'] / data_purpose_pivot['no_debt']\n",
    "##выведем на печать результат\n",
    "data_purpose_pivot"
   ]
  },
  {
   "cell_type": "markdown",
   "metadata": {},
   "source": [
    "### согласно проведеному иследованию можно увиденть, что соотношение заемщиков имевшим задолжность по кредиту к заемщикам не имевшим задолжность по группам  состовляет: автомобиль около 0,10, образование составляет около 0,10, свадьба около 0,09 и недвижимость около 0,08, что показывает наличие различия в в уровне зависимости возникновения задолжности от цели кредитования. Так наиболее сильно риск появление задолжности проявляется в группах с целью кредитования автомобиль и образование, наименьшая  вероятность появления задолжности у цели недвижемость  "
   ]
  },
  {
   "cell_type": "markdown",
   "metadata": {},
   "source": [
    "### Шаг 4. Общий вывод "
   ]
  },
  {
   "cell_type": "markdown",
   "metadata": {},
   "source": [
    "### Проведя иследования зависимости между возвратом в срок кредита и различными факторами относящимися к заемщику можно сделать вывод:\n",
    "####    Различные факторы имеют разную степень влияния на появление задолжности по кредиту, так анализ уровня доходов показывает крайне низкую зависимость от уровня доходов, а анализ показателей наличия детей, целей кредитрования, семейного положения показывает более значительную зависимость от иследуемых признаков.\n",
    "    \n",
    "####    Проведенный анализ указывает, что возникновению задолжности скорее способствует не уровень доходов, а уровень расходов заемщика. Так различие в уровне доходов показывают примерно одинаковую вероятность возникновения задолжности у заемщиков с высоким и низким уровнем доходов с небольшим улучшение ситуации в сторону заемщиков со средним доходом: высокий-0,83 средний-0,88 низкий-0,85. Другие факторы можно охарактеризовать зависимостью от дополнительных факторов влияющих на уровень расходов Так заемщики имеющие детей вероятно расходуют дополнительную часть дохода на детей повышая тем самым риск возникновения задолжности по кредиту: соотношение бездетных заемщиков имевших задолжности к бездетным не имевшим задолжность составляет около 0,08 , а такое же соотношение среди имеющих детей составляет около 0,1. По цели кредитования показатель \"на приобретения жнедвижимости\" проявил себя наилучшим образом (индекс- около 0,08)вероятно, что до приобретения собственного жилья заемщики могли тратить часть дохода на аренду жилья и с приобретением собственного часть дохода высвобождается позволяя избежать возникновения задожности. Напротив цель \"получение образования\" (индекс - около 0,10) позволяет предположить, что на время получения образования доходная часть бюджета заемщика снизится из-за сложности совмещения учебы и работы. Также заемщики приобревшие автомобиль получают дополнительные расходы по содержания автомобиля (индекс - около 0,10). Анализ по показателю семейное положение показал, что заемщики ранее состоявшие в официальном браке показали наилучшее показатели 0,07 показала групп\"вдовец/вдова\", несколько большую зависимость имеют группы \"в разводе\" и состоящие в настоящее время в браке \"женат/замужем\" около 0,076 и 0,08 соответствено. Напротив наибольшую зависимость имеют группы\"гражданский брак\" и \"не женат/не замужем\" около 0,10 и 0,11 соответственно. Возможно это обусловлено тем, что заемщики ранее бывшие в браке и состоящие в нем более ответствено подходят к финансовой состовляющей их жизни.\n",
    "    \n",
    " ####    На основании полученных данных можно создать образ идеального заемщика для выдачи кредита - это будет являтся заемщик не имеющий детей, ранее бывший или состоящий на настоящий момент в браке с высоким уровнем доходов с целью кредитования на \"недвижемость\", наименее привлекательным заемщиком будет выглядеть заемщик с детьми, состоящий не состоящим в официальном браке имеющий средний уровень доходов с целью кредитования \"образование\" или \"автомобиль\".\n"
   ]
  },
  {
   "cell_type": "markdown",
   "metadata": {},
   "source": [
    "### Чек-лист готовности проекта\n",
    "\n",
    "Поставьте 'x' в выполненных пунктах. Далее нажмите Shift+Enter."
   ]
  },
  {
   "cell_type": "markdown",
   "metadata": {},
   "source": [
    "- [x]  открыт файл;\n",
    "- [x]  файл изучен;\n",
    "- [x]  определены пропущенные значения;\n",
    "- [x]  заполнены пропущенные значения;\n",
    "- [x]  есть пояснение какие пропущенные значения обнаружены;\n",
    "- [x]  описаны возможные причины появления пропусков в данных;\n",
    "- [x]  объяснено по какому принципу заполнены пропуски;\n",
    "- [x]  заменен вещественный тип данных на целочисленный;\n",
    "- [x]  есть пояснение какой метод используется для изменения типа данных и почему;\n",
    "- [x]  удалены дубликаты;\n",
    "- [x]  есть пояснение какой метод используется для поиска и удаления дубликатов;\n",
    "- [x]  описаны возможные причины появления дубликатов в данных;\n",
    "- [x]  выделены леммы в значениях столбца с целями получения кредита;\n",
    "- [x]  описан процесс лемматизации;\n",
    "- [x]  данные категоризированы;\n",
    "- [x]  есть объяснение принципа категоризации данных;\n",
    "- [x]  есть ответ на вопрос \"Есть ли зависимость между наличием детей и возвратом кредита в срок?\";\n",
    "- [x]  есть ответ на вопрос \"Есть ли зависимость между семейным положением и возвратом кредита в срок?\";\n",
    "- [x]  есть ответ на вопрос \"Есть ли зависимость между уровнем дохода и возвратом кредита в срок?\";\n",
    "- [x]  есть ответ на вопрос \"Как разные цели кредита влияют на его возврат в срок?\";\n",
    "- [x]  в каждом этапе есть выводы;\n",
    "- [x]  есть общий вывод."
   ]
  }
 ],
 "metadata": {
  "kernelspec": {
   "display_name": "Python 3",
   "language": "python",
   "name": "python3"
  },
  "language_info": {
   "codemirror_mode": {
    "name": "ipython",
    "version": 3
   },
   "file_extension": ".py",
   "mimetype": "text/x-python",
   "name": "python",
   "nbconvert_exporter": "python",
   "pygments_lexer": "ipython3",
   "version": "3.7.4"
  }
 },
 "nbformat": 4,
 "nbformat_minor": 2
}
