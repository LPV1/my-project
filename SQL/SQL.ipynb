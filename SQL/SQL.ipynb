{
 "cells": [
  {
   "cell_type": "markdown",
   "metadata": {},
   "source": [
    "Вы аналитик российской авиакомпании F9, выполняющей внутренние пассажирские перевозки. Важно понять предпочтения пользователей, покупающих билеты на разные направления.\n",
    "\n",
    "Вам предстоит изучить базу данных и проанализировать спрос пассажиров на рейсы в города, где проходят крупнейшие культурные фестивали."
   ]
  },
  {
   "cell_type": "markdown",
   "metadata": {},
   "source": [
    "Описание данных\n",
    "В вашем распоряжении база данных об авиаперевозках.\n",
    "Таблица airports — информация об аэропортах:\n",
    "airport_code — трёхбуквенный код аэропорта\n",
    "airport_name — название аэропорта\n",
    "city — город\n",
    "timezone — временная зона\n",
    "Таблица aircrafts — информация о самолётах:\n",
    "aircraft_code — код модели самолёта\n",
    "model — модель самолёта\n",
    "range — дальность полёта\n",
    "Таблица tickets — информация о билетах:\n",
    "ticket_no — уникальный номер билета\n",
    "passenger_id — персональный идентификатор пассажира\n",
    "passenger_name — имя и фамилия пассажира\n",
    "Таблица flights — информация о рейсах:\n",
    "flight_id — уникальный идентификатор рейса\n",
    "departure_airport — аэропорт вылета\n",
    "departure_time — дата и время вылета\n",
    "arrival_airport — аэропорт прилёта\n",
    "arrival_time — дата и время прилёта\n",
    "aircraft_code — id самолёта\n",
    "Таблица ticket_flights — стыковая таблица «рейсы-билеты»\n",
    "ticket_no — номер билета\n",
    "flight_id — идентификатор рейса\n",
    "Таблица festivals — информация о фестивалях\n",
    "festival_id — уникальный номер фестиваля\n",
    "festival_date — дата проведения фестиваля\n",
    "festival_city — город проведения фестиваля\n",
    "festival_name — название фестиваля"
   ]
  },
  {
   "cell_type": "markdown",
   "metadata": {},
   "source": [
    "### Проведем исследовательский анализ данных средствами SQL"
   ]
  },
  {
   "cell_type": "markdown",
   "metadata": {},
   "source": [
    "#### Найдем количество рейсов на каждой модели самолёта с вылетом в сентябре 2018 года. Назовtv получившееся поле flights_amount и выведим его. Также напечатаем на экране поле model. Столбцы в таблице должны быть выведены в следующем порядке:\n",
    "model,\n",
    "flights_amount"
   ]
  },
  {
   "cell_type": "markdown",
   "metadata": {},
   "source": [
    "```python\n",
    "SELECT\n",
    "    aircrafts.model AS model,\n",
    "    COUNT(flights.aircraft_code) AS flights_amount\n",
    "FROM \n",
    "    aircrafts\n",
    "INNER JOIN flights ON flights.aircraft_code = aircrafts.aircraft_code\n",
    "WHERE \n",
    "    EXTRACT(MONTH FROM flights.departure_time) = '9'\n",
    "    AND EXTRACT(YEAR FROM flights.departure_time) = '2018'\n",
    "GROUP BY\n",
    "    aircrafts.model,\n",
    "    flights.aircraft_code\n",
    "```    "
   ]
  },
  {
   "cell_type": "markdown",
   "metadata": {},
   "source": [
    "```\n",
    "MODEL\t           FLIGHTS_AMOUNT\n",
    "Airbus A319-100\t    607\n",
    "Airbus A321-200\t    960\n",
    "Boeing 737-300\t    630\n",
    "Boeing 767-300   \t600\n",
    "Boeing 777-300   \t300\n",
    "Bombardier CRJ-200\t4446\n",
    "Cessna 208 Caravan\t4557\n",
    "Sukhoi SuperJet-100\t4185\n",
    "```\n"
   ]
  },
  {
   "cell_type": "markdown",
   "metadata": {},
   "source": [
    "#### Посчитаем количество отправленных рейсов по всем моделям самолётов Boeing и Airbus в сентябре. Назовем получившуюся переменную flights_amount и выведем её."
   ]
  },
  {
   "cell_type": "markdown",
   "metadata": {},
   "source": [
    "```\n",
    "FROM \n",
    "    flights\n",
    "INNER JOIN aircrafts ON aircrafts.aircraft_code = flights.aircraft_code\n",
    "WHERE \n",
    "     EXTRACT(MONTH FROM flights.departure_time) = '9'\n",
    "     AND (aircrafts.model LIKE 'Boeing%' OR aircrafts.model LIKE 'Airbus%')\n",
    "GROUP BY\n",
    "   aircrafts.model =\n",
    "   CASE WHEN aircrafts.model LIKE 'Boeing%' THEN '1'\n",
    "         WHEN aircrafts.model LIKE 'Airbus%' THEN '1'\n",
    "         ELSE aircrafts.model END;\n",
    "```\n"
   ]
  },
  {
   "cell_type": "markdown",
   "metadata": {},
   "source": [
    "```\n",
    "FLIGHTS_AMOUNT\n",
    "3097\n",
    "```"
   ]
  },
  {
   "cell_type": "markdown",
   "metadata": {},
   "source": [
    "#### Посчитайтаем среднее количество прибывающих рейсов в день для каждого города за август 2018 года. Назовем получившееся поле average_flights, вместе с ним выведем столбец city."
   ]
  },
  {
   "cell_type": "markdown",
   "metadata": {},
   "source": [
    "```\n",
    "SELECT \n",
    "    flc.city as city,\n",
    "    AVG(flc.cnt) AS average_flights \n",
    "FROM \n",
    "    (SELECT\n",
    "        COUNT(flights.flight_id) AS cnt,\n",
    "        airports.city AS city,\n",
    "        DATE_TRUNC('day', flights.arrival_time) AS date\n",
    "     FROM \n",
    "         airports\n",
    "         INNER JOIN flights ON airports.airport_code = flights.arrival_airport\n",
    "     GROUP BY \n",
    "         city,\n",
    "         date) AS flc\n",
    "GROUP BY \n",
    "     flc.city\n",
    "     ```"
   ]
  },
  {
   "cell_type": "markdown",
   "metadata": {},
   "source": [
    "```\n",
    "CITY\tAVERAGE_FLIGHTS\n",
    "Абакан\t3.85124\n",
    "Анадырь\t1\n",
    "Анапа\t2.1405\n",
    "Архангельск\t5.28926\n",
    "Астрахань\t2.42975\n",
    "Барнаул\t2.57851\n",
    "Белгород\t6\n",
    "Белоярский\t2\n",
    "Благовещенск\t1\n",
    "Братск\t1\n",
    "Брянск\t10\n",
    "Бугульма\t3\n",
    "Владивосток\t2.97541\n",
    "Владикавказ\t2\n",
    "Волгоград\t5.1405\n",
    "Воркута\t4.57851\n",
    "Воронеж\t2\n",
    "Геленджик\t2.59302\n",
    "Горно-Алтайск\t1.43802\n",
    "Грозный\t1.14876\n",
    "Екатеринбург\t11.2893\n",
    "Иваново\t1\n",
    "Ижевск\t1\n",
    "Иркутск\t6\n",
    "Йошкар-Ола\t4.28926\n",
    "Казань\t7.71901\n",
    "Калининград\t2.57851\n",
    "Калуга\t2\n",
    "Кемерово\t2\n",
    "Киров\t6\n",
    "Когалым\t3.1405\n",
    "Комсомольск-на-Амуре\t1\n",
    "Краснодар\t3.8595\n",
    "Красноярск\t11.5785\n",
    "Курган\t3.43802\n",
    "Курск\t2.28926\n",
    "Кызыл\t1.24638\n",
    "Липецк\t1.24286\n",
    "Магадан\t1.32692\n",
    "Магнитогорск\t4\n",
    "Махачкала\t3.28926\n",
    "Минеральные Воды\t3.42975\n",
    "Мирный\t6.28926\n",
    "Москва\t129.711\n",
    "Мурманск\t2\n",
    "Надым\t2.28926\n",
    "Нальчик\t3\n",
    "Нарьян-Мар\t2.57025\n",
    "Нерюнгри\t2.57025\n",
    "Нефтеюганск\t1\n",
    "Нижневартовск\t3.1405\n",
    "Нижнекамск\t3.71074\n",
    "Нижний Новгород\t5.8595\n",
    "Новокузнецк\t6\n",
    "Новосибирск\t17.281\n",
    "Новый Уренгой\t8.28926\n",
    "Норильск\t2.28926\n",
    "Ноябрьск\t3\n",
    "Нягань\t1\n",
    "Омск\t3.28926\n",
    "Оренбург\t5\n",
    "Орск\t1.5977\n",
    "Пенза\t4\n",
    "Пермь\t10.1488\n",
    "Петрозаводск\t5.85124\n",
    "Петропавловск-Камчатский\t1\n",
    "Псков\t1.57025\n",
    "Ростов-на-Дону\t10.1405\n",
    "Салехард\t2\n",
    "Самара\t3\n",
    "Санкт-Петербург\t31.1488\n",
    "Саранск\t2\n",
    "Саратов\t4\n",
    "Советский\t9\n",
    "Сочи\t9.57025\n",
    "Ставрополь\t2\n",
    "Стрежевой\t1\n",
    "Сургут\t8.71901\n",
    "Сыктывкар\t4.1405\n",
    "Тамбов\t4\n",
    "Томск\t4.1405\n",
    "Тюмень\t7.00826\n",
    "Удачный\t3\n",
    "Улан-Удэ\t1.5977\n",
    "Ульяновск\t9.57851\n",
    "Урай\t2\n",
    "Усинск\t1\n",
    "Усть-Илимск\t2.8595\n",
    "Усть-Кут\t1\n",
    "Уфа\t6.28926\n",
    "Ухта\t3\n",
    "Хабаровск\t6.52459\n",
    "Ханты-Мансийск\t8.43802\n",
    "Чебоксары\t5\n",
    "Челябинск\t6.71901\n",
    "Череповец\t2.1405\n",
    "Чита\t1.57851\n",
    "Элиста\t4.8595\n",
    "Южно-Сахалинск\t4.2541\n",
    "Якутск\t2.69672\n",
    "Ярославль\t1.28099\n",
    "```\n",
    "\n"
   ]
  },
  {
   "cell_type": "markdown",
   "metadata": {},
   "source": [
    "### Соберем данные для анализа из базы"
   ]
  },
  {
   "cell_type": "markdown",
   "metadata": {},
   "source": [
    "#### Установим фестивали, которые проходили с 23 июля по 30 сентября 2018 года в Москве, и номер недели, в которую они проходили. Выведем название фестиваля festival_name и номер недели festival_week."
   ]
  },
  {
   "cell_type": "markdown",
   "metadata": {},
   "source": [
    "```\n",
    "SELECT \n",
    "    festival_name,\n",
    "    EXTRACT(WEEK FROM festival_date)  AS festival_week\n",
    "FROM festivals\n",
    "WHERE\n",
    "     festival_city = 'Москва'\n",
    "GROUP BY \n",
    "     festival_week,\n",
    "     festival_name\n",
    "     ```  "
   ]
  },
  {
   "cell_type": "markdown",
   "metadata": {},
   "source": [
    "```FESTIVAL_NAME\tFESTIVAL_WEEK\n",
    "    Park Live\t    30\n",
    "    Пикник Афиши\t31\n",
    "    Видфест\t        36\n",
    "```"
   ]
  },
  {
   "cell_type": "markdown",
   "metadata": {},
   "source": [
    "#### Для каждой недели с 23 июля по 30 сентября 2018 года посчитаем количество приобретённых билетов в Москву. Номер недели назовем week_number, количество билетов — ticket_amount. \n",
    "#### Наш запрос соединится с запросом из предыдущей задачи оператором LEFT JOIN. D ячейках с неделями, в которые фестивали не проходили, будут значения nan"
   ]
  },
  {
   "cell_type": "markdown",
   "metadata": {},
   "source": [
    "```\n",
    "SELECT \n",
    "\tT.week_number,\n",
    "\tT.ticket_amount,\n",
    "\tT.festival_week,\n",
    "\tT.festival_name\n",
    "FROM \n",
    "(\n",
    "(SELECT\n",
    "     EXTRACT(WEEK FROM flc.arrival_time)  AS week_number,\n",
    "     COUNT(ticket_flights.ticket_no) AS ticket_amount\n",
    " FROM \n",
    "     (SELECT\n",
    "           flights.flight_id,\n",
    "           airports.city,\n",
    "           flights.arrival_time\n",
    "      FROM flights\n",
    "           INNER JOIN airports ON airports.airport_code  = flights.arrival_airport\n",
    "      GROUP BY\n",
    "          flights.flight_id, airports.city, flights.arrival_time \n",
    "     ) AS flc\n",
    "     \n",
    "     INNER JOIN ticket_flights ON ticket_flights.flight_id  = flc.flight_id \n",
    "WHERE\n",
    "\t\tflc.city = 'Москва' AND\n",
    "\t   CAST(flc.arrival_time AS date) BETWEEN '2018-07-23' AND '2018-09-30'  \n",
    " GROUP BY \n",
    "     week_number\n",
    ") t\n",
    "LEFT JOIN \n",
    "(SELECT \t\t\n",
    "\t\tfestival_name,\t\n",
    "\t\tEXTRACT (week FROM festivals.festival_date) AS festival_week\n",
    "\tFROM \n",
    "\t\tfestivals\n",
    "\tWHERE\n",
    "\t\tfestival_city = 'Москва' AND CAST(festivals.festival_date AS date) BETWEEN '2018-07-23' AND '2018-09-30') t2 \n",
    "   ON \n",
    "\tt.week_number = t2.festival_week) AS T;\n",
    "```"
   ]
  },
  {
   "cell_type": "markdown",
   "metadata": {},
   "source": [
    "```\n",
    "WEEK_NUMBER\tTICKET_AMOUNT\tFESTIVAL_WEEK\tFESTIVAL_NAME\n",
    "31      \t51034               \t31      \tПикник Афиши\n",
    "33\t        51378\t                nan\t\n",
    "34   \t    51492\t                nan\t\n",
    "38  \t    51518                  \tnan\t\n",
    "35  \t    51360               \tnan\t\n",
    "32  \t    51675               \tnan\t\n",
    "36  \t    51386\t                36\t        Видфест\n",
    "39  \t    51623\t                nan\t\n",
    "30      \t43568\t                30\t        Park Live\n",
    "37      \t51670               \tnan\t\n",
    "```"
   ]
  },
  {
   "cell_type": "markdown",
   "metadata": {},
   "source": [
    "**Шаг 1.  Аналитика средствами Python**\n",
    "\n",
    "У вас есть файлы, в которых содержатся результаты запросов из предыдущих заданий.\n",
    "\n",
    "**query_1.csv** — результат первого запроса. В нём содержится такая информация:\n",
    "\n",
    "- *model* — **модель самолета;\n",
    "- *flights_amount* — количество рейсов для каждой модели самолетов *model* в сентябре 2018 года.\n",
    "\n",
    "**query_3.csv** — результат третьего запроса. В нём содержится такая информация:\n",
    "\n",
    "- *city* — город;\n",
    "- *average_flights* — среднее количество рейсов, прибывающих в город (*city*) за день в сентябре 2018 года.\n",
    "\n",
    " Для этих двух наборов данных нужно:\n",
    "\n",
    "- импортировать файлы;\n",
    "- изучить данные в них;\n",
    "- проверить типы данных на корректность;\n",
    "- выбрать топ-10 городов по количеству рейсов;\n",
    "- построить графики: модели самолётов и количество рейсов, города и количество рейсов, топ-10 городов и количество рейсов;\n",
    "- сделать выводы по каждому из графиков, пояснить результат.\n",
    "\n",
    "**Шаг 2.  Проверка гипотезы средствами Python**\n",
    "\n",
    "**query_last.csv** — результат последнего запроса. В нём следующая информация:\n",
    "\n",
    "- *week_number* — **номер недели;\n",
    "- *ticket_amount* — количество проданных билетов за неделю;\n",
    "- *festival_week —* есть ли на этой неделе фестиваль;\n",
    "- *festival_name —* название фестиваля.\n",
    "\n",
    "Проверьте гипотезу: «Средний спрос на билеты во время фестивалей не отличается от среднего спроса на билеты в обычное время».\n",
    "\n",
    "Пороговое значение *alpha* задайте самостоятельно.\n",
    "\n",
    "Поясните:\n",
    "\n",
    "- Как вы формулировали нулевую и альтернативную гипотезы;\n",
    "- Какой критерий использовали для проверки гипотез и почему."
   ]
  },
  {
   "cell_type": "markdown",
   "metadata": {},
   "source": [
    "# 1. Аналитика"
   ]
  },
  {
   "cell_type": "code",
   "execution_count": 1,
   "metadata": {},
   "outputs": [],
   "source": [
    "import pandas as pd\n",
    "import matplotlib.pyplot as plt\n",
    "import math as mt\n",
    "import numpy as np\n",
    "from scipy import stats as st \n",
    "import seaborn as sns\n",
    "import scipy as sp \n",
    "import scipy.stats"
   ]
  },
  {
   "cell_type": "code",
   "execution_count": 2,
   "metadata": {},
   "outputs": [
    {
     "data": {
      "text/html": [
       "<div>\n",
       "<style scoped>\n",
       "    .dataframe tbody tr th:only-of-type {\n",
       "        vertical-align: middle;\n",
       "    }\n",
       "\n",
       "    .dataframe tbody tr th {\n",
       "        vertical-align: top;\n",
       "    }\n",
       "\n",
       "    .dataframe thead th {\n",
       "        text-align: right;\n",
       "    }\n",
       "</style>\n",
       "<table border=\"1\" class=\"dataframe\">\n",
       "  <thead>\n",
       "    <tr style=\"text-align: right;\">\n",
       "      <th></th>\n",
       "      <th>model</th>\n",
       "      <th>flights_amount</th>\n",
       "    </tr>\n",
       "  </thead>\n",
       "  <tbody>\n",
       "    <tr>\n",
       "      <td>0</td>\n",
       "      <td>Airbus A319-100</td>\n",
       "      <td>607</td>\n",
       "    </tr>\n",
       "    <tr>\n",
       "      <td>1</td>\n",
       "      <td>Airbus A321-200</td>\n",
       "      <td>960</td>\n",
       "    </tr>\n",
       "    <tr>\n",
       "      <td>2</td>\n",
       "      <td>Boeing 737-300</td>\n",
       "      <td>630</td>\n",
       "    </tr>\n",
       "    <tr>\n",
       "      <td>3</td>\n",
       "      <td>Boeing 767-300</td>\n",
       "      <td>600</td>\n",
       "    </tr>\n",
       "    <tr>\n",
       "      <td>4</td>\n",
       "      <td>Boeing 777-300</td>\n",
       "      <td>300</td>\n",
       "    </tr>\n",
       "    <tr>\n",
       "      <td>5</td>\n",
       "      <td>Bombardier CRJ-200</td>\n",
       "      <td>4446</td>\n",
       "    </tr>\n",
       "    <tr>\n",
       "      <td>6</td>\n",
       "      <td>Cessna 208 Caravan</td>\n",
       "      <td>4557</td>\n",
       "    </tr>\n",
       "    <tr>\n",
       "      <td>7</td>\n",
       "      <td>Sukhoi SuperJet-100</td>\n",
       "      <td>4185</td>\n",
       "    </tr>\n",
       "  </tbody>\n",
       "</table>\n",
       "</div>"
      ],
      "text/plain": [
       "                 model  flights_amount\n",
       "0      Airbus A319-100             607\n",
       "1      Airbus A321-200             960\n",
       "2       Boeing 737-300             630\n",
       "3       Boeing 767-300             600\n",
       "4       Boeing 777-300             300\n",
       "5   Bombardier CRJ-200            4446\n",
       "6   Cessna 208 Caravan            4557\n",
       "7  Sukhoi SuperJet-100            4185"
      ]
     },
     "execution_count": 2,
     "metadata": {},
     "output_type": "execute_result"
    }
   ],
   "source": [
    "# прочитаем данные по моделям самолетов и количеству рейсов\n",
    "df_1 = pd.read_csv('/datasets/query_1.csv')\n",
    "df_1"
   ]
  },
  {
   "cell_type": "code",
   "execution_count": 3,
   "metadata": {},
   "outputs": [
    {
     "name": "stdout",
     "output_type": "stream",
     "text": [
      "<class 'pandas.core.frame.DataFrame'>\n",
      "RangeIndex: 8 entries, 0 to 7\n",
      "Data columns (total 2 columns):\n",
      "model             8 non-null object\n",
      "flights_amount    8 non-null int64\n",
      "dtypes: int64(1), object(1)\n",
      "memory usage: 256.0+ bytes\n"
     ]
    }
   ],
   "source": [
    "df_1.info()"
   ]
  },
  {
   "cell_type": "code",
   "execution_count": 4,
   "metadata": {},
   "outputs": [
    {
     "data": {
      "text/html": [
       "<div>\n",
       "<style scoped>\n",
       "    .dataframe tbody tr th:only-of-type {\n",
       "        vertical-align: middle;\n",
       "    }\n",
       "\n",
       "    .dataframe tbody tr th {\n",
       "        vertical-align: top;\n",
       "    }\n",
       "\n",
       "    .dataframe thead th {\n",
       "        text-align: right;\n",
       "    }\n",
       "</style>\n",
       "<table border=\"1\" class=\"dataframe\">\n",
       "  <thead>\n",
       "    <tr style=\"text-align: right;\">\n",
       "      <th></th>\n",
       "      <th>flights_amount</th>\n",
       "    </tr>\n",
       "  </thead>\n",
       "  <tbody>\n",
       "    <tr>\n",
       "      <td>count</td>\n",
       "      <td>8.000000</td>\n",
       "    </tr>\n",
       "    <tr>\n",
       "      <td>mean</td>\n",
       "      <td>2035.625000</td>\n",
       "    </tr>\n",
       "    <tr>\n",
       "      <td>std</td>\n",
       "      <td>1965.203947</td>\n",
       "    </tr>\n",
       "    <tr>\n",
       "      <td>min</td>\n",
       "      <td>300.000000</td>\n",
       "    </tr>\n",
       "    <tr>\n",
       "      <td>25%</td>\n",
       "      <td>605.250000</td>\n",
       "    </tr>\n",
       "    <tr>\n",
       "      <td>50%</td>\n",
       "      <td>795.000000</td>\n",
       "    </tr>\n",
       "    <tr>\n",
       "      <td>75%</td>\n",
       "      <td>4250.250000</td>\n",
       "    </tr>\n",
       "    <tr>\n",
       "      <td>max</td>\n",
       "      <td>4557.000000</td>\n",
       "    </tr>\n",
       "  </tbody>\n",
       "</table>\n",
       "</div>"
      ],
      "text/plain": [
       "       flights_amount\n",
       "count        8.000000\n",
       "mean      2035.625000\n",
       "std       1965.203947\n",
       "min        300.000000\n",
       "25%        605.250000\n",
       "50%        795.000000\n",
       "75%       4250.250000\n",
       "max       4557.000000"
      ]
     },
     "execution_count": 4,
     "metadata": {},
     "output_type": "execute_result"
    }
   ],
   "source": [
    "df_1.describe()"
   ]
  },
  {
   "cell_type": "markdown",
   "metadata": {},
   "source": [
    "### По полученым даным видим наличие двух столбцов с указанием модели салолета и количества совершеных ими рейсов в сентябре 2018 года. Отсутсвующих значений нет. Среднее количество рейсов равно 2035, максимальное 4557, минимальное 300, медиана равна 795. Всего в авиакомпании используются 8 моделей самолетов."
   ]
  },
  {
   "cell_type": "code",
   "execution_count": 5,
   "metadata": {},
   "outputs": [
    {
     "data": {
      "text/html": [
       "<div>\n",
       "<style scoped>\n",
       "    .dataframe tbody tr th:only-of-type {\n",
       "        vertical-align: middle;\n",
       "    }\n",
       "\n",
       "    .dataframe tbody tr th {\n",
       "        vertical-align: top;\n",
       "    }\n",
       "\n",
       "    .dataframe thead th {\n",
       "        text-align: right;\n",
       "    }\n",
       "</style>\n",
       "<table border=\"1\" class=\"dataframe\">\n",
       "  <thead>\n",
       "    <tr style=\"text-align: right;\">\n",
       "      <th></th>\n",
       "      <th>city</th>\n",
       "      <th>average_flights</th>\n",
       "    </tr>\n",
       "  </thead>\n",
       "  <tbody>\n",
       "    <tr>\n",
       "      <td>0</td>\n",
       "      <td>Абакан</td>\n",
       "      <td>3.870968</td>\n",
       "    </tr>\n",
       "    <tr>\n",
       "      <td>1</td>\n",
       "      <td>Анадырь</td>\n",
       "      <td>1.000000</td>\n",
       "    </tr>\n",
       "    <tr>\n",
       "      <td>2</td>\n",
       "      <td>Анапа</td>\n",
       "      <td>2.161290</td>\n",
       "    </tr>\n",
       "    <tr>\n",
       "      <td>3</td>\n",
       "      <td>Архангельск</td>\n",
       "      <td>5.354839</td>\n",
       "    </tr>\n",
       "    <tr>\n",
       "      <td>4</td>\n",
       "      <td>Астрахань</td>\n",
       "      <td>2.451613</td>\n",
       "    </tr>\n",
       "  </tbody>\n",
       "</table>\n",
       "</div>"
      ],
      "text/plain": [
       "          city  average_flights\n",
       "0       Абакан         3.870968\n",
       "1      Анадырь         1.000000\n",
       "2        Анапа         2.161290\n",
       "3  Архангельск         5.354839\n",
       "4    Астрахань         2.451613"
      ]
     },
     "execution_count": 5,
     "metadata": {},
     "output_type": "execute_result"
    }
   ],
   "source": [
    "# прочитаем данные о названии городов и среднем количестве рейсов, прибывающих в город (city) за день в сентябре 2018 года.\n",
    "df_2 = pd.read_csv('/datasets/query_3.csv')\n",
    "df_2.head(5)"
   ]
  },
  {
   "cell_type": "code",
   "execution_count": 6,
   "metadata": {},
   "outputs": [
    {
     "name": "stdout",
     "output_type": "stream",
     "text": [
      "<class 'pandas.core.frame.DataFrame'>\n",
      "RangeIndex: 101 entries, 0 to 100\n",
      "Data columns (total 2 columns):\n",
      "city               101 non-null object\n",
      "average_flights    101 non-null float64\n",
      "dtypes: float64(1), object(1)\n",
      "memory usage: 1.7+ KB\n"
     ]
    }
   ],
   "source": [
    "df_2.info()"
   ]
  },
  {
   "cell_type": "code",
   "execution_count": 7,
   "metadata": {},
   "outputs": [
    {
     "data": {
      "text/html": [
       "<div>\n",
       "<style scoped>\n",
       "    .dataframe tbody tr th:only-of-type {\n",
       "        vertical-align: middle;\n",
       "    }\n",
       "\n",
       "    .dataframe tbody tr th {\n",
       "        vertical-align: top;\n",
       "    }\n",
       "\n",
       "    .dataframe thead th {\n",
       "        text-align: right;\n",
       "    }\n",
       "</style>\n",
       "<table border=\"1\" class=\"dataframe\">\n",
       "  <thead>\n",
       "    <tr style=\"text-align: right;\">\n",
       "      <th></th>\n",
       "      <th>average_flights</th>\n",
       "    </tr>\n",
       "  </thead>\n",
       "  <tbody>\n",
       "    <tr>\n",
       "      <td>count</td>\n",
       "      <td>101.000000</td>\n",
       "    </tr>\n",
       "    <tr>\n",
       "      <td>mean</td>\n",
       "      <td>5.494189</td>\n",
       "    </tr>\n",
       "    <tr>\n",
       "      <td>std</td>\n",
       "      <td>13.119790</td>\n",
       "    </tr>\n",
       "    <tr>\n",
       "      <td>min</td>\n",
       "      <td>1.000000</td>\n",
       "    </tr>\n",
       "    <tr>\n",
       "      <td>25%</td>\n",
       "      <td>2.000000</td>\n",
       "    </tr>\n",
       "    <tr>\n",
       "      <td>50%</td>\n",
       "      <td>3.000000</td>\n",
       "    </tr>\n",
       "    <tr>\n",
       "      <td>75%</td>\n",
       "      <td>5.870968</td>\n",
       "    </tr>\n",
       "    <tr>\n",
       "      <td>max</td>\n",
       "      <td>129.774194</td>\n",
       "    </tr>\n",
       "  </tbody>\n",
       "</table>\n",
       "</div>"
      ],
      "text/plain": [
       "       average_flights\n",
       "count       101.000000\n",
       "mean          5.494189\n",
       "std          13.119790\n",
       "min           1.000000\n",
       "25%           2.000000\n",
       "50%           3.000000\n",
       "75%           5.870968\n",
       "max         129.774194"
      ]
     },
     "execution_count": 7,
     "metadata": {},
     "output_type": "execute_result"
    }
   ],
   "source": [
    "df_2.describe()"
   ]
  },
  {
   "cell_type": "markdown",
   "metadata": {},
   "source": [
    "### Получили таблицу содержащую информацию о 101 городе и среднем количестве рейсов, прибывающих в город (city) за день в сентябре 2018 года. Данные выглядят корректными, отсутствующих значений нет. Максимальное количество рейсов по городам составило 129, минимальное 1, а средее количество и медиана составили 5,49 и 3 соответствено. "
   ]
  },
  {
   "cell_type": "code",
   "execution_count": 8,
   "metadata": {},
   "outputs": [
    {
     "data": {
      "text/html": [
       "<div>\n",
       "<style scoped>\n",
       "    .dataframe tbody tr th:only-of-type {\n",
       "        vertical-align: middle;\n",
       "    }\n",
       "\n",
       "    .dataframe tbody tr th {\n",
       "        vertical-align: top;\n",
       "    }\n",
       "\n",
       "    .dataframe thead th {\n",
       "        text-align: right;\n",
       "    }\n",
       "</style>\n",
       "<table border=\"1\" class=\"dataframe\">\n",
       "  <thead>\n",
       "    <tr style=\"text-align: right;\">\n",
       "      <th></th>\n",
       "      <th>week_number</th>\n",
       "      <th>ticket_amount</th>\n",
       "      <th>festival_week</th>\n",
       "      <th>festival_name</th>\n",
       "    </tr>\n",
       "  </thead>\n",
       "  <tbody>\n",
       "    <tr>\n",
       "      <td>0</td>\n",
       "      <td>30</td>\n",
       "      <td>43568</td>\n",
       "      <td>30.0</td>\n",
       "      <td>Park Live</td>\n",
       "    </tr>\n",
       "    <tr>\n",
       "      <td>1</td>\n",
       "      <td>31</td>\n",
       "      <td>51034</td>\n",
       "      <td>31.0</td>\n",
       "      <td>Пикник Афиши</td>\n",
       "    </tr>\n",
       "    <tr>\n",
       "      <td>2</td>\n",
       "      <td>32</td>\n",
       "      <td>51675</td>\n",
       "      <td>NaN</td>\n",
       "      <td>NaN</td>\n",
       "    </tr>\n",
       "    <tr>\n",
       "      <td>3</td>\n",
       "      <td>33</td>\n",
       "      <td>51378</td>\n",
       "      <td>NaN</td>\n",
       "      <td>NaN</td>\n",
       "    </tr>\n",
       "    <tr>\n",
       "      <td>4</td>\n",
       "      <td>34</td>\n",
       "      <td>51492</td>\n",
       "      <td>NaN</td>\n",
       "      <td>NaN</td>\n",
       "    </tr>\n",
       "    <tr>\n",
       "      <td>5</td>\n",
       "      <td>35</td>\n",
       "      <td>51360</td>\n",
       "      <td>NaN</td>\n",
       "      <td>NaN</td>\n",
       "    </tr>\n",
       "    <tr>\n",
       "      <td>6</td>\n",
       "      <td>36</td>\n",
       "      <td>51386</td>\n",
       "      <td>36.0</td>\n",
       "      <td>Видфест</td>\n",
       "    </tr>\n",
       "    <tr>\n",
       "      <td>7</td>\n",
       "      <td>37</td>\n",
       "      <td>51670</td>\n",
       "      <td>NaN</td>\n",
       "      <td>NaN</td>\n",
       "    </tr>\n",
       "    <tr>\n",
       "      <td>8</td>\n",
       "      <td>38</td>\n",
       "      <td>51518</td>\n",
       "      <td>NaN</td>\n",
       "      <td>NaN</td>\n",
       "    </tr>\n",
       "    <tr>\n",
       "      <td>9</td>\n",
       "      <td>39</td>\n",
       "      <td>51623</td>\n",
       "      <td>NaN</td>\n",
       "      <td>NaN</td>\n",
       "    </tr>\n",
       "  </tbody>\n",
       "</table>\n",
       "</div>"
      ],
      "text/plain": [
       "   week_number  ticket_amount  festival_week festival_name\n",
       "0           30          43568           30.0     Park Live\n",
       "1           31          51034           31.0  Пикник Афиши\n",
       "2           32          51675            NaN           NaN\n",
       "3           33          51378            NaN           NaN\n",
       "4           34          51492            NaN           NaN\n",
       "5           35          51360            NaN           NaN\n",
       "6           36          51386           36.0       Видфест\n",
       "7           37          51670            NaN           NaN\n",
       "8           38          51518            NaN           NaN\n",
       "9           39          51623            NaN           NaN"
      ]
     },
     "execution_count": 8,
     "metadata": {},
     "output_type": "execute_result"
    }
   ],
   "source": [
    "# прочитаем данные о номере недели, количестве проданных билетов и наличие в неделе фистеваля\n",
    "df_3 = pd.read_csv('/datasets/query_last.csv')\n",
    "df_3.head(50)"
   ]
  },
  {
   "cell_type": "code",
   "execution_count": 9,
   "metadata": {},
   "outputs": [
    {
     "name": "stdout",
     "output_type": "stream",
     "text": [
      "<class 'pandas.core.frame.DataFrame'>\n",
      "RangeIndex: 10 entries, 0 to 9\n",
      "Data columns (total 4 columns):\n",
      "week_number      10 non-null int64\n",
      "ticket_amount    10 non-null int64\n",
      "festival_week    3 non-null float64\n",
      "festival_name    3 non-null object\n",
      "dtypes: float64(1), int64(2), object(1)\n",
      "memory usage: 448.0+ bytes\n"
     ]
    }
   ],
   "source": [
    "df_3.info()"
   ]
  },
  {
   "cell_type": "code",
   "execution_count": 10,
   "metadata": {},
   "outputs": [
    {
     "data": {
      "text/html": [
       "<div>\n",
       "<style scoped>\n",
       "    .dataframe tbody tr th:only-of-type {\n",
       "        vertical-align: middle;\n",
       "    }\n",
       "\n",
       "    .dataframe tbody tr th {\n",
       "        vertical-align: top;\n",
       "    }\n",
       "\n",
       "    .dataframe thead th {\n",
       "        text-align: right;\n",
       "    }\n",
       "</style>\n",
       "<table border=\"1\" class=\"dataframe\">\n",
       "  <thead>\n",
       "    <tr style=\"text-align: right;\">\n",
       "      <th></th>\n",
       "      <th>week_number</th>\n",
       "      <th>ticket_amount</th>\n",
       "      <th>festival_week</th>\n",
       "    </tr>\n",
       "  </thead>\n",
       "  <tbody>\n",
       "    <tr>\n",
       "      <td>count</td>\n",
       "      <td>10.00000</td>\n",
       "      <td>10.000000</td>\n",
       "      <td>3.000000</td>\n",
       "    </tr>\n",
       "    <tr>\n",
       "      <td>mean</td>\n",
       "      <td>34.50000</td>\n",
       "      <td>50670.400000</td>\n",
       "      <td>32.333333</td>\n",
       "    </tr>\n",
       "    <tr>\n",
       "      <td>std</td>\n",
       "      <td>3.02765</td>\n",
       "      <td>2502.752716</td>\n",
       "      <td>3.214550</td>\n",
       "    </tr>\n",
       "    <tr>\n",
       "      <td>min</td>\n",
       "      <td>30.00000</td>\n",
       "      <td>43568.000000</td>\n",
       "      <td>30.000000</td>\n",
       "    </tr>\n",
       "    <tr>\n",
       "      <td>25%</td>\n",
       "      <td>32.25000</td>\n",
       "      <td>51364.500000</td>\n",
       "      <td>30.500000</td>\n",
       "    </tr>\n",
       "    <tr>\n",
       "      <td>50%</td>\n",
       "      <td>34.50000</td>\n",
       "      <td>51439.000000</td>\n",
       "      <td>31.000000</td>\n",
       "    </tr>\n",
       "    <tr>\n",
       "      <td>75%</td>\n",
       "      <td>36.75000</td>\n",
       "      <td>51596.750000</td>\n",
       "      <td>33.500000</td>\n",
       "    </tr>\n",
       "    <tr>\n",
       "      <td>max</td>\n",
       "      <td>39.00000</td>\n",
       "      <td>51675.000000</td>\n",
       "      <td>36.000000</td>\n",
       "    </tr>\n",
       "  </tbody>\n",
       "</table>\n",
       "</div>"
      ],
      "text/plain": [
       "       week_number  ticket_amount  festival_week\n",
       "count     10.00000      10.000000       3.000000\n",
       "mean      34.50000   50670.400000      32.333333\n",
       "std        3.02765    2502.752716       3.214550\n",
       "min       30.00000   43568.000000      30.000000\n",
       "25%       32.25000   51364.500000      30.500000\n",
       "50%       34.50000   51439.000000      31.000000\n",
       "75%       36.75000   51596.750000      33.500000\n",
       "max       39.00000   51675.000000      36.000000"
      ]
     },
     "execution_count": 10,
     "metadata": {},
     "output_type": "execute_result"
    }
   ],
   "source": [
    "df_3.describe()"
   ]
  },
  {
   "cell_type": "markdown",
   "metadata": {},
   "source": [
    "### Получили таблицу имеющие отсутствующие значения в столбцах номер недели фестиваля (festival_week) и в названии фестивля (festival_name). Проведем подготовку данных. Номера недели в столбце festival_week соответствуют номерам недели в столбце week_number - приравняем значения для удаления пропусков. Пропуски в названии фестиваля заменим на индикаторные значения равные 0."
   ]
  },
  {
   "cell_type": "code",
   "execution_count": 11,
   "metadata": {},
   "outputs": [],
   "source": [
    "df_3['festival_week'] = df_3['week_number'] # обработаем значения в номере недели"
   ]
  },
  {
   "cell_type": "code",
   "execution_count": 12,
   "metadata": {},
   "outputs": [],
   "source": [
    "df_3 = df_3.fillna(0) # заполним пропуски в названии фестиваля"
   ]
  },
  {
   "cell_type": "code",
   "execution_count": 13,
   "metadata": {},
   "outputs": [
    {
     "data": {
      "text/html": [
       "<div>\n",
       "<style scoped>\n",
       "    .dataframe tbody tr th:only-of-type {\n",
       "        vertical-align: middle;\n",
       "    }\n",
       "\n",
       "    .dataframe tbody tr th {\n",
       "        vertical-align: top;\n",
       "    }\n",
       "\n",
       "    .dataframe thead th {\n",
       "        text-align: right;\n",
       "    }\n",
       "</style>\n",
       "<table border=\"1\" class=\"dataframe\">\n",
       "  <thead>\n",
       "    <tr style=\"text-align: right;\">\n",
       "      <th></th>\n",
       "      <th>week_number</th>\n",
       "      <th>ticket_amount</th>\n",
       "      <th>festival_week</th>\n",
       "      <th>festival_name</th>\n",
       "    </tr>\n",
       "  </thead>\n",
       "  <tbody>\n",
       "    <tr>\n",
       "      <td>0</td>\n",
       "      <td>30</td>\n",
       "      <td>43568</td>\n",
       "      <td>30</td>\n",
       "      <td>Park Live</td>\n",
       "    </tr>\n",
       "    <tr>\n",
       "      <td>1</td>\n",
       "      <td>31</td>\n",
       "      <td>51034</td>\n",
       "      <td>31</td>\n",
       "      <td>Пикник Афиши</td>\n",
       "    </tr>\n",
       "    <tr>\n",
       "      <td>2</td>\n",
       "      <td>32</td>\n",
       "      <td>51675</td>\n",
       "      <td>32</td>\n",
       "      <td>0</td>\n",
       "    </tr>\n",
       "    <tr>\n",
       "      <td>3</td>\n",
       "      <td>33</td>\n",
       "      <td>51378</td>\n",
       "      <td>33</td>\n",
       "      <td>0</td>\n",
       "    </tr>\n",
       "    <tr>\n",
       "      <td>4</td>\n",
       "      <td>34</td>\n",
       "      <td>51492</td>\n",
       "      <td>34</td>\n",
       "      <td>0</td>\n",
       "    </tr>\n",
       "    <tr>\n",
       "      <td>5</td>\n",
       "      <td>35</td>\n",
       "      <td>51360</td>\n",
       "      <td>35</td>\n",
       "      <td>0</td>\n",
       "    </tr>\n",
       "    <tr>\n",
       "      <td>6</td>\n",
       "      <td>36</td>\n",
       "      <td>51386</td>\n",
       "      <td>36</td>\n",
       "      <td>Видфест</td>\n",
       "    </tr>\n",
       "    <tr>\n",
       "      <td>7</td>\n",
       "      <td>37</td>\n",
       "      <td>51670</td>\n",
       "      <td>37</td>\n",
       "      <td>0</td>\n",
       "    </tr>\n",
       "    <tr>\n",
       "      <td>8</td>\n",
       "      <td>38</td>\n",
       "      <td>51518</td>\n",
       "      <td>38</td>\n",
       "      <td>0</td>\n",
       "    </tr>\n",
       "    <tr>\n",
       "      <td>9</td>\n",
       "      <td>39</td>\n",
       "      <td>51623</td>\n",
       "      <td>39</td>\n",
       "      <td>0</td>\n",
       "    </tr>\n",
       "  </tbody>\n",
       "</table>\n",
       "</div>"
      ],
      "text/plain": [
       "   week_number  ticket_amount  festival_week festival_name\n",
       "0           30          43568             30     Park Live\n",
       "1           31          51034             31  Пикник Афиши\n",
       "2           32          51675             32             0\n",
       "3           33          51378             33             0\n",
       "4           34          51492             34             0\n",
       "5           35          51360             35             0\n",
       "6           36          51386             36       Видфест\n",
       "7           37          51670             37             0\n",
       "8           38          51518             38             0\n",
       "9           39          51623             39             0"
      ]
     },
     "execution_count": 13,
     "metadata": {},
     "output_type": "execute_result"
    }
   ],
   "source": [
    "df_3"
   ]
  },
  {
   "cell_type": "markdown",
   "metadata": {},
   "source": [
    "### Построим график распределения количества рейсов от модели самолета."
   ]
  },
  {
   "cell_type": "code",
   "execution_count": 14,
   "metadata": {},
   "outputs": [
    {
     "data": {
      "text/plain": [
       "(array([0, 1, 2, 3, 4, 5, 6, 7]), <a list of 8 Text xticklabel objects>)"
      ]
     },
     "execution_count": 14,
     "metadata": {},
     "output_type": "execute_result"
    },
    {
     "data": {
      "image/png": "[encoded data removed]",
      "text/plain": [
       "<Figure size 360x360 with 1 Axes>"
      ]
     },
     "metadata": {
      "needs_background": "light"
     },
     "output_type": "display_data"
    }
   ],
   "source": [
    "sns.catplot(data = df_1, x='model', y='flights_amount', kind='bar')\n",
    "plt.xticks(rotation=90)"
   ]
  },
  {
   "cell_type": "markdown",
   "metadata": {},
   "source": [
    "###  По графику видно, что максимальное количество рейсов приходится на модели Cessna 208 Caravan, Bombardier CRJ-200 и Sukhoi SuperJet-100. Данные самолеты относятся к категории ближнемагистральных. Возможно авиакомпания специализируется на внутрирегиональных перевозках, а дальние направления менее развиты."
   ]
  },
  {
   "cell_type": "markdown",
   "metadata": {},
   "source": [
    "### построим график распределения количества рейсов от города прибытия"
   ]
  },
  {
   "cell_type": "code",
   "execution_count": 15,
   "metadata": {},
   "outputs": [
    {
     "name": "stderr",
     "output_type": "stream",
     "text": [
      "/opt/conda/lib/python3.7/site-packages/seaborn/categorical.py:3692: UserWarning: The `size` paramter has been renamed to `height`; please update your code.\n",
      "  warnings.warn(msg, UserWarning)\n"
     ]
    },
    {
     "data": {
      "text/plain": [
       "(array([  0,   1,   2,   3,   4,   5,   6,   7,   8,   9,  10,  11,  12,\n",
       "         13,  14,  15,  16,  17,  18,  19,  20,  21,  22,  23,  24,  25,\n",
       "         26,  27,  28,  29,  30,  31,  32,  33,  34,  35,  36,  37,  38,\n",
       "         39,  40,  41,  42,  43,  44,  45,  46,  47,  48,  49,  50,  51,\n",
       "         52,  53,  54,  55,  56,  57,  58,  59,  60,  61,  62,  63,  64,\n",
       "         65,  66,  67,  68,  69,  70,  71,  72,  73,  74,  75,  76,  77,\n",
       "         78,  79,  80,  81,  82,  83,  84,  85,  86,  87,  88,  89,  90,\n",
       "         91,  92,  93,  94,  95,  96,  97,  98,  99, 100]),\n",
       " <a list of 101 Text xticklabel objects>)"
      ]
     },
     "execution_count": 15,
     "metadata": {},
     "output_type": "execute_result"
    },
    {
     "data": {
      "image/png": "[encoded data removed]",
      "text/plain": [
       "<Figure size 1440x1440 with 1 Axes>"
      ]
     },
     "metadata": {
      "needs_background": "light"
     },
     "output_type": "display_data"
    }
   ],
   "source": [
    "sns.catplot(data = df_2, x='city', y='average_flights', kind='bar', size=20)\n",
    "plt.xticks(rotation=90)"
   ]
  },
  {
   "cell_type": "markdown",
   "metadata": {},
   "source": [
    "### На графике заметны значительные выбросы по Москве и Санкт-Петербургу, а также менее значительные по ряду других городов\n",
    "\n",
    "### Сделаем выборку по 10 городам с наибольшим количестивом рейсов."
   ]
  },
  {
   "cell_type": "code",
   "execution_count": 16,
   "metadata": {},
   "outputs": [],
   "source": [
    "df_2_top10 = df_2.sort_values(by = 'average_flights', ascending = False).head(10)"
   ]
  },
  {
   "cell_type": "code",
   "execution_count": 17,
   "metadata": {},
   "outputs": [
    {
     "data": {
      "text/html": [
       "<div>\n",
       "<style scoped>\n",
       "    .dataframe tbody tr th:only-of-type {\n",
       "        vertical-align: middle;\n",
       "    }\n",
       "\n",
       "    .dataframe tbody tr th {\n",
       "        vertical-align: top;\n",
       "    }\n",
       "\n",
       "    .dataframe thead th {\n",
       "        text-align: right;\n",
       "    }\n",
       "</style>\n",
       "<table border=\"1\" class=\"dataframe\">\n",
       "  <thead>\n",
       "    <tr style=\"text-align: right;\">\n",
       "      <th></th>\n",
       "      <th>city</th>\n",
       "      <th>average_flights</th>\n",
       "    </tr>\n",
       "  </thead>\n",
       "  <tbody>\n",
       "    <tr>\n",
       "      <td>43</td>\n",
       "      <td>Москва</td>\n",
       "      <td>129.774194</td>\n",
       "    </tr>\n",
       "    <tr>\n",
       "      <td>70</td>\n",
       "      <td>Санкт-Петербург</td>\n",
       "      <td>31.161290</td>\n",
       "    </tr>\n",
       "    <tr>\n",
       "      <td>54</td>\n",
       "      <td>Новосибирск</td>\n",
       "      <td>17.322581</td>\n",
       "    </tr>\n",
       "    <tr>\n",
       "      <td>33</td>\n",
       "      <td>Красноярск</td>\n",
       "      <td>11.580645</td>\n",
       "    </tr>\n",
       "    <tr>\n",
       "      <td>20</td>\n",
       "      <td>Екатеринбург</td>\n",
       "      <td>11.322581</td>\n",
       "    </tr>\n",
       "    <tr>\n",
       "      <td>67</td>\n",
       "      <td>Ростов-на-Дону</td>\n",
       "      <td>10.193548</td>\n",
       "    </tr>\n",
       "    <tr>\n",
       "      <td>63</td>\n",
       "      <td>Пермь</td>\n",
       "      <td>10.129032</td>\n",
       "    </tr>\n",
       "    <tr>\n",
       "      <td>10</td>\n",
       "      <td>Брянск</td>\n",
       "      <td>10.000000</td>\n",
       "    </tr>\n",
       "    <tr>\n",
       "      <td>74</td>\n",
       "      <td>Сочи</td>\n",
       "      <td>9.612903</td>\n",
       "    </tr>\n",
       "    <tr>\n",
       "      <td>84</td>\n",
       "      <td>Ульяновск</td>\n",
       "      <td>9.580645</td>\n",
       "    </tr>\n",
       "  </tbody>\n",
       "</table>\n",
       "</div>"
      ],
      "text/plain": [
       "               city  average_flights\n",
       "43           Москва       129.774194\n",
       "70  Санкт-Петербург        31.161290\n",
       "54      Новосибирск        17.322581\n",
       "33       Красноярск        11.580645\n",
       "20     Екатеринбург        11.322581\n",
       "67   Ростов-на-Дону        10.193548\n",
       "63            Пермь        10.129032\n",
       "10           Брянск        10.000000\n",
       "74             Сочи         9.612903\n",
       "84        Ульяновск         9.580645"
      ]
     },
     "execution_count": 17,
     "metadata": {},
     "output_type": "execute_result"
    }
   ],
   "source": [
    "df_2_top10"
   ]
  },
  {
   "cell_type": "code",
   "execution_count": 18,
   "metadata": {},
   "outputs": [
    {
     "data": {
      "text/plain": [
       "(array([0, 1, 2, 3, 4, 5, 6, 7, 8, 9]), <a list of 10 Text xticklabel objects>)"
      ]
     },
     "execution_count": 18,
     "metadata": {},
     "output_type": "execute_result"
    },
    {
     "data": {
      "image/png": "[encoded data removed]",
      "text/plain": [
       "<Figure size 360x360 with 1 Axes>"
      ]
     },
     "metadata": {
      "needs_background": "light"
     },
     "output_type": "display_data"
    }
   ],
   "source": [
    "sns.catplot(data = df_2_top10, x='city', y='average_flights', kind='bar')\n",
    "plt.xticks(rotation=90)"
   ]
  },
  {
   "cell_type": "markdown",
   "metadata": {},
   "source": [
    "### По полученным данным видно наибольшее количество рейсов приходится на Москву, что вполне ожидаемо, т.к. это крупнейший транспортный хаб. Далее следуют другие крупные транспорные узлы Санкт_Петербург, Новосибирск, Красноярск, Екатеринбург и Ростов-на-Дону."
   ]
  },
  {
   "cell_type": "markdown",
   "metadata": {},
   "source": [
    "# 2. Проверка гипотезы"
   ]
  },
  {
   "cell_type": "markdown",
   "metadata": {},
   "source": [
    "### Сформулируем нулевую гипотезу как то, что средний спрос на билеты во время фестивалей не отличается от среднего спроса на билеты в обычное время. Альтернативной гипотезой установим неравенство среднего спроса. Пороговое значение alpha примем равным 5%. Так как выборки средних независимы применим метод st.ttest_ind."
   ]
  },
  {
   "cell_type": "code",
   "execution_count": 19,
   "metadata": {},
   "outputs": [],
   "source": [
    "def mean_confidence_interval(data, confidence=0.95):\n",
    "    a = 1.0*np.array(data)\n",
    "    n = len(a)\n",
    "    m, se = np.mean(a), scipy.stats.sem(a)\n",
    "    h = se * sp.stats.t._ppf((1+confidence)/2., n-1)\n",
    "    return m, m-h, m+h "
   ]
  },
  {
   "cell_type": "code",
   "execution_count": 20,
   "metadata": {},
   "outputs": [],
   "source": [
    "# создадим выборки в зависимости от наличия фестиваля в неделе\n",
    "data_1 = df_3.query('festival_name == 0')['ticket_amount']\n",
    "data_2 = df_3.query('festival_name != 0')['ticket_amount']"
   ]
  },
  {
   "cell_type": "code",
   "execution_count": 21,
   "metadata": {},
   "outputs": [
    {
     "name": "stdout",
     "output_type": "stream",
     "text": [
      "14694.408163265309\n",
      "12998464.888888888\n"
     ]
    }
   ],
   "source": [
    "# оценим диспарсии выборок если они не равны, то применим equal_var=False\n",
    "print(np.var(data_1))\n",
    "print(np.var(data_2))\n"
   ]
  },
  {
   "cell_type": "code",
   "execution_count": 22,
   "metadata": {},
   "outputs": [
    {
     "name": "stdout",
     "output_type": "stream",
     "text": [
      "p-значение 0.377432493172683\n",
      "Не получилось отвергнуть нулевую гипотезу\n",
      "\n",
      "среднее количество проданых билетов в неделю \n",
      " с фестивалями с доверительными интервалами (51530.857142857145, 51409.764223837876, 51651.950061876414)\n",
      "среднее количество проданых билетов в неделю \n",
      " без фестивалей с доверительными интервалами (48662.666666666664, 37693.65924921319, 59631.67408412014)\n"
     ]
    }
   ],
   "source": [
    "# установим параметр alpha равным 0,05\n",
    "alpha = 0.05\n",
    "results = st.ttest_ind(data_1, data_2, equal_var=False)\n",
    "print('p-значение',results.pvalue)\n",
    "if (results.pvalue < alpha):\n",
    "    print('Отвергаем нулевую гипотезу')\n",
    "else:\n",
    "    print('Не получилось отвергнуть нулевую гипотезу')\n",
    "print()\n",
    "print('среднее количество проданых билетов в неделю \\n с фестивалями с доверительными интервалами',\n",
    "      mean_confidence_interval(data_1))\n",
    "print('среднее количество проданых билетов в неделю \\n без фестивалей с доверительными интервалами',\n",
    "      mean_confidence_interval(data_2))"
   ]
  },
  {
   "cell_type": "markdown",
   "metadata": {},
   "source": [
    "### Учитывая то, что выборки очень малы  (общее количество наблюдений равно 10), попробуем применить U-тест Манна-Уитни. Хотя для того чтобы тест был эффективным, требуется не менее 20 наблюдений в каждой выборке данных. "
   ]
  },
  {
   "cell_type": "code",
   "execution_count": 23,
   "metadata": {},
   "outputs": [],
   "source": [
    "from scipy.stats import mannwhitneyu"
   ]
  },
  {
   "cell_type": "code",
   "execution_count": 25,
   "metadata": {},
   "outputs": [
    {
     "name": "stdout",
     "output_type": "stream",
     "text": [
      "U-статистика=2.000, p-значение=0.034\n"
     ]
    }
   ],
   "source": [
    "stat, p = mannwhitneyu(data_1, data_2)\n",
    "print('U-статистика=%.3f, p-значение=%.3f' % (stat, p))"
   ]
  },
  {
   "cell_type": "markdown",
   "metadata": {},
   "source": [
    "### На основании проведеной проверки гипотезы с помощью  метода  U-тестом Манна-Уитни сравним полученое значение с табличным  https://docs.scipy.org/doc/scipy/reference/generated/scipy.stats.ttest_ind.html. Для значений размеров выборок 3 и 7 табличное значение равно 1, а полученое равно 2. Следовательно нет достаточных оснований для отклонения нулевой гипотезы."
   ]
  }
 ],
 "metadata": {
  "kernelspec": {
   "display_name": "Python 3",
   "language": "python",
   "name": "python3"
  },
  "language_info": {
   "codemirror_mode": {
    "name": "ipython",
    "version": 3
   },
   "file_extension": ".py",
   "mimetype": "text/x-python",
   "name": "python",
   "nbconvert_exporter": "python",
   "pygments_lexer": "ipython3",
   "version": "3.7.6"
  }
 },
 "nbformat": 4,
 "nbformat_minor": 2
}
