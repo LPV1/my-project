{
 "cells": [
  {
   "cell_type": "markdown",
   "metadata": {},
   "source": [
    "# Определение перспективного тарифа для телеком компании\n",
    "### В проводимом иследовании предстоит сделать предварительный анализ тарифов на небольшой выборке клиентов. В распоряжении данные 500 пользователей «Мегалайна»: кто они, откуда, каким тарифом пользуются, сколько звонков и сообщений каждый отправил за 2018 год. Нужно проанализировать поведение клиентов и сделать вывод — какой тариф лучше."
   ]
  },
  {
   "cell_type": "code",
   "execution_count": 1,
   "metadata": {},
   "outputs": [],
   "source": [
    "import pandas as pd\n",
    "import matplotlib.pyplot as plt\n",
    "import random\n",
    "import math as mt\n",
    "from scipy import stats as st \n",
    "from math import factorial\n",
    "import numpy as np\n",
    "import datetime\n",
    "from functools import reduce\n",
    "import seaborn as sns"
   ]
  },
  {
   "cell_type": "markdown",
   "metadata": {},
   "source": [
    "## Откроем файлы с данными"
   ]
  },
  {
   "cell_type": "code",
   "execution_count": 2,
   "metadata": {},
   "outputs": [],
   "source": [
    "data_calls = pd.read_csv('/datasets/calls.csv')\n",
    "data_internet = pd.read_csv('/datasets/internet.csv')\n",
    "data_messagers = pd.read_csv('/datasets/messages.csv')\n",
    "data_tariffs = pd.read_csv('/datasets/tariffs.csv')\n",
    "data_users = pd.read_csv('/datasets/users.csv')"
   ]
  },
  {
   "cell_type": "markdown",
   "metadata": {},
   "source": [
    "## Изучим общюю информацию "
   ]
  },
  {
   "cell_type": "code",
   "execution_count": 3,
   "metadata": {},
   "outputs": [
    {
     "name": "stdout",
     "output_type": "stream",
     "text": [
      "<class 'pandas.core.frame.DataFrame'>\n",
      "RangeIndex: 202607 entries, 0 to 202606\n",
      "Data columns (total 4 columns):\n",
      "id           202607 non-null object\n",
      "call_date    202607 non-null object\n",
      "duration     202607 non-null float64\n",
      "user_id      202607 non-null int64\n",
      "dtypes: float64(1), int64(1), object(2)\n",
      "memory usage: 6.2+ MB\n",
      "None\n"
     ]
    },
    {
     "data": {
      "text/html": [
       "<div>\n",
       "<style scoped>\n",
       "    .dataframe tbody tr th:only-of-type {\n",
       "        vertical-align: middle;\n",
       "    }\n",
       "\n",
       "    .dataframe tbody tr th {\n",
       "        vertical-align: top;\n",
       "    }\n",
       "\n",
       "    .dataframe thead th {\n",
       "        text-align: right;\n",
       "    }\n",
       "</style>\n",
       "<table border=\"1\" class=\"dataframe\">\n",
       "  <thead>\n",
       "    <tr style=\"text-align: right;\">\n",
       "      <th></th>\n",
       "      <th>id</th>\n",
       "      <th>month</th>\n",
       "      <th>duration</th>\n",
       "      <th>user_id</th>\n",
       "    </tr>\n",
       "  </thead>\n",
       "  <tbody>\n",
       "    <tr>\n",
       "      <td>0</td>\n",
       "      <td>1000_0</td>\n",
       "      <td>2018-07-25</td>\n",
       "      <td>0.00</td>\n",
       "      <td>1000</td>\n",
       "    </tr>\n",
       "    <tr>\n",
       "      <td>1</td>\n",
       "      <td>1000_1</td>\n",
       "      <td>2018-08-17</td>\n",
       "      <td>0.00</td>\n",
       "      <td>1000</td>\n",
       "    </tr>\n",
       "    <tr>\n",
       "      <td>2</td>\n",
       "      <td>1000_2</td>\n",
       "      <td>2018-06-11</td>\n",
       "      <td>2.85</td>\n",
       "      <td>1000</td>\n",
       "    </tr>\n",
       "    <tr>\n",
       "      <td>3</td>\n",
       "      <td>1000_3</td>\n",
       "      <td>2018-09-21</td>\n",
       "      <td>13.80</td>\n",
       "      <td>1000</td>\n",
       "    </tr>\n",
       "    <tr>\n",
       "      <td>4</td>\n",
       "      <td>1000_4</td>\n",
       "      <td>2018-12-15</td>\n",
       "      <td>5.18</td>\n",
       "      <td>1000</td>\n",
       "    </tr>\n",
       "  </tbody>\n",
       "</table>\n",
       "</div>"
      ],
      "text/plain": [
       "       id       month  duration  user_id\n",
       "0  1000_0  2018-07-25      0.00     1000\n",
       "1  1000_1  2018-08-17      0.00     1000\n",
       "2  1000_2  2018-06-11      2.85     1000\n",
       "3  1000_3  2018-09-21     13.80     1000\n",
       "4  1000_4  2018-12-15      5.18     1000"
      ]
     },
     "execution_count": 3,
     "metadata": {},
     "output_type": "execute_result"
    }
   ],
   "source": [
    "print(data_calls.info())\n",
    "data_calls.columns = data_calls.columns.str.replace('call_date','month') \n",
    "data_calls.head(5)"
   ]
  },
  {
   "cell_type": "markdown",
   "metadata": {},
   "source": [
    "### Таблица data_calls (информация о звонках): id — уникальный номер звонка; call_date — дата звонка; duration — длительность звонка в минутах;  user_id — идентификатор пользователя, сделавшего звонок"
   ]
  },
  {
   "cell_type": "code",
   "execution_count": 4,
   "metadata": {},
   "outputs": [
    {
     "name": "stdout",
     "output_type": "stream",
     "text": [
      "<class 'pandas.core.frame.DataFrame'>\n",
      "RangeIndex: 149396 entries, 0 to 149395\n",
      "Data columns (total 4 columns):\n",
      "id              149396 non-null object\n",
      "mb_used         149396 non-null float64\n",
      "session_date    149396 non-null object\n",
      "user_id         149396 non-null int64\n",
      "dtypes: float64(1), int64(1), object(2)\n",
      "memory usage: 4.6+ MB\n",
      "None\n"
     ]
    },
    {
     "data": {
      "text/html": [
       "<div>\n",
       "<style scoped>\n",
       "    .dataframe tbody tr th:only-of-type {\n",
       "        vertical-align: middle;\n",
       "    }\n",
       "\n",
       "    .dataframe tbody tr th {\n",
       "        vertical-align: top;\n",
       "    }\n",
       "\n",
       "    .dataframe thead th {\n",
       "        text-align: right;\n",
       "    }\n",
       "</style>\n",
       "<table border=\"1\" class=\"dataframe\">\n",
       "  <thead>\n",
       "    <tr style=\"text-align: right;\">\n",
       "      <th></th>\n",
       "      <th>id</th>\n",
       "      <th>mb_used</th>\n",
       "      <th>month</th>\n",
       "      <th>user_id</th>\n",
       "    </tr>\n",
       "  </thead>\n",
       "  <tbody>\n",
       "    <tr>\n",
       "      <td>0</td>\n",
       "      <td>1000_0</td>\n",
       "      <td>112.95</td>\n",
       "      <td>2018-11-25</td>\n",
       "      <td>1000</td>\n",
       "    </tr>\n",
       "    <tr>\n",
       "      <td>1</td>\n",
       "      <td>1000_1</td>\n",
       "      <td>1052.81</td>\n",
       "      <td>2018-09-07</td>\n",
       "      <td>1000</td>\n",
       "    </tr>\n",
       "    <tr>\n",
       "      <td>2</td>\n",
       "      <td>1000_2</td>\n",
       "      <td>1197.26</td>\n",
       "      <td>2018-06-25</td>\n",
       "      <td>1000</td>\n",
       "    </tr>\n",
       "    <tr>\n",
       "      <td>3</td>\n",
       "      <td>1000_3</td>\n",
       "      <td>550.27</td>\n",
       "      <td>2018-08-22</td>\n",
       "      <td>1000</td>\n",
       "    </tr>\n",
       "    <tr>\n",
       "      <td>4</td>\n",
       "      <td>1000_4</td>\n",
       "      <td>302.56</td>\n",
       "      <td>2018-09-24</td>\n",
       "      <td>1000</td>\n",
       "    </tr>\n",
       "  </tbody>\n",
       "</table>\n",
       "</div>"
      ],
      "text/plain": [
       "       id  mb_used       month  user_id\n",
       "0  1000_0   112.95  2018-11-25     1000\n",
       "1  1000_1  1052.81  2018-09-07     1000\n",
       "2  1000_2  1197.26  2018-06-25     1000\n",
       "3  1000_3   550.27  2018-08-22     1000\n",
       "4  1000_4   302.56  2018-09-24     1000"
      ]
     },
     "execution_count": 4,
     "metadata": {},
     "output_type": "execute_result"
    }
   ],
   "source": [
    "print(data_internet.info())\n",
    "data_internet.columns = data_internet.columns.str.replace('session_date','month') \n",
    "data_internet.head(5)"
   ]
  },
  {
   "cell_type": "markdown",
   "metadata": {},
   "source": [
    "### Таблица data_internet (информация об интернет-сессиях): id — уникальный номер сессии; mb_used — объём потраченного за сессию интернет-трафика (в мегабайтах); session_date — дата интернет-сессии; user_id — идентификатор пользователя"
   ]
  },
  {
   "cell_type": "code",
   "execution_count": 5,
   "metadata": {},
   "outputs": [
    {
     "name": "stdout",
     "output_type": "stream",
     "text": [
      "<class 'pandas.core.frame.DataFrame'>\n",
      "RangeIndex: 123036 entries, 0 to 123035\n",
      "Data columns (total 3 columns):\n",
      "id              123036 non-null object\n",
      "message_date    123036 non-null object\n",
      "user_id         123036 non-null int64\n",
      "dtypes: int64(1), object(2)\n",
      "memory usage: 2.8+ MB\n",
      "None\n"
     ]
    },
    {
     "data": {
      "text/html": [
       "<div>\n",
       "<style scoped>\n",
       "    .dataframe tbody tr th:only-of-type {\n",
       "        vertical-align: middle;\n",
       "    }\n",
       "\n",
       "    .dataframe tbody tr th {\n",
       "        vertical-align: top;\n",
       "    }\n",
       "\n",
       "    .dataframe thead th {\n",
       "        text-align: right;\n",
       "    }\n",
       "</style>\n",
       "<table border=\"1\" class=\"dataframe\">\n",
       "  <thead>\n",
       "    <tr style=\"text-align: right;\">\n",
       "      <th></th>\n",
       "      <th>id</th>\n",
       "      <th>month</th>\n",
       "      <th>user_id</th>\n",
       "    </tr>\n",
       "  </thead>\n",
       "  <tbody>\n",
       "    <tr>\n",
       "      <td>0</td>\n",
       "      <td>1000_0</td>\n",
       "      <td>2018-06-27</td>\n",
       "      <td>1000</td>\n",
       "    </tr>\n",
       "    <tr>\n",
       "      <td>1</td>\n",
       "      <td>1000_1</td>\n",
       "      <td>2018-10-08</td>\n",
       "      <td>1000</td>\n",
       "    </tr>\n",
       "    <tr>\n",
       "      <td>2</td>\n",
       "      <td>1000_2</td>\n",
       "      <td>2018-08-04</td>\n",
       "      <td>1000</td>\n",
       "    </tr>\n",
       "    <tr>\n",
       "      <td>3</td>\n",
       "      <td>1000_3</td>\n",
       "      <td>2018-06-16</td>\n",
       "      <td>1000</td>\n",
       "    </tr>\n",
       "    <tr>\n",
       "      <td>4</td>\n",
       "      <td>1000_4</td>\n",
       "      <td>2018-12-05</td>\n",
       "      <td>1000</td>\n",
       "    </tr>\n",
       "  </tbody>\n",
       "</table>\n",
       "</div>"
      ],
      "text/plain": [
       "       id       month  user_id\n",
       "0  1000_0  2018-06-27     1000\n",
       "1  1000_1  2018-10-08     1000\n",
       "2  1000_2  2018-08-04     1000\n",
       "3  1000_3  2018-06-16     1000\n",
       "4  1000_4  2018-12-05     1000"
      ]
     },
     "execution_count": 5,
     "metadata": {},
     "output_type": "execute_result"
    }
   ],
   "source": [
    "print(data_messagers.info())\n",
    "data_messagers.columns = data_messagers.columns.str.replace('message_date','month') \n",
    "data_messagers.head(5)"
   ]
  },
  {
   "cell_type": "markdown",
   "metadata": {},
   "source": [
    "### Таблица data_messages (информация о сообщениях): id — уникальный номер сообщения; message_date — дата сообщения; user_id — идентификатор пользователя, отправившего сообщение"
   ]
  },
  {
   "cell_type": "code",
   "execution_count": 6,
   "metadata": {},
   "outputs": [
    {
     "name": "stdout",
     "output_type": "stream",
     "text": [
      "<class 'pandas.core.frame.DataFrame'>\n",
      "RangeIndex: 2 entries, 0 to 1\n",
      "Data columns (total 8 columns):\n",
      "messages_included        2 non-null int64\n",
      "mg_per_month_included    2 non-null int64\n",
      "minutes_included         2 non-null int64\n",
      "rub_monthly_fee          2 non-null int64\n",
      "rub_per_gb               2 non-null int64\n",
      "rub_per_message          2 non-null int64\n",
      "rub_per_minute           2 non-null int64\n",
      "tariff_name              2 non-null object\n",
      "dtypes: int64(7), object(1)\n",
      "memory usage: 256.0+ bytes\n",
      "None\n"
     ]
    },
    {
     "data": {
      "text/html": [
       "<div>\n",
       "<style scoped>\n",
       "    .dataframe tbody tr th:only-of-type {\n",
       "        vertical-align: middle;\n",
       "    }\n",
       "\n",
       "    .dataframe tbody tr th {\n",
       "        vertical-align: top;\n",
       "    }\n",
       "\n",
       "    .dataframe thead th {\n",
       "        text-align: right;\n",
       "    }\n",
       "</style>\n",
       "<table border=\"1\" class=\"dataframe\">\n",
       "  <thead>\n",
       "    <tr style=\"text-align: right;\">\n",
       "      <th></th>\n",
       "      <th>messages_included</th>\n",
       "      <th>mg_per_month_included</th>\n",
       "      <th>minutes_included</th>\n",
       "      <th>rub_monthly_fee</th>\n",
       "      <th>rub_per_gb</th>\n",
       "      <th>rub_per_message</th>\n",
       "      <th>rub_per_minute</th>\n",
       "      <th>tariff_name</th>\n",
       "    </tr>\n",
       "  </thead>\n",
       "  <tbody>\n",
       "    <tr>\n",
       "      <td>0</td>\n",
       "      <td>50</td>\n",
       "      <td>15360</td>\n",
       "      <td>500</td>\n",
       "      <td>550</td>\n",
       "      <td>200</td>\n",
       "      <td>3</td>\n",
       "      <td>3</td>\n",
       "      <td>smart</td>\n",
       "    </tr>\n",
       "    <tr>\n",
       "      <td>1</td>\n",
       "      <td>1000</td>\n",
       "      <td>30720</td>\n",
       "      <td>3000</td>\n",
       "      <td>1950</td>\n",
       "      <td>150</td>\n",
       "      <td>1</td>\n",
       "      <td>1</td>\n",
       "      <td>ultra</td>\n",
       "    </tr>\n",
       "  </tbody>\n",
       "</table>\n",
       "</div>"
      ],
      "text/plain": [
       "   messages_included  mg_per_month_included  minutes_included  \\\n",
       "0                 50                  15360               500   \n",
       "1               1000                  30720              3000   \n",
       "\n",
       "   rub_monthly_fee  rub_per_gb  rub_per_message  rub_per_minute tariff_name  \n",
       "0              550         200                3               3       smart  \n",
       "1             1950         150                1               1       ultra  "
      ]
     },
     "execution_count": 6,
     "metadata": {},
     "output_type": "execute_result"
    }
   ],
   "source": [
    "print(data_tariffs.info())\n",
    "data_tariffs.head(5)"
   ]
  },
  {
   "cell_type": "markdown",
   "metadata": {},
   "source": [
    "### Таблица data_tariffs (информация о тарифах): tariff_name — название тарифа; rub_monthly_fee — ежемесячная абонентская плата в рублях; minutes_included — количество минут разговора в месяц, включённых в абонентскую плату ; messages_included — количество сообщений в месяц, включённых в абонентскую плату; mb_per_month_included — объём интернет-трафика, включённого в абонентскую плату (в мегабайтах); rub_per_minute — стоимость минуты разговора сверх тарифного пакета (например, если в тарифе 100 минут разговора в месяц, то со 101 минуты будет взиматься плата); rub_per_message — стоимость отправки сообщения сверх тарифного пакета; rub_per_gb — стоимость дополнительного гигабайта интернет-трафика сверх тарифного пакета (1 гигабайт = 1024 мегабайта)"
   ]
  },
  {
   "cell_type": "code",
   "execution_count": 7,
   "metadata": {},
   "outputs": [
    {
     "name": "stdout",
     "output_type": "stream",
     "text": [
      "<class 'pandas.core.frame.DataFrame'>\n",
      "RangeIndex: 500 entries, 0 to 499\n",
      "Data columns (total 8 columns):\n",
      "user_id       500 non-null int64\n",
      "age           500 non-null int64\n",
      "churn_date    38 non-null object\n",
      "city          500 non-null object\n",
      "first_name    500 non-null object\n",
      "last_name     500 non-null object\n",
      "reg_date      500 non-null object\n",
      "tariff        500 non-null object\n",
      "dtypes: int64(2), object(6)\n",
      "memory usage: 31.4+ KB\n",
      "None\n"
     ]
    },
    {
     "data": {
      "text/html": [
       "<div>\n",
       "<style scoped>\n",
       "    .dataframe tbody tr th:only-of-type {\n",
       "        vertical-align: middle;\n",
       "    }\n",
       "\n",
       "    .dataframe tbody tr th {\n",
       "        vertical-align: top;\n",
       "    }\n",
       "\n",
       "    .dataframe thead th {\n",
       "        text-align: right;\n",
       "    }\n",
       "</style>\n",
       "<table border=\"1\" class=\"dataframe\">\n",
       "  <thead>\n",
       "    <tr style=\"text-align: right;\">\n",
       "      <th></th>\n",
       "      <th>user_id</th>\n",
       "      <th>age</th>\n",
       "      <th>churn_date</th>\n",
       "      <th>city</th>\n",
       "      <th>first_name</th>\n",
       "      <th>last_name</th>\n",
       "      <th>reg_date</th>\n",
       "      <th>tariff</th>\n",
       "    </tr>\n",
       "  </thead>\n",
       "  <tbody>\n",
       "    <tr>\n",
       "      <td>0</td>\n",
       "      <td>1000</td>\n",
       "      <td>52</td>\n",
       "      <td>NaN</td>\n",
       "      <td>Краснодар</td>\n",
       "      <td>Рафаил</td>\n",
       "      <td>Верещагин</td>\n",
       "      <td>2018-05-25</td>\n",
       "      <td>ultra</td>\n",
       "    </tr>\n",
       "    <tr>\n",
       "      <td>1</td>\n",
       "      <td>1001</td>\n",
       "      <td>41</td>\n",
       "      <td>NaN</td>\n",
       "      <td>Москва</td>\n",
       "      <td>Иван</td>\n",
       "      <td>Ежов</td>\n",
       "      <td>2018-11-01</td>\n",
       "      <td>smart</td>\n",
       "    </tr>\n",
       "    <tr>\n",
       "      <td>2</td>\n",
       "      <td>1002</td>\n",
       "      <td>59</td>\n",
       "      <td>NaN</td>\n",
       "      <td>Стерлитамак</td>\n",
       "      <td>Евгений</td>\n",
       "      <td>Абрамович</td>\n",
       "      <td>2018-06-17</td>\n",
       "      <td>smart</td>\n",
       "    </tr>\n",
       "    <tr>\n",
       "      <td>3</td>\n",
       "      <td>1003</td>\n",
       "      <td>23</td>\n",
       "      <td>NaN</td>\n",
       "      <td>Москва</td>\n",
       "      <td>Белла</td>\n",
       "      <td>Белякова</td>\n",
       "      <td>2018-08-17</td>\n",
       "      <td>ultra</td>\n",
       "    </tr>\n",
       "    <tr>\n",
       "      <td>4</td>\n",
       "      <td>1004</td>\n",
       "      <td>68</td>\n",
       "      <td>NaN</td>\n",
       "      <td>Новокузнецк</td>\n",
       "      <td>Татьяна</td>\n",
       "      <td>Авдеенко</td>\n",
       "      <td>2018-05-14</td>\n",
       "      <td>ultra</td>\n",
       "    </tr>\n",
       "  </tbody>\n",
       "</table>\n",
       "</div>"
      ],
      "text/plain": [
       "   user_id  age churn_date         city first_name  last_name    reg_date  \\\n",
       "0     1000   52        NaN    Краснодар     Рафаил  Верещагин  2018-05-25   \n",
       "1     1001   41        NaN       Москва       Иван       Ежов  2018-11-01   \n",
       "2     1002   59        NaN  Стерлитамак    Евгений  Абрамович  2018-06-17   \n",
       "3     1003   23        NaN       Москва      Белла   Белякова  2018-08-17   \n",
       "4     1004   68        NaN  Новокузнецк    Татьяна   Авдеенко  2018-05-14   \n",
       "\n",
       "  tariff  \n",
       "0  ultra  \n",
       "1  smart  \n",
       "2  smart  \n",
       "3  ultra  \n",
       "4  ultra  "
      ]
     },
     "execution_count": 7,
     "metadata": {},
     "output_type": "execute_result"
    }
   ],
   "source": [
    "print(data_users.info())\n",
    "data_users.head(5)"
   ]
  },
  {
   "cell_type": "markdown",
   "metadata": {},
   "source": [
    "### Таблица data_users (информация о пользователях): user_id — уникальный идентификатор пользователя; first_name — имя пользователя; last_name — фамилия пользователя; age — возраст пользователя (годы); reg_date — дата подключения тарифа (день, месяц, год); churn_date — дата прекращения пользования тарифом (если значение пропущено, то тариф ещё действовал на момент выгрузки данных); city — город проживания пользователя; tariff — название тарифного плана"
   ]
  },
  {
   "cell_type": "markdown",
   "metadata": {},
   "source": [
    "### изучая полученую информации можно отметить, что в основном предоставленны данные хорошего качества позволяющее не производить предобработку. За исключением data_users где имеются пропуски в столбце \"churn_date — дата прекращения пользования тарифом\". А также нулевые значения data_calls в столбце \"duration — длительность звонка в минутах\". \n",
    "\n",
    "### NaN в churn_date - отсутствие значений показывает на действие тарифа на момент выгрузки, заменим на индикаторные значения (-1)\n",
    "\n",
    "### Нулевые значения в duration указывают на длительность звонка равную 0.0 минут, но при этом учтеную в тарификации, вероятнее всего это был так называемый \"недозвон\" обработанный оператором связи эквивалентно 1 минуте разговора, поэтому заменим нулевые значения на (1)\n",
    "### Переведем имеющиеся данные со значением даеы в формат даты и выделим обозначение месяца\n",
    "### Переведем данные об интернет трафике из мегобайтов в гигабайты и вследствии того, что при тарификации услуг оператор связи округляет в верх значение использованных минут и гигабайтов - округлим указанные значения в данных"
   ]
  },
  {
   "cell_type": "code",
   "execution_count": 8,
   "metadata": {},
   "outputs": [],
   "source": [
    "# заполнение пропусков churn_date на -1\n",
    "data_users['churn_date'] = data_users['churn_date'].fillna(-1)\n",
    "# заменна нулевых значений duration на 1\n",
    "data_calls['duration'] = data_calls['duration'].replace(0, 1)"
   ]
  },
  {
   "cell_type": "code",
   "execution_count": 9,
   "metadata": {},
   "outputs": [],
   "source": [
    "# приведем разное наименование столбцов содержащих наименование месяца к одному названию\n",
    "data_messagers.columns = data_messagers.columns.str.replace('message_date','month') \n",
    "data_internet.columns = data_internet.columns.str.replace('session_date','month') \n",
    "data_calls.columns = data_calls.columns.str.replace('call_date','month') "
   ]
  },
  {
   "cell_type": "code",
   "execution_count": 10,
   "metadata": {},
   "outputs": [],
   "source": [
    "# переведем значения во всех таблицах, где используются даты - в формат даты \n",
    "data_users['reg_date'] = pd.to_datetime(data_users['reg_date'], format='%Y.%m.%d')\n",
    "data_messagers['month'] = pd.to_datetime(data_messagers['month'], format='%Y.%m.%d')\n",
    "data_internet['month'] = pd.to_datetime(data_internet['month'], format='%Y.%m.%d')\n",
    "data_calls['month'] = pd.to_datetime(data_calls['month'], format='%Y.%m.%d')"
   ]
  },
  {
   "cell_type": "code",
   "execution_count": 11,
   "metadata": {},
   "outputs": [],
   "source": [
    "# для дальнейшей обработки информации будет использоватся только месяц - оставим в столбце дата только месяц\n",
    "data_users['reg_date'] =  data_users['reg_date'].dt.strftime('%m')\n",
    "data_messagers['month'] =  data_messagers['month'].dt.strftime('%m')\n",
    "data_internet['month'] =  data_internet['month'].dt.strftime('%m')\n",
    "data_calls['month'] =  data_calls['month'].dt.strftime('%m')"
   ]
  },
  {
   "cell_type": "code",
   "execution_count": 12,
   "metadata": {},
   "outputs": [],
   "source": [
    "# переведем мегабайты в гигабайты (/1024)\n",
    "#for n in range(len(data_internet['user_id'])):\n",
    "data_internet['mb_used'] = data_internet['mb_used'] / 1024"
   ]
  },
  {
   "cell_type": "code",
   "execution_count": 13,
   "metadata": {},
   "outputs": [],
   "source": [
    "# округлим в большую сторону\n",
    "data_calls['duration'] = np.ceil(data_calls['duration'])\n",
    "data_internet['mb_used'] = np.ceil(data_internet['mb_used'])"
   ]
  },
  {
   "cell_type": "markdown",
   "metadata": {},
   "source": [
    "## Посчитаем для каждого пользователя :\n",
    "## - количество сделанных звонков и израсходованных минут разговора по месяцам\n",
    "## - количество отправленных сообщений по месяцам\n",
    "## - объем израсходованного интернет-трафика по месяцам\n",
    "## - помесячную выручку с каждого пользователя (вычтите бесплатный лимит из суммарного количества звонков, сообщений и интернет-трафика; остаток умножьте на значение из тарифного плана; прибавьте абонентскую плату, соответствующую тарифному плану)"
   ]
  },
  {
   "cell_type": "code",
   "execution_count": 14,
   "metadata": {},
   "outputs": [
    {
     "data": {
      "text/html": [
       "<div>\n",
       "<style scoped>\n",
       "    .dataframe tbody tr th:only-of-type {\n",
       "        vertical-align: middle;\n",
       "    }\n",
       "\n",
       "    .dataframe tbody tr th {\n",
       "        vertical-align: top;\n",
       "    }\n",
       "\n",
       "    .dataframe thead th {\n",
       "        text-align: right;\n",
       "    }\n",
       "</style>\n",
       "<table border=\"1\" class=\"dataframe\">\n",
       "  <thead>\n",
       "    <tr style=\"text-align: right;\">\n",
       "      <th></th>\n",
       "      <th>user_id</th>\n",
       "      <th>month</th>\n",
       "      <th>duration</th>\n",
       "    </tr>\n",
       "  </thead>\n",
       "  <tbody>\n",
       "    <tr>\n",
       "      <td>0</td>\n",
       "      <td>1000</td>\n",
       "      <td>05</td>\n",
       "      <td>22</td>\n",
       "    </tr>\n",
       "    <tr>\n",
       "      <td>1</td>\n",
       "      <td>1000</td>\n",
       "      <td>06</td>\n",
       "      <td>43</td>\n",
       "    </tr>\n",
       "    <tr>\n",
       "      <td>2</td>\n",
       "      <td>1000</td>\n",
       "      <td>07</td>\n",
       "      <td>47</td>\n",
       "    </tr>\n",
       "    <tr>\n",
       "      <td>3</td>\n",
       "      <td>1000</td>\n",
       "      <td>08</td>\n",
       "      <td>52</td>\n",
       "    </tr>\n",
       "    <tr>\n",
       "      <td>4</td>\n",
       "      <td>1000</td>\n",
       "      <td>09</td>\n",
       "      <td>58</td>\n",
       "    </tr>\n",
       "  </tbody>\n",
       "</table>\n",
       "</div>"
      ],
      "text/plain": [
       "   user_id month  duration\n",
       "0     1000    05        22\n",
       "1     1000    06        43\n",
       "2     1000    07        47\n",
       "3     1000    08        52\n",
       "4     1000    09        58"
      ]
     },
     "execution_count": 14,
     "metadata": {},
     "output_type": "execute_result"
    }
   ],
   "source": [
    "# подсчет количества использованных минут по месяцам для каждого пользователя\n",
    "data_calls_count = data_calls.pivot_table(index=('user_id','month'), values='duration', \n",
    "                                        aggfunc=('count')).reset_index()\n",
    "data_calls_count.head(5)"
   ]
  },
  {
   "cell_type": "code",
   "execution_count": 15,
   "metadata": {},
   "outputs": [
    {
     "data": {
      "text/html": [
       "<div>\n",
       "<style scoped>\n",
       "    .dataframe tbody tr th:only-of-type {\n",
       "        vertical-align: middle;\n",
       "    }\n",
       "\n",
       "    .dataframe tbody tr th {\n",
       "        vertical-align: top;\n",
       "    }\n",
       "\n",
       "    .dataframe thead th {\n",
       "        text-align: right;\n",
       "    }\n",
       "</style>\n",
       "<table border=\"1\" class=\"dataframe\">\n",
       "  <thead>\n",
       "    <tr style=\"text-align: right;\">\n",
       "      <th></th>\n",
       "      <th>user_id</th>\n",
       "      <th>month</th>\n",
       "      <th>duration</th>\n",
       "    </tr>\n",
       "  </thead>\n",
       "  <tbody>\n",
       "    <tr>\n",
       "      <td>0</td>\n",
       "      <td>1000</td>\n",
       "      <td>05</td>\n",
       "      <td>164.0</td>\n",
       "    </tr>\n",
       "    <tr>\n",
       "      <td>1</td>\n",
       "      <td>1000</td>\n",
       "      <td>06</td>\n",
       "      <td>187.0</td>\n",
       "    </tr>\n",
       "    <tr>\n",
       "      <td>2</td>\n",
       "      <td>1000</td>\n",
       "      <td>07</td>\n",
       "      <td>346.0</td>\n",
       "    </tr>\n",
       "    <tr>\n",
       "      <td>3</td>\n",
       "      <td>1000</td>\n",
       "      <td>08</td>\n",
       "      <td>418.0</td>\n",
       "    </tr>\n",
       "    <tr>\n",
       "      <td>4</td>\n",
       "      <td>1000</td>\n",
       "      <td>09</td>\n",
       "      <td>478.0</td>\n",
       "    </tr>\n",
       "  </tbody>\n",
       "</table>\n",
       "</div>"
      ],
      "text/plain": [
       "   user_id month  duration\n",
       "0     1000    05     164.0\n",
       "1     1000    06     187.0\n",
       "2     1000    07     346.0\n",
       "3     1000    08     418.0\n",
       "4     1000    09     478.0"
      ]
     },
     "execution_count": 15,
     "metadata": {},
     "output_type": "execute_result"
    }
   ],
   "source": [
    "# подсчет суммы использованных минут по месяцам для каждого пользователя\n",
    "data_calls_sum = data_calls.pivot_table(index=('user_id', 'month'), values='duration', \n",
    "                                        aggfunc=('sum')).reset_index()\n",
    "data_calls_sum.head(5)"
   ]
  },
  {
   "cell_type": "code",
   "execution_count": 16,
   "metadata": {},
   "outputs": [
    {
     "data": {
      "text/html": [
       "<div>\n",
       "<style scoped>\n",
       "    .dataframe tbody tr th:only-of-type {\n",
       "        vertical-align: middle;\n",
       "    }\n",
       "\n",
       "    .dataframe tbody tr th {\n",
       "        vertical-align: top;\n",
       "    }\n",
       "\n",
       "    .dataframe thead th {\n",
       "        text-align: right;\n",
       "    }\n",
       "</style>\n",
       "<table border=\"1\" class=\"dataframe\">\n",
       "  <thead>\n",
       "    <tr style=\"text-align: right;\">\n",
       "      <th></th>\n",
       "      <th>user_id</th>\n",
       "      <th>month</th>\n",
       "      <th>id</th>\n",
       "    </tr>\n",
       "  </thead>\n",
       "  <tbody>\n",
       "    <tr>\n",
       "      <td>0</td>\n",
       "      <td>1000</td>\n",
       "      <td>05</td>\n",
       "      <td>22</td>\n",
       "    </tr>\n",
       "    <tr>\n",
       "      <td>1</td>\n",
       "      <td>1000</td>\n",
       "      <td>06</td>\n",
       "      <td>60</td>\n",
       "    </tr>\n",
       "    <tr>\n",
       "      <td>2</td>\n",
       "      <td>1000</td>\n",
       "      <td>07</td>\n",
       "      <td>75</td>\n",
       "    </tr>\n",
       "    <tr>\n",
       "      <td>3</td>\n",
       "      <td>1000</td>\n",
       "      <td>08</td>\n",
       "      <td>81</td>\n",
       "    </tr>\n",
       "    <tr>\n",
       "      <td>4</td>\n",
       "      <td>1000</td>\n",
       "      <td>09</td>\n",
       "      <td>57</td>\n",
       "    </tr>\n",
       "  </tbody>\n",
       "</table>\n",
       "</div>"
      ],
      "text/plain": [
       "   user_id month  id\n",
       "0     1000    05  22\n",
       "1     1000    06  60\n",
       "2     1000    07  75\n",
       "3     1000    08  81\n",
       "4     1000    09  57"
      ]
     },
     "execution_count": 16,
     "metadata": {},
     "output_type": "execute_result"
    }
   ],
   "source": [
    "# подсчет суммы отправленных сообщений по месяцам для каждого пользователя\n",
    "data_messagers_count = data_messagers.pivot_table(index=('user_id','month'), values='id',\n",
    "                                                  aggfunc=('count')).reset_index()\n",
    "data_messagers_count.head(5)"
   ]
  },
  {
   "cell_type": "code",
   "execution_count": 17,
   "metadata": {},
   "outputs": [
    {
     "data": {
      "text/html": [
       "<div>\n",
       "<style scoped>\n",
       "    .dataframe tbody tr th:only-of-type {\n",
       "        vertical-align: middle;\n",
       "    }\n",
       "\n",
       "    .dataframe tbody tr th {\n",
       "        vertical-align: top;\n",
       "    }\n",
       "\n",
       "    .dataframe thead th {\n",
       "        text-align: right;\n",
       "    }\n",
       "</style>\n",
       "<table border=\"1\" class=\"dataframe\">\n",
       "  <thead>\n",
       "    <tr style=\"text-align: right;\">\n",
       "      <th></th>\n",
       "      <th>user_id</th>\n",
       "      <th>month</th>\n",
       "      <th>mb_used</th>\n",
       "    </tr>\n",
       "  </thead>\n",
       "  <tbody>\n",
       "    <tr>\n",
       "      <td>0</td>\n",
       "      <td>1000</td>\n",
       "      <td>05</td>\n",
       "      <td>4.0</td>\n",
       "    </tr>\n",
       "    <tr>\n",
       "      <td>1</td>\n",
       "      <td>1000</td>\n",
       "      <td>06</td>\n",
       "      <td>49.0</td>\n",
       "    </tr>\n",
       "    <tr>\n",
       "      <td>2</td>\n",
       "      <td>1000</td>\n",
       "      <td>07</td>\n",
       "      <td>28.0</td>\n",
       "    </tr>\n",
       "    <tr>\n",
       "      <td>3</td>\n",
       "      <td>1000</td>\n",
       "      <td>08</td>\n",
       "      <td>27.0</td>\n",
       "    </tr>\n",
       "    <tr>\n",
       "      <td>4</td>\n",
       "      <td>1000</td>\n",
       "      <td>09</td>\n",
       "      <td>26.0</td>\n",
       "    </tr>\n",
       "  </tbody>\n",
       "</table>\n",
       "</div>"
      ],
      "text/plain": [
       "   user_id month  mb_used\n",
       "0     1000    05      4.0\n",
       "1     1000    06     49.0\n",
       "2     1000    07     28.0\n",
       "3     1000    08     27.0\n",
       "4     1000    09     26.0"
      ]
     },
     "execution_count": 17,
     "metadata": {},
     "output_type": "execute_result"
    }
   ],
   "source": [
    "# подсчет суммы использованных интернее-трафика по месяцам для каждого пользователя\n",
    "data_internet_sum = data_internet.pivot_table(index=('user_id','month'), values='mb_used', \n",
    "                                              aggfunc=('sum')).reset_index()\n",
    "data_internet_sum.head(5)"
   ]
  },
  {
   "cell_type": "code",
   "execution_count": 18,
   "metadata": {},
   "outputs": [
    {
     "data": {
      "text/html": [
       "<div>\n",
       "<style scoped>\n",
       "    .dataframe tbody tr th:only-of-type {\n",
       "        vertical-align: middle;\n",
       "    }\n",
       "\n",
       "    .dataframe tbody tr th {\n",
       "        vertical-align: top;\n",
       "    }\n",
       "\n",
       "    .dataframe thead th {\n",
       "        text-align: right;\n",
       "    }\n",
       "</style>\n",
       "<table border=\"1\" class=\"dataframe\">\n",
       "  <thead>\n",
       "    <tr style=\"text-align: right;\">\n",
       "      <th></th>\n",
       "      <th>user_id</th>\n",
       "      <th>month</th>\n",
       "      <th>duration</th>\n",
       "      <th>id</th>\n",
       "      <th>mb_used</th>\n",
       "      <th>age</th>\n",
       "      <th>churn_date</th>\n",
       "      <th>city</th>\n",
       "      <th>first_name</th>\n",
       "      <th>last_name</th>\n",
       "      <th>reg_date</th>\n",
       "      <th>tariff</th>\n",
       "    </tr>\n",
       "  </thead>\n",
       "  <tbody>\n",
       "    <tr>\n",
       "      <td>0</td>\n",
       "      <td>1000</td>\n",
       "      <td>05</td>\n",
       "      <td>164.0</td>\n",
       "      <td>22.0</td>\n",
       "      <td>4.0</td>\n",
       "      <td>52</td>\n",
       "      <td>-1</td>\n",
       "      <td>Краснодар</td>\n",
       "      <td>Рафаил</td>\n",
       "      <td>Верещагин</td>\n",
       "      <td>05</td>\n",
       "      <td>ultra</td>\n",
       "    </tr>\n",
       "    <tr>\n",
       "      <td>1</td>\n",
       "      <td>1000</td>\n",
       "      <td>06</td>\n",
       "      <td>187.0</td>\n",
       "      <td>60.0</td>\n",
       "      <td>49.0</td>\n",
       "      <td>52</td>\n",
       "      <td>-1</td>\n",
       "      <td>Краснодар</td>\n",
       "      <td>Рафаил</td>\n",
       "      <td>Верещагин</td>\n",
       "      <td>05</td>\n",
       "      <td>ultra</td>\n",
       "    </tr>\n",
       "    <tr>\n",
       "      <td>2</td>\n",
       "      <td>1000</td>\n",
       "      <td>07</td>\n",
       "      <td>346.0</td>\n",
       "      <td>75.0</td>\n",
       "      <td>28.0</td>\n",
       "      <td>52</td>\n",
       "      <td>-1</td>\n",
       "      <td>Краснодар</td>\n",
       "      <td>Рафаил</td>\n",
       "      <td>Верещагин</td>\n",
       "      <td>05</td>\n",
       "      <td>ultra</td>\n",
       "    </tr>\n",
       "    <tr>\n",
       "      <td>3</td>\n",
       "      <td>1000</td>\n",
       "      <td>08</td>\n",
       "      <td>418.0</td>\n",
       "      <td>81.0</td>\n",
       "      <td>27.0</td>\n",
       "      <td>52</td>\n",
       "      <td>-1</td>\n",
       "      <td>Краснодар</td>\n",
       "      <td>Рафаил</td>\n",
       "      <td>Верещагин</td>\n",
       "      <td>05</td>\n",
       "      <td>ultra</td>\n",
       "    </tr>\n",
       "    <tr>\n",
       "      <td>4</td>\n",
       "      <td>1000</td>\n",
       "      <td>09</td>\n",
       "      <td>478.0</td>\n",
       "      <td>57.0</td>\n",
       "      <td>26.0</td>\n",
       "      <td>52</td>\n",
       "      <td>-1</td>\n",
       "      <td>Краснодар</td>\n",
       "      <td>Рафаил</td>\n",
       "      <td>Верещагин</td>\n",
       "      <td>05</td>\n",
       "      <td>ultra</td>\n",
       "    </tr>\n",
       "  </tbody>\n",
       "</table>\n",
       "</div>"
      ],
      "text/plain": [
       "   user_id month  duration    id  mb_used  age churn_date       city  \\\n",
       "0     1000    05     164.0  22.0      4.0   52         -1  Краснодар   \n",
       "1     1000    06     187.0  60.0     49.0   52         -1  Краснодар   \n",
       "2     1000    07     346.0  75.0     28.0   52         -1  Краснодар   \n",
       "3     1000    08     418.0  81.0     27.0   52         -1  Краснодар   \n",
       "4     1000    09     478.0  57.0     26.0   52         -1  Краснодар   \n",
       "\n",
       "  first_name  last_name reg_date tariff  \n",
       "0     Рафаил  Верещагин       05  ultra  \n",
       "1     Рафаил  Верещагин       05  ultra  \n",
       "2     Рафаил  Верещагин       05  ultra  \n",
       "3     Рафаил  Верещагин       05  ultra  \n",
       "4     Рафаил  Верещагин       05  ultra  "
      ]
     },
     "execution_count": 18,
     "metadata": {},
     "output_type": "execute_result"
    }
   ],
   "source": [
    "# объеденим таблицы\n",
    "dfs = [data_calls_sum, data_messagers_count, data_internet_sum, data_users]\n",
    "data_main = reduce(lambda left,right: pd.merge(left, right, how='outer'), dfs)\n",
    "data_main.head(5)"
   ]
  },
  {
   "cell_type": "code",
   "execution_count": 19,
   "metadata": {},
   "outputs": [],
   "source": [
    "# создадим функцию для обработки таблиц в соответствии с тарифным планом\n",
    "def rub_pack(row):\n",
    "    try:\n",
    "        if row['tariff'] == 'ultra':\n",
    "            call, mg, messeng, rub_ms, rub_mg,  price = 3000, 30, 1000, 1, 150, 1950\n",
    "        elif row['tariff'] == 'smart':\n",
    "            call, mg, messeng, rub_ms, rub_mg,  price = 500, 15, 50, 3, 200, 550\n",
    "        minut = row['duration'] - call\n",
    "        sms = row['id'] - messeng\n",
    "        mg_lim = row['mb_used'] - mg\n",
    "        \n",
    "        call_pay = max(minut * rub_ms, 0)\n",
    "        sms_pay = max(sms * rub_ms, 0)\n",
    "        mb_pay = max(mg_lim * rub_mg, 0)\n",
    "         \n",
    "        return (call_pay + sms_pay + mb_pay + price)        \n",
    "    except:\n",
    "        0"
   ]
  },
  {
   "cell_type": "code",
   "execution_count": 20,
   "metadata": {},
   "outputs": [
    {
     "data": {
      "text/html": [
       "<div>\n",
       "<style scoped>\n",
       "    .dataframe tbody tr th:only-of-type {\n",
       "        vertical-align: middle;\n",
       "    }\n",
       "\n",
       "    .dataframe tbody tr th {\n",
       "        vertical-align: top;\n",
       "    }\n",
       "\n",
       "    .dataframe thead th {\n",
       "        text-align: right;\n",
       "    }\n",
       "</style>\n",
       "<table border=\"1\" class=\"dataframe\">\n",
       "  <thead>\n",
       "    <tr style=\"text-align: right;\">\n",
       "      <th></th>\n",
       "      <th>user_id</th>\n",
       "      <th>month</th>\n",
       "      <th>duration</th>\n",
       "      <th>id</th>\n",
       "      <th>mb_used</th>\n",
       "      <th>age</th>\n",
       "      <th>churn_date</th>\n",
       "      <th>city</th>\n",
       "      <th>first_name</th>\n",
       "      <th>last_name</th>\n",
       "      <th>reg_date</th>\n",
       "      <th>tariff</th>\n",
       "      <th>revenue</th>\n",
       "    </tr>\n",
       "  </thead>\n",
       "  <tbody>\n",
       "    <tr>\n",
       "      <td>0</td>\n",
       "      <td>1000</td>\n",
       "      <td>05</td>\n",
       "      <td>164.0</td>\n",
       "      <td>22.0</td>\n",
       "      <td>4.0</td>\n",
       "      <td>52</td>\n",
       "      <td>-1</td>\n",
       "      <td>Краснодар</td>\n",
       "      <td>Рафаил</td>\n",
       "      <td>Верещагин</td>\n",
       "      <td>05</td>\n",
       "      <td>ultra</td>\n",
       "      <td>1950.0</td>\n",
       "    </tr>\n",
       "    <tr>\n",
       "      <td>1</td>\n",
       "      <td>1000</td>\n",
       "      <td>06</td>\n",
       "      <td>187.0</td>\n",
       "      <td>60.0</td>\n",
       "      <td>49.0</td>\n",
       "      <td>52</td>\n",
       "      <td>-1</td>\n",
       "      <td>Краснодар</td>\n",
       "      <td>Рафаил</td>\n",
       "      <td>Верещагин</td>\n",
       "      <td>05</td>\n",
       "      <td>ultra</td>\n",
       "      <td>4800.0</td>\n",
       "    </tr>\n",
       "    <tr>\n",
       "      <td>2</td>\n",
       "      <td>1000</td>\n",
       "      <td>07</td>\n",
       "      <td>346.0</td>\n",
       "      <td>75.0</td>\n",
       "      <td>28.0</td>\n",
       "      <td>52</td>\n",
       "      <td>-1</td>\n",
       "      <td>Краснодар</td>\n",
       "      <td>Рафаил</td>\n",
       "      <td>Верещагин</td>\n",
       "      <td>05</td>\n",
       "      <td>ultra</td>\n",
       "      <td>1950.0</td>\n",
       "    </tr>\n",
       "    <tr>\n",
       "      <td>3</td>\n",
       "      <td>1000</td>\n",
       "      <td>08</td>\n",
       "      <td>418.0</td>\n",
       "      <td>81.0</td>\n",
       "      <td>27.0</td>\n",
       "      <td>52</td>\n",
       "      <td>-1</td>\n",
       "      <td>Краснодар</td>\n",
       "      <td>Рафаил</td>\n",
       "      <td>Верещагин</td>\n",
       "      <td>05</td>\n",
       "      <td>ultra</td>\n",
       "      <td>1950.0</td>\n",
       "    </tr>\n",
       "    <tr>\n",
       "      <td>4</td>\n",
       "      <td>1000</td>\n",
       "      <td>09</td>\n",
       "      <td>478.0</td>\n",
       "      <td>57.0</td>\n",
       "      <td>26.0</td>\n",
       "      <td>52</td>\n",
       "      <td>-1</td>\n",
       "      <td>Краснодар</td>\n",
       "      <td>Рафаил</td>\n",
       "      <td>Верещагин</td>\n",
       "      <td>05</td>\n",
       "      <td>ultra</td>\n",
       "      <td>1950.0</td>\n",
       "    </tr>\n",
       "  </tbody>\n",
       "</table>\n",
       "</div>"
      ],
      "text/plain": [
       "   user_id month  duration    id  mb_used  age churn_date       city  \\\n",
       "0     1000    05     164.0  22.0      4.0   52         -1  Краснодар   \n",
       "1     1000    06     187.0  60.0     49.0   52         -1  Краснодар   \n",
       "2     1000    07     346.0  75.0     28.0   52         -1  Краснодар   \n",
       "3     1000    08     418.0  81.0     27.0   52         -1  Краснодар   \n",
       "4     1000    09     478.0  57.0     26.0   52         -1  Краснодар   \n",
       "\n",
       "  first_name  last_name reg_date tariff  revenue  \n",
       "0     Рафаил  Верещагин       05  ultra   1950.0  \n",
       "1     Рафаил  Верещагин       05  ultra   4800.0  \n",
       "2     Рафаил  Верещагин       05  ultra   1950.0  \n",
       "3     Рафаил  Верещагин       05  ultra   1950.0  \n",
       "4     Рафаил  Верещагин       05  ultra   1950.0  "
      ]
     },
     "execution_count": 20,
     "metadata": {},
     "output_type": "execute_result"
    }
   ],
   "source": [
    "# подсчет стоимости платежа в месяц с учетом расходов сверх тарифного лимита\n",
    "data_main['revenue'] = data_main.apply(rub_pack, axis=1)\n",
    "\n",
    "data_main.head(5)"
   ]
  },
  {
   "cell_type": "markdown",
   "metadata": {},
   "source": [
    "## Расмотрим сколько минут разговора, сколько сообщений и какой объём интернет-трафика требуется пользователям каждого тарифа в месяц? Посчитаем среднее количество, дисперсию и стандартное отклонение. Построим гистограммы и опишим распределения."
   ]
  },
  {
   "cell_type": "code",
   "execution_count": 21,
   "metadata": {},
   "outputs": [
    {
     "data": {
      "text/html": [
       "<div>\n",
       "<style scoped>\n",
       "    .dataframe tbody tr th:only-of-type {\n",
       "        vertical-align: middle;\n",
       "    }\n",
       "\n",
       "    .dataframe tbody tr th {\n",
       "        vertical-align: top;\n",
       "    }\n",
       "\n",
       "    .dataframe thead th {\n",
       "        text-align: right;\n",
       "    }\n",
       "</style>\n",
       "<table border=\"1\" class=\"dataframe\">\n",
       "  <thead>\n",
       "    <tr style=\"text-align: right;\">\n",
       "      <th></th>\n",
       "      <th>duration</th>\n",
       "      <th>id</th>\n",
       "      <th>mb_used</th>\n",
       "      <th>revenue</th>\n",
       "    </tr>\n",
       "    <tr>\n",
       "      <th>tariff</th>\n",
       "      <th></th>\n",
       "      <th></th>\n",
       "      <th></th>\n",
       "      <th></th>\n",
       "    </tr>\n",
       "  </thead>\n",
       "  <tbody>\n",
       "    <tr>\n",
       "      <td>smart</td>\n",
       "      <td>430.609987</td>\n",
       "      <td>38.716441</td>\n",
       "      <td>42.437163</td>\n",
       "      <td>6283.831854</td>\n",
       "    </tr>\n",
       "    <tr>\n",
       "      <td>ultra</td>\n",
       "      <td>560.113565</td>\n",
       "      <td>61.161006</td>\n",
       "      <td>38.555897</td>\n",
       "      <td>3828.789894</td>\n",
       "    </tr>\n",
       "  </tbody>\n",
       "</table>\n",
       "</div>"
      ],
      "text/plain": [
       "          duration         id    mb_used      revenue\n",
       "tariff                                               \n",
       "smart   430.609987  38.716441  42.437163  6283.831854\n",
       "ultra   560.113565  61.161006  38.555897  3828.789894"
      ]
     },
     "execution_count": 21,
     "metadata": {},
     "output_type": "execute_result"
    }
   ],
   "source": [
    "# среднее количество  по месяцам в соответствии с тарифным планом\n",
    "data_mean = data_main.pivot_table(index = 'tariff',  values = ('duration', 'id', 'mb_used', 'revenue'), aggfunc ='mean')\n",
    "data_mean"
   ]
  },
  {
   "cell_type": "markdown",
   "metadata": {},
   "source": [
    "### расчитаем дисперсию параметров "
   ]
  },
  {
   "cell_type": "code",
   "execution_count": 22,
   "metadata": {},
   "outputs": [
    {
     "name": "stdout",
     "output_type": "stream",
     "text": [
      "дисперсия количества минут = 59495.224385573696\n"
     ]
    }
   ],
   "source": [
    "# расчет дисперсии использованных минут \n",
    "var_minut = np.var(data_main['duration'], ddof = 1)\n",
    "print('дисперсия количества минут', '=', var_minut)"
   ]
  },
  {
   "cell_type": "code",
   "execution_count": 23,
   "metadata": {},
   "outputs": [
    {
     "name": "stdout",
     "output_type": "stream",
     "text": [
      "дисперсия количества сообщений = 1228.5980170128298\n"
     ]
    }
   ],
   "source": [
    "# расчет дисперсии количества сообщений \n",
    "var_sms = np.var(data_main['id'], ddof = 1)\n",
    "print('дисперсия количества сообщений', '=', var_sms)"
   ]
  },
  {
   "cell_type": "code",
   "execution_count": 24,
   "metadata": {},
   "outputs": [
    {
     "name": "stdout",
     "output_type": "stream",
     "text": [
      "дисперсия объема интернет-трафика = 271.0360972877746\n"
     ]
    }
   ],
   "source": [
    "# расчет дисперсии количества гигабайт по месяцам\n",
    "var_mb = np.var(data_main['mb_used'], ddof = 1)\n",
    "print('дисперсия объема интернет-трафика', '=', var_mb)"
   ]
  },
  {
   "cell_type": "markdown",
   "metadata": {},
   "source": [
    "### расчитаем стандартное отклонение параметров "
   ]
  },
  {
   "cell_type": "code",
   "execution_count": 25,
   "metadata": {},
   "outputs": [
    {
     "name": "stdout",
     "output_type": "stream",
     "text": [
      "стандартное отклонение количества минут = 243.91642910139058\n"
     ]
    }
   ],
   "source": [
    "# расчет стандартного отклонения количества минут\n",
    "std_minut = np.std(data_main['duration'], ddof = 1)\n",
    "print('стандартное отклонение количества минут', '=', std_minut)"
   ]
  },
  {
   "cell_type": "code",
   "execution_count": 26,
   "metadata": {},
   "outputs": [
    {
     "name": "stdout",
     "output_type": "stream",
     "text": [
      "стандартное отклонение количества сообщений = 35.051362555724275\n"
     ]
    }
   ],
   "source": [
    "# расчет стандартного отклонения количества сообщений по месяцам\n",
    "std_sms = np.std(data_main['id'], ddof = 1)\n",
    "print('стандартное отклонение количества сообщений', '=', std_sms)"
   ]
  },
  {
   "cell_type": "code",
   "execution_count": 27,
   "metadata": {},
   "outputs": [
    {
     "name": "stdout",
     "output_type": "stream",
     "text": [
      "стандартное отклонение объема интернет-трафика = 16.46317397368365\n"
     ]
    }
   ],
   "source": [
    "# расчет стандартного отклонения гигабайт \n",
    "std_mb = np.std(data_main['mb_used'], ddof = 1)\n",
    "print('стандартное отклонение объема интернет-трафика', '=', std_mb)"
   ]
  },
  {
   "cell_type": "markdown",
   "metadata": {},
   "source": [
    "### Расматривая средние показатели по сумме использованных минут, количествы отправленных сообщений и объема интернет трафика можно заметить:\n",
    "### - Среднее количество минут разговора по тарифу smart составляет 430.6, а по тарифу ultra  560.1. Стандартное отколонение составило 243. 92. По тарифу ultra пользователи значительно активнее исползуют для связи звонки. \n",
    "### - Среднее количество сообщений по тарифу smart составило 38.7, а по тарифу ultra  61.2. Стандартное отколонение составило 35.05. Ситуация аналогична предыдущему параметру - пользователи тарифа ultpa более активны\n",
    "### - Средний объём интернет-трафика по тарифу smart составил 42.4, а по тарифу ultra  38.6.Стандартное отколонение составило 16.46.  В данном случае показатели свидетельствуют о возникновении обратного соотношения по сравнению с использованием минут и сообщений \n",
    "### Рассматривая полученные данные можно предположить, что пользователи выбравшие тариф smart с большей вероятностью не выходят за границы лимита предусмотренного тарифным планом по показателям использованных минут и количества сообщений, в тоже время они значительно превысили порговое значение по использованным гигабайтам интернет трафика. Эта ситуация вероятно возникла по причине неверной оценки потребности по объему услуг пользователями на момент выбора тарифа.  Напротив пользователи тарифа ultra более взвешено подошли к выбору тарифа, отсутствует превышения лимита по показателям использованных минут и количества сообщений  при более активном использований услуг, а превышение объема гигабайтов включенных в тариф менеее значительно по сравнения с предыдущим тарифом. "
   ]
  },
  {
   "cell_type": "markdown",
   "metadata": {},
   "source": [
    "### построим гистограмы распределения параметров по месяцам"
   ]
  },
  {
   "cell_type": "code",
   "execution_count": 28,
   "metadata": {},
   "outputs": [
    {
     "data": {
      "image/png": "[encoded data removed]",
      "text/plain": [
       "<Figure size 576x216 with 1 Axes>"
      ]
     },
     "metadata": {
      "needs_background": "light"
     },
     "output_type": "display_data"
    }
   ],
   "source": [
    "# построение гистограмм объема гигобайтов \n",
    "data_main['mb_used'].hist(bins=100, figsize = (8,3))\n",
    "plt.ylabel('частота ')\n",
    "plt.xlabel('объем гигобайт')\n",
    "plt.title('гистограмма распределения использованных гигабайт')\n",
    "plt.show()"
   ]
  },
  {
   "cell_type": "code",
   "execution_count": 29,
   "metadata": {},
   "outputs": [
    {
     "data": {
      "image/png": "[encoded data removed]",
      "text/plain": [
       "<Figure size 576x216 with 1 Axes>"
      ]
     },
     "metadata": {
      "needs_background": "light"
     },
     "output_type": "display_data"
    }
   ],
   "source": [
    "# построение сообщений количества минут по месяцам\n",
    "data_main['duration'].hist(bins=100, figsize = (8,3))\n",
    "plt.ylabel('частота')\n",
    "plt.xlabel('количество минут')\n",
    "plt.show()"
   ]
  },
  {
   "cell_type": "code",
   "execution_count": 30,
   "metadata": {},
   "outputs": [
    {
     "data": {
      "image/png": "[encoded data removed]",
      "text/plain": [
       "<Figure size 576x216 with 1 Axes>"
      ]
     },
     "metadata": {
      "needs_background": "light"
     },
     "output_type": "display_data"
    }
   ],
   "source": [
    "# построение гистограм сообщений \n",
    "data_main['id'].hist(bins=100, figsize = (8,3))\n",
    "plt.ylabel('частота ')\n",
    "plt.xlabel('количество сообщений')\n",
    "plt.title('гистограмма распределения использованных сообщений')\n",
    "plt.show()"
   ]
  },
  {
   "cell_type": "markdown",
   "metadata": {},
   "source": [
    "### Расмотрим гистограммы распределения:\n",
    "### Так для параметра количества минут и объема гигабайтов распределение близко к нормальному и в основном пользователи используют от 200 до 750 минут и 20 до 60 гигобайт. Для параметра количество сообщений распределение близко к распределению Пуасона, наибольшее рапостранение имеют количество сообщений от 1 до 75."
   ]
  },
  {
   "cell_type": "markdown",
   "metadata": {},
   "source": [
    "## Проверим гипотезы:\n",
    "### средняя выручка пользователей тарифов «Ультра» и «Смарт» различается;\n",
    "### средняя выручка пользователей из Москвы отличается от выручки пользователей из других регионов;\n"
   ]
  },
  {
   "cell_type": "markdown",
   "metadata": {},
   "source": [
    "### Сформулируем нулевую гипотезу как то, что средняя выручка пользователей тарифов ultra и smart равна между собой. Альтернативной гипотезой установим неравенство средней выручки по тарифам. Пороговое значение alpha  примем равным 5%. Так как выборки средних независимы применим метод st.ttest_ind."
   ]
  },
  {
   "cell_type": "code",
   "execution_count": 31,
   "metadata": {},
   "outputs": [
    {
     "name": "stdout",
     "output_type": "stream",
     "text": [
      "p-значение nan\n",
      "Не получилось отвергнуть нулевую гипотезу\n"
     ]
    }
   ],
   "source": [
    "# проверка гипотезы\n",
    "q = data_main.query('tariff == \"smart\"')['revenue']                 \n",
    "w = data_main.query('tariff == \"ultra\"')['revenue'] \n",
    "alpha = 0.05\n",
    "results = st.ttest_ind(q, w)\n",
    "print('p-значение',results.pvalue)\n",
    "if (results.pvalue < alpha):\n",
    "    print('Отвергаем нулевую гипотезу')\n",
    "else:\n",
    "    print('Не получилось отвергнуть нулевую гипотезу')\n"
   ]
  },
  {
   "cell_type": "markdown",
   "metadata": {},
   "source": [
    "### На основании проведеного иследования у нас имеются основания отвергнуть нулевую гипотезу"
   ]
  },
  {
   "cell_type": "markdown",
   "metadata": {},
   "source": [
    "### Сформулируем нулевую гипотезу как то, что средняя выручка пользователей тарифов проживающих в Москве и других регионах равна между собой. Альтернативной гипотезой установим неравенство средней выручки в зависимости от региона проживания. Пороговое значение alpha  примем равным 5%. Так как выборки средних независимы применим метод st.ttest_ind. "
   ]
  },
  {
   "cell_type": "code",
   "execution_count": 32,
   "metadata": {},
   "outputs": [
    {
     "name": "stdout",
     "output_type": "stream",
     "text": [
      "p-значение nan\n",
      "Не получилось отвергнуть нулевую гипотезу\n"
     ]
    }
   ],
   "source": [
    "# проверка гипотезы\n",
    "q = data_main.query('city == \"Москва\"')['revenue']                 \n",
    "w = data_main.query('city != \"Москва\"')['revenue'] \n",
    "alpha = 0.05\n",
    "results = st.ttest_ind(q, w)\n",
    "print('p-значение',results.pvalue)\n",
    "if (results.pvalue < alpha):\n",
    "    print('Отвергаем нулевую гипотезу')\n",
    "else:\n",
    "    print('Не получилось отвергнуть нулевую гипотезу')"
   ]
  },
  {
   "cell_type": "markdown",
   "metadata": {},
   "source": [
    "### На основании проведеного иследования у нас нет достаточных оснований отвергнуть нулевую гипотезу"
   ]
  },
  {
   "cell_type": "markdown",
   "metadata": {},
   "source": [
    "### На основании проведеного исследования можно сделать следующие выводы. Расматривая средние показатели по сумме использованных минут, количествы отправленных сообщений и объема интернет трафика можно заметить: Среднее количество минут разговора по тарифу smart составляет 430.6, а по тарифу ultra  560.1. Стандартное отколонение составило 243. 92. По тарифу ultra пользователи значительно активнее исползуют для связи звонки. Среднее количество сообщений по тарифу smart составило 38.7, а по тарифу ultra  61.2. Стандартное отколонение составило 35.05. Ситуация аналогична предыдущему параметру - пользователи тарифа ultpa более активны. Средний объём интернет-трафика по тарифу smart составил 42.4, а по тарифу ultra  38.6.Стандартное отколонение составило 16.46.  В данном случае показатели свидетельствуют о возникновении обратного соотношения по сравнению с использованием минут и сообщений. Рассматривая полученные данные можно предположить, что пользователи выбравшие тариф smart с большей вероятностью не выходят за границы лимита предусмотренного тарифным планом по показателям использованных минут и количества сообщений, в тоже время они значительно превысили порговое значение по использованным гигабайтам интернет трафика. Эта ситуация вероятно возникла по причине неверной оценки потребности по объему услуг пользователями на момент выбора тарифа.  Напротив пользователи тарифа ultra более взвешено подошли к выбору тарифа, отсутствует превышения лимита по показателям использованных минут и количества сообщений  при более активном использований услугб а превышение обема гигабайтов включенных в тариф менеее значительно по сравнения с предыдущим тарифом.  Распределение показателей: количесто минут и сообщений, объем гигобайтов. Так для параметра количества минут и объема гигабайтов распределение близко к нормальному и в основном пользователи используют от 200 до 750 минут и 20 до 60 гигобайт. Для параметра количество сообщений распределение близко к распределению Пуасона, наибольшее распостранение имеют количество сообщений от 1 до 75. Также была расмотрена гипотеза о различие средней выручки по тарифам и в зависимости от региона проживания. Исследование  дало возможности подтвердить гипотезу о разнице среденй выручки в зависимости от тарифа. Гипотиза о разнице расходов в зависимости от региона проживания не подтвердилась. \n",
    "### На основании проведенного анализа можно утверждать превышение выручки по тарифу smart над тарифом ultra в основном за счет дополнительных трат клиентов на сверхлимитный объем гигобайтов интернет трафика. Так среднее значение по выборочным данным для тарифа smart составило 6261.49, а для тарифф ultra 3842.49"
   ]
  }
 ],
 "metadata": {
  "kernelspec": {
   "display_name": "Python 3",
   "language": "python",
   "name": "python3"
  },
  "language_info": {
   "codemirror_mode": {
    "name": "ipython",
    "version": 3
   },
   "file_extension": ".py",
   "mimetype": "text/x-python",
   "name": "python",
   "nbconvert_exporter": "python",
   "pygments_lexer": "ipython3",
   "version": "3.7.4"
  }
 },
 "nbformat": 4,
 "nbformat_minor": 2
}
